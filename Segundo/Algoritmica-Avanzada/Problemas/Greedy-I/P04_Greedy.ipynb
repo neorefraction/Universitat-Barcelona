{
 "cells": [
  {
   "cell_type": "markdown",
   "metadata": {},
   "source": [
    "<div style=\"padding:30px; color: white; background-color: #0071CD\">\n",
    "<center>\n",
    "<h1>Algorísmica Avançada</h1>\n",
    "<h2>Problemes 4 - Greedy</h2>\n",
    "</center>\n",
    "</div>"
   ]
  },
  {
   "cell_type": "code",
   "execution_count": 1,
   "metadata": {},
   "outputs": [
    {
     "data": {
      "text/html": [
       "<style>.container { width:100% !important; }</style>"
      ],
      "text/plain": [
       "<IPython.core.display.HTML object>"
      ]
     },
     "metadata": {},
     "output_type": "display_data"
    }
   ],
   "source": [
    "from IPython.display import display, HTML\n",
    "display(HTML(\"<style>.container { width:100% !important; }</style>\"))"
   ]
  },
  {
   "cell_type": "markdown",
   "metadata": {},
   "source": [
    "<div class=\"alert alert-success\">\n",
    "    <h1>Problema 1: Retornar el canvi</h1>\n",
    "    <p>\n",
    "        Escriu un algorisme que, donat un preu $X$ i un pagament $P$, en euros, ens retorni el canvi. És a dir, quants bitllets i quantes monedes de cada valor cal retornar.<br><br>\n",
    "        Exemple:<br>\n",
    "        A l'executar <b>change(30.75, 40)</b> ha de retornar la llista [(5,1),(2,2),(0.20,1),(0.05,1)] ja que hem de retornar 1 bitllet de 5 euros, 2 monedes de 2 euros, 1 moneda de 20 cèntims i 1 moneda de 5 cèntims.\n",
    "    </p>    \n",
    "    \n",
    "</div>"
   ]
  },
  {
   "cell_type": "code",
   "execution_count": 46,
   "metadata": {},
   "outputs": [],
   "source": [
    "from collections import defaultdict\n",
    "\n",
    "def change(X, P, coins = [.01, .02, .05, .1, .2, .5, 1, 2, 5, 10, 20, 50, 100, 200, 500]):\n",
    "    \"\"\"\n",
    "    Soluciona el problema de retornar el canvi.\n",
    "    \n",
    "    Params\n",
    "    ======\n",
    "    :X: Preu \n",
    "    :P: Pagament. Ha de ser superior o igual a X.\n",
    "    :coins: Llista de monedes o bitllets de la moneda que estiguem considerant. Per defecte, euros.\n",
    "    \n",
    "    Returns\n",
    "    =======\n",
    "    :lst: Llista de monedes o bitllets i la quantitat de cada un d'ells amb el format següent. lst = [(value, quantity)] on:\n",
    "        :value: és un valor existent dins la llista 'coins'\n",
    "        :quantity: és el nombre de monedes/bitllets amb valor 'value'.\n",
    "    \n",
    "    \"\"\"\n",
    "\n",
    "    # Comprobem que el pagament sigui correcte\n",
    "    if P < X:\n",
    "        print(\"Diners insuficients\")\n",
    "        return lst\n",
    "\n",
    "    difference = P - X  # Calculamos la diferencia\n",
    "\n",
    "    solution = defaultdict(int) # Inicializamos el diccionario de solución\n",
    "\n",
    "    i = len(coins) - 1  # Comenzamos por la moneda mas grande\n",
    "\n",
    "    # Calculamos el cambio mientras haya moneda para realizar el cambio\n",
    "    while difference > coins[0]:\n",
    "\n",
    "        # Buscamos una moneda que sea menor que la diferencia\n",
    "        while coins[i] > difference:\n",
    "            i -= 1\n",
    "\n",
    "        # Añadimos la moneda al cambio\n",
    "        solution[coins[i]] += 1\n",
    "        \n",
    "        # Restamos el valor de la moneda al cambio y redondeamos para evitar errores de precisión\n",
    "        difference = round(difference - coins[i], 2)\n",
    "\n",
    "    return list(solution.items())  # Devolvemos la solución en forma de lista"
   ]
  },
  {
   "cell_type": "code",
   "execution_count": 45,
   "metadata": {},
   "outputs": [
    {
     "name": "stdout",
     "output_type": "stream",
     "text": [
      "1.84 µs ± 7.76 ns per loop (mean ± std. dev. of 7 runs, 1,000,000 loops each)\n"
     ]
    }
   ],
   "source": [
    "%timeit change(30.75, 40) # Retorna: [(5, 1), (2, 2), (0.2, 1), (0.05, 1)]"
   ]
  },
  {
   "cell_type": "code",
   "execution_count": 47,
   "metadata": {},
   "outputs": [
    {
     "data": {
      "text/plain": [
       "[(4, 1), (1, 1)]"
      ]
     },
     "execution_count": 47,
     "metadata": {},
     "output_type": "execute_result"
    }
   ],
   "source": [
    "# És òptim aquest algorisme?\n",
    "change(4, 10, coins=[1,3,4])"
   ]
  },
  {
   "cell_type": "markdown",
   "metadata": {
    "tags": []
   },
   "source": [
    "<div class=\"alert alert-success\">\n",
    "    <h1>Problema 2: Selecció d'activitats</h1>\n",
    "    <p>\n",
    "        Donat un conjunt d'activitats amb la seva hora d'inici i la seva hora de finalització, trobar quin és el nombre màxim d'activitats que es pot realitzar suposant que només podem fer una activitat alhora.\n",
    "    </p>     \n",
    "    \n",
    "</div>"
   ]
  },
  {
   "cell_type": "code",
   "execution_count": 51,
   "metadata": {},
   "outputs": [],
   "source": [
    "def task_selection(activities):\n",
    "    \"\"\"\n",
    "    Retorna les activitats que és possible realitzar\n",
    "    \n",
    "    Params\n",
    "    ======\n",
    "    :activities: Llista d'activitats disponibles. Cada parella (x,y) representa l'hora d'inici i de finalització de l'activitat\n",
    "    \n",
    "    Returns\n",
    "    =======\n",
    "    :act: Activitats que es poden realitzar\n",
    "    \"\"\"\n",
    "\n",
    "\n",
    "    # Orenamos las actividades per hora de finalización\n",
    "    activities.sort(key=lambda x: x[1])\n",
    "    \n",
    "    # Añadimos la primera actividad\n",
    "    act.append(activities[0])\n",
    "\n",
    "    # Apuntamos a la priemra actividad\n",
    "    current_activitiy = activities[0]\n",
    "\n",
    "    # Iteramos por todas las acticidades\n",
    "    for a in activities:\n",
    "        # Si la siguiente actividad empieza después de que termine la actual,\n",
    "        # la añadimos y actualizamos la actividad actual\n",
    "        if a[0] >= actual[1]:\n",
    "            act.append(a)\n",
    "            actual = a\n",
    "    \n",
    "    return act"
   ]
  },
  {
   "cell_type": "code",
   "execution_count": 49,
   "metadata": {},
   "outputs": [
    {
     "data": {
      "text/plain": [
       "[(1, 4), (5, 7), (8, 11), (12, 14)]"
      ]
     },
     "execution_count": 49,
     "metadata": {},
     "output_type": "execute_result"
    }
   ],
   "source": [
    "activities = [(1, 4), (3, 8), (8, 11), (12, 14), (8, 12), (3, 5), (5, 9), (2, 13), (6, 10), (5, 7), (0, 6)]\n",
    "task_selection(activities) # Retorna: [(1, 4), (5, 7), (8, 11), (12, 14)]"
   ]
  },
  {
   "cell_type": "markdown",
   "metadata": {},
   "source": [
    "<div class=\"alert alert-success\">\n",
    "    <h1>Problema 3: Problema de la motxilla</h1>\n",
    "    <img src='https://upload.wikimedia.org/wikipedia/commons/f/fd/Knapsack.svg' width='20%'>\n",
    "    <p>\n",
    "       Disposem d'una motxilla que té una capacitat màxima de $K$ quilos. Tenim una llista de $n$ elements $E$, on cada element està representat per dos valors: el seu pes, $w$, i el seu valor $v$. És a dir:\n",
    "        $$E = \\{(w_e, v_e),\\ \\ \\ \\forall e=1,\\dots,n\\}$$\n",
    "       Volem maximitzar el valor de la motxilla, omplint-la amb els elements de $E$. Concretament, volem trobar:\n",
    "        $$\\max_A\\{A\\subset E\\ |\\ \\sum_{a\\in A}w_a\\leq K \\}$$\n",
    "    </p>    \n",
    "    Implementa un algorisme greedy que trobi una solució al problema. <b>Aquesta solució és òptima?</b>\n",
    "</div>"
   ]
  },
  {
   "cell_type": "code",
   "execution_count": 59,
   "metadata": {},
   "outputs": [],
   "source": [
    "def knapsack(K, E):\n",
    "    \"\"\"\n",
    "    Implementació del problema de la motxilla.\n",
    "    \n",
    "    Params\n",
    "    ======\n",
    "    :K: Pes màxim que la motxilla pot carregar\n",
    "    :E: Elements disponibles representats com una llista de tuples E=[(w,v)] on:\n",
    "        :w: Pes de l'objecte.\n",
    "        :v: Valor de l'objecte.\n",
    "        \n",
    "    Returns\n",
    "    =======    \n",
    "    :selected_elems: La llista dels elements escollits.\n",
    "    :total_weight: El pes total dels objectes que hem afegit.\n",
    "    :total_value: El valor total dels objectes que hem afegit.\n",
    "    \"\"\"\n",
    "\n",
    "    def sort_element_by_value():\n",
    "        \"\"\"\n",
    "        Esta función ordena los elemetos por su valor de menor a mayor.\n",
    "\n",
    "        Returns:\n",
    "            Lista de elementos ordenados por valor.\n",
    "        \"\"\"\n",
    "\n",
    "        E.sort(key = lambda x: x[1])\n",
    "\n",
    "\n",
    "    def sort_element_by_weight():\n",
    "        \"\"\"\n",
    "        Esta función ordena los elemetos por su peso de mayor a menor.\n",
    "\n",
    "        Returns:\n",
    "            Lista de elementos ordenados por valor.\n",
    "        \"\"\"\n",
    "\n",
    "        E.sort(key = lambda x: -x[0])\n",
    "\n",
    "    def sort_elements_by_ratio():\n",
    "        \"\"\"\n",
    "        Esta función ordena los elemetos por su proporcion entre peso y valor.\n",
    "\n",
    "        Returns:\n",
    "            Lista de elementos ordenados por valor.\n",
    "        \"\"\"\n",
    "\n",
    "        E.sort(key = lambda x: x[1]/x[0])\n",
    "\n",
    "    current_value = 0\n",
    "    current_weight = 0\n",
    "    selected_elements = []\n",
    "\n",
    "    # Ordenamos los elementos\n",
    "    sort_elements_by_ratio()\n",
    "\n",
    "    # Buscamos los elementos mientras no superemos el peso máximo y queden objetos\n",
    "    while current_value < K and len(E) > 0:\n",
    "        # Seleccionamos el elemento con mayor proporcion\n",
    "        element = E.pop()\n",
    "\n",
    "        # Si el elemento cabe, lo añadimos\n",
    "        if current_weight + element[0] <= K:\n",
    "            current_value += element[1]\n",
    "            current_weight += element[0]\n",
    "            selected_elements.append(element)\n",
    "        \n",
    "    return selected_elements, current_weight, current_value"
   ]
  },
  {
   "cell_type": "code",
   "execution_count": 61,
   "metadata": {},
   "outputs": [
    {
     "name": "stdout",
     "output_type": "stream",
     "text": [
      "801 ns ± 5.96 ns per loop (mean ± std. dev. of 7 runs, 1,000,000 loops each)\n"
     ]
    }
   ],
   "source": [
    "%timeit knapsack(15, [(12,4), (1,2), (4,10), (1,1), (2,2)])"
   ]
  },
  {
   "cell_type": "code",
   "execution_count": 60,
   "metadata": {},
   "outputs": [
    {
     "name": "stdout",
     "output_type": "stream",
     "text": [
      "([(4, 10), (1, 2), (2, 2), (1, 1)], 8, 15)\n",
      "([(10, 18), (10, 18)], 20, 36)\n",
      "([(2, 3), (3, 2)], 5, 5)\n"
     ]
    }
   ],
   "source": [
    "print(knapsack(15, [(12,4), (1,2), (4,10), (1,1), (2,2)]))\n",
    "print(knapsack(25, [(24,24), (10,18), (10,18), (7,10)]))\n",
    "print(knapsack(5,  [(3,2),(2,3),(5,6)]))"
   ]
  },
  {
   "cell_type": "markdown",
   "metadata": {},
   "source": [
    "<div class=\"alert alert-success\">\n",
    "<b>Ampliació:</b> Modifiqueu la solució per a solucionar dos variacions diferents del problema de la motxilla:\n",
    "    <ol>\n",
    "        <li> <b>Variant 1:</b> Considereu que tenim 'infinits' objectes iguals per a qualsevol objecte de la llista E, és a dir, que podeu anar posant un mateix objecte múltiples vegades. <b>L'algorisme és òptim en aquest cas?</b>\n",
    "        <li> <b>Variant 2:</b> Considereu que podem posar la fracció que vulguem de cada objecte, és a dir, que podem partir un objecte en trossos (disminuint, és clar, el seu pes i el seu valor). <b>L'algorisme és òptim en aquest cas?</b>\n",
    "    </ol>\n",
    "    </div>"
   ]
  },
  {
   "cell_type": "code",
   "execution_count": null,
   "metadata": {},
   "outputs": [],
   "source": []
  },
  {
   "cell_type": "markdown",
   "metadata": {
    "tags": []
   },
   "source": [
    "<div class=\"alert alert-success\">\n",
    "    <h1>Problema 4: Repostatge de vehicles</h1>\n",
    "    <p>\n",
    "       Hem de fer un trajecte des d’un punt d’origen $S$ i un destí $D$. El dipòsit del cotxe permet recórrer un màxim de $K$ quilòmetres. Es demana trobar el nombre mínim de parades per a fer provisió de carburant durant el trajecte.<br><br>\n",
    "       Implementeu un algorisme que, donat $K$ i una llista de distàncies entre l'orígen i les benzineres, on l'últim element de la llista és el destí, retorni el nombre de cops que haurem de parar a repostar.<br><br>\n",
    "       Per exemple, si tenim un cotxe que pot fer 10km sense repostar, el destí està a 30km i tenim benzineres als punts: 8, 14, 16, 18, 23, 27 podem executar:<br><br><center><b>refill(10, [8, 14, 16, 18, 23, 27, 30])</center> i ens haurà de retornar tres valors: (True, 3, [8, 18, 27]).\n",
    "        <ul>\n",
    "            <li> <b>True/False</b> depenent de si existeix, o no, una solució al problema.\n",
    "            <li> <b>Nombre de benzineres on hem de fer parada.</b> En cas que no existeixi solució, retornarà el nombre de benzineres que hem visitat abans d'exhaurir el carburant.\n",
    "            <li> <b>Llista dels quilòmetres que formen part de la solució.</b>\n",
    "        </ul></b><b></b>\n",
    "    </p>    \n",
    "    \n",
    "</div>"
   ]
  },
  {
   "cell_type": "code",
   "execution_count": 9,
   "metadata": {},
   "outputs": [],
   "source": [
    "def refill(K, stations):   \n",
    "    \"\"\"\n",
    "    Soluciona el problema de repostatge de vehicles.\n",
    "    \n",
    "    Params\n",
    "    ======\n",
    "    :K: quilòmetres que pot fer el cotxe amb el dipòsit ple.\n",
    "    :stations: Punt quilomètric on es troba cada benzinera. L'últim element d'aquesta llista és el destí del trajecte.\n",
    "    \n",
    "    Returns\n",
    "    =======\n",
    "    :exists_solution: Si existeix o no solució al problema (True/False)\n",
    "    :num_stops: Nombre de parades que hem de fer.\n",
    "    :stops: Parades on ens aturarem (punt quilomètric).    \n",
    "    \"\"\"\n",
    "    \n",
    "    return False, 0, []"
   ]
  },
  {
   "cell_type": "code",
   "execution_count": 10,
   "metadata": {},
   "outputs": [
    {
     "name": "stdout",
     "output_type": "stream",
     "text": [
      "(False, 0, [])\n",
      "(False, 0, [])\n",
      "(False, 0, [])\n"
     ]
    }
   ],
   "source": [
    "print(refill(10, [8, 14, 16, 18, 23, 27, 30]))    # Retorna (True, 3, [8, 18, 27])\n",
    "print(refill(15, [8, 14, 16, 18, 23, 27, 30]))    # Retorna (True, 2, [14, 27])\n",
    "print(refill(20, [16, 18, 36, 55, 78, 80, 120]))  # Retorna (False, 3, [18, 36, 55])"
   ]
  },
  {
   "cell_type": "markdown",
   "metadata": {},
   "source": [
    "<div class=\"alert alert-success\">\n",
    "    <h1>Problema 5: Nombre màxim de $N$ dígits tals que sumin $S$</h1>\n",
    "    <p>\n",
    "        Escriu una funció que retorni el nombre més gran possible de $N$ dígits tals que, sumats, tinguin com a valor $S$. En el cas que aquest nombre no existeixi, ha de retornar -1.<br><br>\n",
    "        Exemple:<br>\n",
    "        A l'executar <b>largest_num(2, 9)</b> ha de retornar 90 ja que és el valor de 2 dígits més gran tals que sumen 9.<br>\n",
    "        A l'executar <b>largest_num(2, 20)</b> ha de retornar -1 ja que no existeix. \n",
    "    </p>     \n",
    "    \n",
    "</div>"
   ]
  },
  {
   "cell_type": "code",
   "execution_count": 67,
   "metadata": {},
   "outputs": [],
   "source": [
    "\n",
    "def largest_num(N, S):\n",
    "    \"\"\"\n",
    "    Troba el nombre més gran de N dígits amb suma S\n",
    "    \n",
    "    Params\n",
    "    ======\n",
    "    :N: El nombre de dígits permesos\n",
    "    :S: La suma dels N dígits\n",
    "    \n",
    "    Returns\n",
    "    =======\n",
    "    :num: El nombre que satisfà la condició\n",
    "    \"\"\"\n",
    "\n",
    "    number = [0 for i in range(N)]\n",
    "\n",
    "    for digit in number:\n",
    "        for i in range(9, -1, -1):\n",
    "            if sum(number[:])\n",
    "            if digit + i <= S and digit + i <= digit:\n",
    "                digit = i\n",
    "                break\n",
    "\n",
    "    return number"
   ]
  },
  {
   "cell_type": "code",
   "execution_count": 68,
   "metadata": {},
   "outputs": [
    {
     "name": "stdout",
     "output_type": "stream",
     "text": [
      "[0, 0]\n",
      "[0, 0, 0]\n",
      "[0, 0, 0, 0, 0]\n"
     ]
    }
   ],
   "source": [
    "print(str(largest_num(2,9)))   # Retorna 90\n",
    "print(str(largest_num(3,20)))  # Retorna 992\n",
    "print(str(largest_num(5,560))) # Retorna -1"
   ]
  },
  {
   "cell_type": "markdown",
   "metadata": {},
   "source": [
    "<div class=\"alert alert-success\">\n",
    "    <h1>Problema 6: Cercles inscrits en rectangles</h1>\n",
    "    <p>\n",
    "        Considera dues seqüències de nombres: $A_1, A_2,\\dots,A_N$ i $B_1, B_2,\\dots,B_N$. Fent parelles d'aquests elements $(A_i, B_j)$, podem crear rectangles de base $A_i$ i alçada $B_j$ on $0\\leq i,j\\leq N$.\n",
    "        Escriu una funció que retorni quin és el valor màxim de $S$, definit com la suma de tots els diàmetres dels cercles que es poden inscriure dins dels rectangles.<br><br>\n",
    "    <b>Apunt:</b> Un cercle està incrit en un rectangle si està totalment contingut a dins i el seu diàmetre és igual a un dels dos costats del rectangle. <br>Per exemple:\n",
    "    </p> \n",
    "        <img src='img/inscribed.png' width=20%></img>\n",
    "        \n",
    "   \n",
    "    \n",
    "</div>"
   ]
  },
  {
   "cell_type": "code",
   "execution_count": 13,
   "metadata": {},
   "outputs": [],
   "source": [
    "def inscribed_circles(A, B):\n",
    "    \"\"\"\n",
    "    Fa parelles de bases i alçades tal que maximitzin el valor S, definit com la suma de tots els diàmetres dels cercles que es poden inscriure\n",
    "    dels rectangles.\n",
    "    \n",
    "    Params\n",
    "    ======\n",
    "    :A: La llista de les bases dels rectangles\n",
    "    :B: La llista de les alçades dels rectangles\n",
    "    \n",
    "    Returns\n",
    "    =======\n",
    "    :S: La suma màxima de tots els diàmetres dels cercles inscrits en els rectangles que es poden construïr agafant un element de A com a base\n",
    "        i un element de B com a alçada.\n",
    "    \"\"\"\n",
    "    S = 0\n",
    "    return S"
   ]
  },
  {
   "cell_type": "code",
   "execution_count": 14,
   "metadata": {},
   "outputs": [
    {
     "data": {
      "text/plain": [
       "0"
      ]
     },
     "execution_count": 14,
     "metadata": {},
     "output_type": "execute_result"
    }
   ],
   "source": [
    "inscribed_circles([8,8,10,12], [15,20,3,5]) # Retorna 30"
   ]
  }
 ],
 "metadata": {
  "kernelspec": {
   "display_name": "Python 3 (ipykernel)",
   "language": "python",
   "name": "python3"
  },
  "language_info": {
   "codemirror_mode": {
    "name": "ipython",
    "version": 3
   },
   "file_extension": ".py",
   "mimetype": "text/x-python",
   "name": "python",
   "nbconvert_exporter": "python",
   "pygments_lexer": "ipython3",
   "version": "3.11.6"
  }
 },
 "nbformat": 4,
 "nbformat_minor": 4
}
