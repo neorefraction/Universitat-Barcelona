{
 "cells": [
  {
   "cell_type": "markdown",
   "metadata": {},
   "source": [
    "<div style=\"padding:30px; color: white; background-color: #0071CD\">\n",
    "<center>\n",
    "<h1>Algorísmica Avançada</h1>\n",
    "<h2>Problemes 8 - Enumeratius: Backtracking</h2>\n",
    "</center>\n",
    "</div>"
   ]
  },
  {
   "cell_type": "code",
   "execution_count": 2,
   "metadata": {},
   "outputs": [
    {
     "data": {
      "text/html": [
       "<style>.container { width:100% !important; }</style>"
      ],
      "text/plain": [
       "<IPython.core.display.HTML object>"
      ]
     },
     "metadata": {},
     "output_type": "display_data"
    }
   ],
   "source": [
    "from IPython.display import display, HTML\n",
    "display(HTML(\"<style>.container { width:100% !important; }</style>\"))"
   ]
  },
  {
   "cell_type": "markdown",
   "metadata": {
    "tags": []
   },
   "source": [
    "<div class=\"alert alert-success\">\n",
    "    <h1>Problema 1: Cartes</h1>\n",
    "    <p>\n",
    "        Considerem un conjunt de parelles de cartes del mateix número fins a un valor donat, $N$. Per a $N=3$ tindríem les cartes: $1,1,2,2,3,3$.<br>\n",
    "    Volem trobar una ordenació d'aquest conjunt de cartes de forma que, entre dos cartes d'un mateix valor $n=1,...,N$ hi hagi exactament $n$ cartes. Per a $N=3$ una solució seria:\n",
    "        $$3-1-2-1-3-2$$\n",
    "    Observeu que entre les cartes de valor $1$ hi ha una sola carta, entre les de valor $2$, dues cartes i el mateix per a les cartes de valor $3$.<br>\n",
    "    Implementeu el problema de les cartes on, donat un enter, $N$, mostri, si existeix, la solució al problema.\n",
    "    <br>\n",
    "    <br>\n",
    "        <b>Pista1:</b> Comenceu posant els números més grans ja que són els més problemàtics.</p>\n",
    "        <b>Pista2:</b> Donada una llista, per exemple: <b>mylist=[3,2,0,0,0]</b> la funció <b>mylist.index(0)</b> retorna $2$ que és la posició del primer zero que apareix.\n",
    "    \n",
    "</div>"
   ]
  },
  {
   "cell_type": "code",
   "execution_count": 3,
   "metadata": {},
   "outputs": [],
   "source": [
    "def solve_deck(N):\n",
    "    \"\"\"\n",
    "    Aquesta funció soluciona el problema de les cartes\n",
    "    \n",
    "    Params\n",
    "    ======\n",
    "    :N: El número de la parella de cartes de major valor\n",
    "    \n",
    "    Returns \n",
    "    =======\n",
    "    :_str: Un string mostrant el resultat en cas que existeixi o un missatge d'error en cas que no.\n",
    "    \"\"\"\n",
    "   \n",
    "    # Inicialitzem un vector on escriurem la solució de mida 2N\n",
    "    # Inicialment no tenim cap número visitat\n",
    "    solution = solve_deck_backtracking(N, [0]*(2*N), set([]))\n",
    "    \n",
    "    if not solution:\n",
    "        return f\"N={N:<2}: No s'ha trobat solució\"\n",
    "    return f\"N={N:<2}: {solution}\"\n",
    "    \n",
    "\n",
    "def solve_deck_backtracking(N, solution, placed_nums):\n",
    "    \"\"\"\n",
    "    Aquesta funció implementa l'estratègia de backtracking per al problema de les cartes\n",
    "\n",
    "    Params\n",
    "    ======\n",
    "    :N: El número de la parella de cartes de major valor\n",
    "    :solution: Una llista amb la solució temporal \n",
    "    :placed_nums: Un conjunt dels nombres que ja hem col·locat\n",
    "\n",
    "    Returns\n",
    "    =======\n",
    "    :_str: Un string mostrant el resultat, en cas que existeixi o un 'error' en cas que no.\n",
    "           Internament retornarem un booleà per aturar la recursió.\n",
    "    \"\"\"\n",
    "\n",
    "    # Caso base: Comrobamos que no haya más huecos en la lista\n",
    "    if 0 not in solution:\n",
    "        return True  # Solución encontrada\n",
    "\n",
    "    # Buscamos en todas las cartas posibles\n",
    "    for n in range(N, 0, -1):\n",
    "        \n",
    "        # Comprobamos que la carta no haya sido colocado\n",
    "        if n not in placed_nums:\n",
    "\n",
    "            idx1 = solution.index(0)  # Buscamos un hueco libre para la primera carta\n",
    "            idx2 = idx1 + n + 1 # Calculamos la posición de la segunda carta\n",
    "\n",
    "            # Comprobamos que el segundo indice no se salga de la solución y este vacío\n",
    "            if idx2 < 2 * N and solution[idx2] == 0:\n",
    "\n",
    "                placed_nums.add(n) # Añadimos la carta al conjunto de las colocadas\n",
    "                solution[idx1], solution[idx2] = n, n  # Colocamos las cartas en la lista\n",
    "\n",
    "                # Seguimos explorando\n",
    "                if solve_deck_backtracking(N, solution, placed_nums):\n",
    "                    return solution  # Si se ha encontrado solución la devolvemos\n",
    "        \n",
    "                # Si no se ha encontrado solución deshacemos la jugada\n",
    "                placed_nums.remove(n)  # Quitamos la carta del conjunto de las colocadas\n",
    "                solution[idx1], solution[idx2] = 0, 0  # Quitamos las cartas de la lista\n",
    "            \n",
    "    return False              "
   ]
  },
  {
   "cell_type": "code",
   "execution_count": 4,
   "metadata": {},
   "outputs": [
    {
     "name": "stdout",
     "output_type": "stream",
     "text": [
      "N=3 : [3, 1, 2, 1, 3, 2]\n"
     ]
    }
   ],
   "source": [
    "print(solve_deck(3))"
   ]
  },
  {
   "cell_type": "code",
   "execution_count": 5,
   "metadata": {},
   "outputs": [
    {
     "name": "stdout",
     "output_type": "stream",
     "text": [
      "N=1 : No s'ha trobat solució\n",
      "N=2 : No s'ha trobat solució\n",
      "N=3 : [3, 1, 2, 1, 3, 2]\n",
      "N=4 : [4, 1, 3, 1, 2, 4, 3, 2]\n",
      "N=5 : No s'ha trobat solució\n",
      "N=6 : No s'ha trobat solució\n",
      "N=7 : [7, 4, 1, 5, 1, 6, 4, 3, 7, 5, 2, 3, 6, 2]\n",
      "N=8 : [8, 6, 4, 2, 7, 5, 2, 4, 6, 8, 3, 5, 7, 1, 3, 1]\n",
      "N=9 : No s'ha trobat solució\n",
      "N=10: No s'ha trobat solució\n",
      "N=11: [11, 9, 7, 5, 10, 2, 6, 8, 2, 5, 7, 9, 11, 6, 4, 10, 8, 3, 1, 4, 1, 3]\n",
      "N=12: [12, 10, 11, 6, 4, 5, 9, 7, 8, 4, 6, 5, 10, 12, 11, 7, 9, 8, 3, 1, 2, 1, 3, 2]\n"
     ]
    }
   ],
   "source": [
    "for N in range(1,13):\n",
    "    print(solve_deck(N))"
   ]
  },
  {
   "cell_type": "markdown",
   "metadata": {},
   "source": [
    "<div class=\"alert alert-success\">\n",
    "    <h1>Problema 2: N-Queens</h1>\n",
    "    <p>\n",
    "        Implementeu el problema de les reines. Donat un tauler de tamany $N\\times N$ i $N$ reines del joc dels escacs, l'objectiu és col·locar-les totes, si és possible, sense que s'ataquin entre si. Recordeu que dues reines s'ataquen entre si si estan situades a la mateixa fila, a la mateixa columna o a la mateixa diagonal.\n",
    "    </p><br>\n",
    "    <b>Pista:</b> Podeu aplicar l'estratègia de col·locar una reina per columna, començant a la columna 0. Si seguiu aquesta estratègia podeu utilitzar la funció <b>check_position_previous_columns</b> per a comprovar si una posició és segura.\n",
    "</div>"
   ]
  },
  {
   "cell_type": "markdown",
   "metadata": {},
   "source": [
    "<img src=\"https://i.imgur.com/FYu8t3s.gif\" width='50%'/>"
   ]
  },
  {
   "cell_type": "code",
   "execution_count": 6,
   "metadata": {},
   "outputs": [],
   "source": [
    "def format_board(board):\n",
    "    \"\"\"\n",
    "    Aquesta funció retorna una visualització per al problema de les N-Reines\n",
    "    \n",
    "    Params\n",
    "    ======\n",
    "    :board: Un llista de llistes amb 0's (posicions buides) i 1's (posicions amb reines)\n",
    "    \n",
    "    Returns\n",
    "    =======\n",
    "    :_str: Una representació del tauler en format string\n",
    "    \"\"\"\n",
    "    _str = \"+\"\n",
    "    for i in board[0]:\n",
    "        _str += \"---+\"\n",
    "    _str += \"\\n\"\n",
    "    for i in board:\n",
    "        _str += \"|\"\n",
    "        for j in i:\n",
    "            _str += \"   |\" if j == 0 else \" Q |\"\n",
    "        _str +=\"\\n+\"\n",
    "        for j in i:\n",
    "            _str += \"---+\"\n",
    "        _str +=\"\\n\"\n",
    "    return _str\n",
    "\n",
    "\n",
    "def check_position_previous_columns(board, row, col):\n",
    "    \"\"\"\n",
    "    Aquesta funció comprova si es pot posar una reina a la posició (row, col) en l'estratègia d'anar\n",
    "    posant reines per columnes. Només comprova les columnes anteriors a la que estem col·locant la reina.\n",
    "    \n",
    "    Params\n",
    "    ======\n",
    "    :board: Un matriu de mida NxN amb 0's i 1's\n",
    "    :row, col: Una posició on voldríem colocar una nova reina\n",
    "    \n",
    "    Returns\n",
    "    =======\n",
    "    :True/False: Depenent de si es pot col·locar o no una nova reina en la posició (row,col)\n",
    "    \"\"\"\n",
    "    \n",
    "    # Comprovem les columnes anteriors de la fila 'row'\n",
    "    for i in range(col):\n",
    "        if board[row][i] == 1:\n",
    "            return False\n",
    "\n",
    "    # Comprovem la diagonal inferior\n",
    "    for i, j in zip(range(row, -1, -1), range(col, -1, -1)):\n",
    "        if board[i][j] == 1:\n",
    "            return False\n",
    "\n",
    "    # Comprovem la diagonal superior\n",
    "    for i, j in zip(range(row, len(board), 1), range(col, -1, -1)):\n",
    "        if board[i][j] == 1:\n",
    "            return False\n",
    "\n",
    "    return True\n",
    "\n",
    "  \n",
    "def solve_queens(N):\n",
    "    \"\"\"\n",
    "    Aquesta funció soluciona el problema de les N-Reines.\n",
    "    \n",
    "    Params\n",
    "    ======\n",
    "    :N: Un enter amb la mida del tauler, NxN i el nombre de reines que hi col·locarem\n",
    "    \n",
    "    Returns\n",
    "    =======\n",
    "    :_str: El tauler en format string amb les reines col·locades en cas que existeixi una solució o un missatge d'error\n",
    "           en cas que no sigui possible.\n",
    "    \"\"\"\n",
    "    \n",
    "    board = [[0]*N for _ in range(N)]    \n",
    "    solution = solve_queens_backtracking(N, board, 0)\n",
    "    \n",
    "    if not solution:\n",
    "        return f'N={N}: No té solució'\n",
    "    return f'N={N}:\\n{format_board(solution)}'\n",
    "\n",
    "\n",
    "\n",
    "def solve_queens_backtracking(N, board, col):\n",
    "    \"\"\"\n",
    "    Aquesta funció implementa l'estratègia de backtracking per al problema de les reines\n",
    "\n",
    "    Params\n",
    "    ======\n",
    "    :N: El número de reines que estem considerant\n",
    "    :board: Llista de llistes amb la graella de posicions \n",
    "    :col: Columna on volem posar la propera reina\n",
    "\n",
    "    Returns\n",
    "    =======\n",
    "    :b: La graella 'board' mostrant el resultat, en cas que existeixi o un 'error' en cas que no.\n",
    "        Internament retornarem un booleà per aturar la recursió.\n",
    "    \"\"\"\n",
    "    \n",
    "    # Caso base: Comprobamos que hayamos llegado una posición más allá de la última columna\n",
    "    if col == len(board[0]):\n",
    "        return True\n",
    "\n",
    "    # Buscamos en todas las filas posibles\n",
    "    for row in range(N):\n",
    "\n",
    "        # Comprobamos que la reina esté en una posición válida\n",
    "        if check_position_previous_columns(board, row, col):\n",
    "\n",
    "            # Colocamos la reina en la casilla\n",
    "            board[row][col] = 1\n",
    "\n",
    "            # Seguimos explorando\n",
    "            if solve_queens_backtracking(N, board, col + 1):\n",
    "                return board  # Si se ha encontrado solución la devolvemos\n",
    "\n",
    "            # Si no se ha encontrado solución deshacemos la jugada\n",
    "            board[row][col] = 0\n",
    "    \n",
    "    return False"
   ]
  },
  {
   "cell_type": "code",
   "execution_count": 8,
   "metadata": {},
   "outputs": [
    {
     "name": "stdout",
     "output_type": "stream",
     "text": [
      "N=2: No té solució\n",
      "N=3: No té solució\n",
      "N=4:\n",
      "+---+---+---+---+\n",
      "|   |   | Q |   |\n",
      "+---+---+---+---+\n",
      "| Q |   |   |   |\n",
      "+---+---+---+---+\n",
      "|   |   |   | Q |\n",
      "+---+---+---+---+\n",
      "|   | Q |   |   |\n",
      "+---+---+---+---+\n",
      "\n",
      "N=17:\n",
      "+---+---+---+---+---+---+---+---+---+---+---+---+---+---+---+---+---+\n",
      "| Q |   |   |   |   |   |   |   |   |   |   |   |   |   |   |   |   |\n",
      "+---+---+---+---+---+---+---+---+---+---+---+---+---+---+---+---+---+\n",
      "|   |   |   | Q |   |   |   |   |   |   |   |   |   |   |   |   |   |\n",
      "+---+---+---+---+---+---+---+---+---+---+---+---+---+---+---+---+---+\n",
      "|   | Q |   |   |   |   |   |   |   |   |   |   |   |   |   |   |   |\n",
      "+---+---+---+---+---+---+---+---+---+---+---+---+---+---+---+---+---+\n",
      "|   |   |   |   |   |   |   |   |   |   |   | Q |   |   |   |   |   |\n",
      "+---+---+---+---+---+---+---+---+---+---+---+---+---+---+---+---+---+\n",
      "|   |   | Q |   |   |   |   |   |   |   |   |   |   |   |   |   |   |\n",
      "+---+---+---+---+---+---+---+---+---+---+---+---+---+---+---+---+---+\n",
      "|   |   |   |   |   |   |   |   |   |   |   |   | Q |   |   |   |   |\n",
      "+---+---+---+---+---+---+---+---+---+---+---+---+---+---+---+---+---+\n",
      "|   |   |   |   |   |   |   | Q |   |   |   |   |   |   |   |   |   |\n",
      "+---+---+---+---+---+---+---+---+---+---+---+---+---+---+---+---+---+\n",
      "|   |   |   |   | Q |   |   |   |   |   |   |   |   |   |   |   |   |\n",
      "+---+---+---+---+---+---+---+---+---+---+---+---+---+---+---+---+---+\n",
      "|   |   |   |   |   |   |   |   |   |   |   |   |   | Q |   |   |   |\n",
      "+---+---+---+---+---+---+---+---+---+---+---+---+---+---+---+---+---+\n",
      "|   |   |   |   |   |   |   |   |   |   |   |   |   |   |   | Q |   |\n",
      "+---+---+---+---+---+---+---+---+---+---+---+---+---+---+---+---+---+\n",
      "|   |   |   |   |   | Q |   |   |   |   |   |   |   |   |   |   |   |\n",
      "+---+---+---+---+---+---+---+---+---+---+---+---+---+---+---+---+---+\n",
      "|   |   |   |   |   |   |   |   |   |   |   |   |   |   | Q |   |   |\n",
      "+---+---+---+---+---+---+---+---+---+---+---+---+---+---+---+---+---+\n",
      "|   |   |   |   |   |   |   |   |   |   |   |   |   |   |   |   | Q |\n",
      "+---+---+---+---+---+---+---+---+---+---+---+---+---+---+---+---+---+\n",
      "|   |   |   |   |   |   |   |   |   | Q |   |   |   |   |   |   |   |\n",
      "+---+---+---+---+---+---+---+---+---+---+---+---+---+---+---+---+---+\n",
      "|   |   |   |   |   |   | Q |   |   |   |   |   |   |   |   |   |   |\n",
      "+---+---+---+---+---+---+---+---+---+---+---+---+---+---+---+---+---+\n",
      "|   |   |   |   |   |   |   |   | Q |   |   |   |   |   |   |   |   |\n",
      "+---+---+---+---+---+---+---+---+---+---+---+---+---+---+---+---+---+\n",
      "|   |   |   |   |   |   |   |   |   |   | Q |   |   |   |   |   |   |\n",
      "+---+---+---+---+---+---+---+---+---+---+---+---+---+---+---+---+---+\n",
      "\n"
     ]
    }
   ],
   "source": [
    "print(solve_queens(2))\n",
    "print(solve_queens(3))\n",
    "print(solve_queens(4))\n",
    "print(solve_queens(17))"
   ]
  },
  {
   "cell_type": "markdown",
   "metadata": {},
   "source": [
    "<div class=\"alert alert-success\">\n",
    "    <h1>Problema 3: Conjunts de suma $K$</h1>\n",
    "    <p>\n",
    "        Donada una llista d'elements i un valor enter $K$, volem trobar tots els subconjunts de la llista que sumen $K$.<br><br>\n",
    "        <b>Pista:</b> Podeu seguir la mateixa estructura que els exercicis anteriors però fent un 'print' en comptes d'un 'return True' després de fer la crida recursiva.\n",
    "    </p>\n",
    "</div>"
   ]
  },
  {
   "cell_type": "code",
   "execution_count": 9,
   "metadata": {},
   "outputs": [],
   "source": [
    "def sum_K(lst, K):\n",
    "    \"\"\"\n",
    "    Resol el problema dels conjunts de suma K\n",
    "    \n",
    "    Params\n",
    "    ======\n",
    "    :lst: Llista d'elements\n",
    "    :K: Valor de suma\n",
    "    \"\"\"\n",
    "    sum_K_backtracking(lst, K, 0, 0, [])\n",
    "\n",
    "\n",
    "def sum_K_backtracking(lst, K, tmp_sum, idx, sub_list):\n",
    "    \"\"\"\n",
    "    Aquesta funció implementa l'estratègia de backtracking per al problema de la suma K\n",
    "\n",
    "    Params\n",
    "    ======\n",
    "    :lst: La lllista d'elements a considerar\n",
    "    :K: El valor de suma\n",
    "    :tmp_sum: La suma temporal acumulada fins el moment en el procés de recursió\n",
    "    :idx: L'índex de l'element actual que estem considerant\n",
    "    :sub_list: La llista d'elements actual que estem considerant i on anirem afegint elements mentre hi càpiguen.\n",
    "\n",
    "    Returns\n",
    "    =======\n",
    "    :b: Un booleà que ens controlarà internament el procés de recursió.\n",
    "        En aquest cas no retornarà res més ja que imprimirem cada cop que trobem una nova solució\n",
    "    \"\"\"\n",
    "    \n",
    "    # Caso base: Comprobamos que la suma sea K\n",
    "    if tmp_sum == K:\n",
    "        return True  # Solución encontrada\n",
    "\n",
    "    for i in range(idx, len(lst)):\n",
    "        # Comprobamos que la suma no se pase de K\n",
    "        if tmp_sum + lst[i] <= K:\n",
    "\n",
    "            # Actualizamos la suma\n",
    "            tmp_sum += lst[i]\n",
    "            # Añadimos el valor a la sublista\n",
    "            sub_list.append(lst[i])\n",
    "\n",
    "            # Seguimos explorando\n",
    "            if sum_K_backtracking(lst, K, tmp_sum, i + 1, sub_list):\n",
    "                print(sub_list)  # Mostramos la solución encontrada \n",
    "            \n",
    "            # Si no se ha encontrado solución deshacemos la jugada\n",
    "            tmp_sum -= lst[i]\n",
    "            sub_list.pop()\n",
    "            \n",
    "    return False"
   ]
  },
  {
   "cell_type": "code",
   "execution_count": 10,
   "metadata": {},
   "outputs": [
    {
     "name": "stdout",
     "output_type": "stream",
     "text": [
      "[2, 3, 6]\n",
      "[2, 4, 5]\n",
      "[6, 5]\n"
     ]
    }
   ],
   "source": [
    "sum_K([2,3,4,6,5], 11)\n",
    "\n",
    "# Ha d'imprimir:\n",
    "# [2, 3, 6]\n",
    "# [2, 4, 5]\n",
    "# [6, 5]"
   ]
  },
  {
   "cell_type": "markdown",
   "metadata": {},
   "source": [
    "<div class=\"alert alert-success\">\n",
    "    <h1>Problema 4: Divisió</h1>\n",
    "    <p>\n",
    "        Donat un nombre $N$ parell i un nombre $M$, volem trobar dos nombres $x$, $y$ de $\\dfrac{N}{2}$ xifres tal que:\n",
    "        <ul>\n",
    "            <li> Se satisfà que la divisió entera entre un i l'altre és exactament $M$, és a dir, $\\dfrac{x}{y}=M$.\n",
    "            <li> Totes les xifres $0,...,N-1$ formen part o bé de $x$ o bé $y$ però no d'ambdós nombres.\n",
    "    </ul>\n",
    "    </p>\n",
    "</div>"
   ]
  },
  {
   "cell_type": "markdown",
   "metadata": {},
   "source": [
    "Exemple:\n",
    "\n",
    "Considerant $N=6$ i $M=2$ volem trobar dos nombres de 3 xifres.<br>\n",
    "Observeu que els nombres $x=304$, $y=152$ satisfan:\n",
    "- $\\dfrac{x}{y} = M$ ja que $\\dfrac{304}{152} = 2$.\n",
    "- Les xifres de $x$ i $y$ són exactament tots els nombres des de $0$ fins a $N-1$, és a dir: $\\{0, 1, 2, 3, 4, 5\\}$\n"
   ]
  },
  {
   "cell_type": "code",
   "execution_count": 9,
   "metadata": {},
   "outputs": [],
   "source": [
    "def division(N, M):\n",
    "    \"\"\"\n",
    "    Soluciona el problema de la divisió. Donat dos enters N i M, volem trobar dos nombres x, y tals que\n",
    "    x i y contenen tote les xifres entre 0 i N-1 i x/y = M.\n",
    "    \n",
    "    Params\n",
    "    ======\n",
    "    :N: Els dos nombres que busquem estan formats per N/2 xifres.\n",
    "    :M: Els dos nombres que busquem x, y, satisfan que x/y = M\n",
    "    \n",
    "    Returns\n",
    "    =======\n",
    "    :x,y: Una parella de nombres que satisfà la condició.\n",
    "    \"\"\"\n",
    "    x, y = 0, 0\n",
    "    \n",
    "    # EL TEU CODI AQUÍ\n",
    "    \n",
    "    return x, y\n",
    "\n",
    "\n",
    "#\n",
    "# LA TEVA FUNCIÓ BACKTRACKING AQUÍ    \n",
    "#"
   ]
  },
  {
   "cell_type": "code",
   "execution_count": 10,
   "metadata": {},
   "outputs": [
    {
     "data": {
      "text/plain": [
       "(0, 0)"
      ]
     },
     "execution_count": 10,
     "metadata": {},
     "output_type": "execute_result"
    }
   ],
   "source": [
    "division(6, 2) # Retorna (304, 152) o bé (430, 215)"
   ]
  },
  {
   "cell_type": "code",
   "execution_count": 11,
   "metadata": {},
   "outputs": [
    {
     "data": {
      "text/plain": [
       "(0, 0)"
      ]
     },
     "execution_count": 11,
     "metadata": {},
     "output_type": "execute_result"
    }
   ],
   "source": [
    "division(10, 62) # Retorna (79546, 1283) o bé (94736, 1528) (observeu que el zero forma part del segon nombre )"
   ]
  },
  {
   "cell_type": "code",
   "execution_count": null,
   "metadata": {},
   "outputs": [],
   "source": []
  }
 ],
 "metadata": {
  "kernelspec": {
   "display_name": "Python 3 (ipykernel)",
   "language": "python",
   "name": "python3"
  },
  "language_info": {
   "codemirror_mode": {
    "name": "ipython",
    "version": 3
   },
   "file_extension": ".py",
   "mimetype": "text/x-python",
   "name": "python",
   "nbconvert_exporter": "python",
   "pygments_lexer": "ipython3",
   "version": "3.11.6"
  }
 },
 "nbformat": 4,
 "nbformat_minor": 4
}
