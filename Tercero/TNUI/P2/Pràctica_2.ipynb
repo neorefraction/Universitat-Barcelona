{
  "cells": [
    {
      "cell_type": "markdown",
      "metadata": {
        "id": "fQcQAvOO7_Hb"
      },
      "source": [
        "# Pràctica 2: Recomanador Simple\n",
        "\n",
        "Nom dels alumnes del grup:\n"
      ]
    },
    {
      "cell_type": "markdown",
      "metadata": {
        "id": "jA23uCs6wksC"
      },
      "source": [
        "## 1. INTRODUCCIÓ"
      ]
    },
    {
      "cell_type": "markdown",
      "metadata": {
        "id": "9b_k_d1aP7ZF"
      },
      "source": [
        "### 1.1. Abans de començar...\n",
        "\n",
        "**\\+ A més a més de les que ja es troben presents en la 1a cel·la i funcions natives de Python, durant la pràctica, només es podran fer servir les següents llibreries**:\n",
        "\n",
        "`Pandas, Numpy, Itertools`\n",
        "\n",
        "**\\+ No es poden modificar les definicions de les funcions donades, ni canviar els noms de les variables i paràmetres ja donats**\n",
        "\n",
        "Això no implica però que els hàgiu de fer servir. És a dir, que la funció tingui un paràmetre anomenat `df` no implica que l'hàgiu de fer servir, si no ho trobeu convenient.\n",
        "\n",
        "**\\+ En les funcions, s'especifica què serà i de quin tipus cada un dels paràmetres, cal respectar-ho**\n",
        "\n",
        "Per exemple (ho posarà en el pydoc de la funció), `df` sempre serà indicatiu del `Pandas.DataFrame` de les dades."
      ]
    },
    {
      "cell_type": "markdown",
      "metadata": {
        "id": "9rsNZQEvueYW"
      },
      "source": [
        "### 1.2. Dades: puntuacions de pel·licules"
      ]
    },
    {
      "cell_type": "markdown",
      "metadata": {
        "id": "Ve8NdxrB7_Hc"
      },
      "source": [
        "La base de dades [movielens-1M](http://www.grouplens.org/node/73) conté 1,000,209 puntuacions de 3.900 pel·lícules fetes l'any 2000 per 6.040 usuaris anònims del recomanador online [MovieLens](http://www.movielens.org/)."
      ]
    },
    {
      "cell_type": "markdown",
      "metadata": {
        "id": "P6urN1BW7_Hd"
      },
      "source": [
        "El consum total de tots els usuaris s'hi pot trobar al document \"ratings.dat\" el format següent:\n",
        "\n",
        "    UserID::MovieID::Rating::Timestamp\n",
        "\n",
        "- **UserID** usuari, amb id's entre 1 i 6040\n",
        "- **MovieID** pel·licula, amb id's entre 1 i 3952\n",
        "- **Rating** puntuació, en una escala de 1 a 5 estrelles.\n",
        "- **Timestamp** representat en segons\n",
        "\n",
        "Cada usuari té com a mínim 20 puntuacions."
      ]
    },
    {
      "cell_type": "markdown",
      "metadata": {
        "id": "AnjjZz6Sr_de"
      },
      "source": [
        "### 1.3. Dades: usuaris\n"
      ]
    },
    {
      "cell_type": "markdown",
      "metadata": {
        "id": "NczG1-ixuu-D"
      },
      "source": [
        "\n",
        "Al fitxer ``users.dat`` hi trobem la informació referent a cadascun dels usuaris en el següent format:\n",
        "\n",
        "        UserID::Gender::Age::Occupation::Zip-code\n",
        "\n",
        "- **Gender** ve donat per \"M\" per home i \"F\" per dona.\n",
        "- **Age** està representada de la següent forma:\n",
        "\n",
        "\t*  1:  \"Under 18\"\n",
        "\t* 18:  \"18-24\"\n",
        "\t* 25:  \"25-34\"\n",
        "\t* 35:  \"35-44\"\n",
        "\t* 45:  \"45-49\"\n",
        "\t* 50:  \"50-55\"\n",
        "\t* 56:  \"56+\"\n",
        "\n",
        "- **Occupation** es tria entre les següents opcions:\n",
        "\n",
        "\t*  0:  \"other\" or not specified\n",
        "\t*  1:  \"academic/educator\"\n",
        "\t*  2:  \"artist\"\n",
        "\t*  3:  \"clerical/admin\"\n",
        "\t*  4:  \"college/grad student\"\n",
        "\t*  5:  \"customer service\"\n",
        "\t*  6:  \"doctor/health care\"\n",
        "\t*  7:  \"executive/managerial\"\n",
        "\t*  8:  \"farmer\"\n",
        "\t*  9:  \"homemaker\"\n",
        "\t* 10:  \"K-12 student\"\n",
        "\t* 11:  \"lawyer\"\n",
        "\t* 12:  \"programmer\"\n",
        "\t* 13:  \"retired\"\n",
        "\t* 14:  \"sales/marketing\"\n",
        "\t* 15:  \"scientist\"\n",
        "\t* 16:  \"self-employed\"\n",
        "\t* 17:  \"technician/engineer\"\n",
        "\t* 18:  \"tradesman/craftsman\"\n",
        "\t* 19:  \"unemployed\"\n",
        "\t* 20:  \"writer\"\n",
        "\n",
        "Els usuaris han donat la informació voluntariament. Així doncs, alguns usuaris poden no tenir informació.\n"
      ]
    },
    {
      "cell_type": "markdown",
      "metadata": {
        "id": "7Usgj7Vgupkw"
      },
      "source": [
        "### 1.4. Dades: pel·lícules\n"
      ]
    },
    {
      "cell_type": "markdown",
      "metadata": {
        "id": "W9l--Lg7up4i"
      },
      "source": [
        "\n",
        "Al fitxer ``movies.dat`` hi trobem la informació referent a cadascuna de les películes en el següent format:\n",
        "\n",
        "        MovieID::Title::Genres\n",
        "\n",
        "- **Titles** són identics als titols de la base de dades IMDB, incloent l'any de llançament.\n",
        "- **Genres** de les películes estan separats i seleccionats d'entre els següents:\n",
        "\n",
        "\t* Action\n",
        "\t* Adventure\n",
        "\t* Animation\n",
        "\t* Children's\n",
        "\t* Comedy\n",
        "\t* Crime\n",
        "\t* Documentary\n",
        "\t* Drama\n",
        "\t* Fantasy\n",
        "\t* Film-Noir\n",
        "\t* Horror\n",
        "\t* Musical\n",
        "\t* Mystery\n",
        "\t* Romance\n",
        "\t* Sci-Fi\n",
        "\t* Thriller\n",
        "\t* War\n",
        "\t* Western\n",
        "\n",
        "Algunes películes poden tenir l'ID malament degut a duplicats accidentals.\n",
        "\n",
        "Les películes s'han entrat manualment, així que poden existir altres inconsistencies."
      ]
    },
    {
      "cell_type": "markdown",
      "metadata": {
        "id": "Ga800aP7uyT2"
      },
      "source": [
        "## 2. Exploració de les dades"
      ]
    },
    {
      "cell_type": "markdown",
      "metadata": {
        "id": "TCfsud8VvBqJ"
      },
      "source": [
        "### 2.1. Descarregar i llegir dades"
      ]
    },
    {
      "cell_type": "markdown",
      "metadata": {
        "id": "8wj0kd3A7_He"
      },
      "source": [
        "+ Baixa't els fitxers que composen la base de dades i els còpies al teu directori de treball."
      ]
    },
    {
      "cell_type": "code",
      "execution_count": 1,
      "metadata": {
        "id": "mPd_xJuWP7ZI"
      },
      "outputs": [
        {
          "name": "stderr",
          "output_type": "stream",
          "text": [
            "--2023-11-24 17:25:04--  http://files.grouplens.org/datasets/movielens/ml-1m.zip\n",
            "Resolving files.grouplens.org (files.grouplens.org)... "
          ]
        },
        {
          "name": "stderr",
          "output_type": "stream",
          "text": [
            "128.101.65.152\n",
            "Connecting to files.grouplens.org (files.grouplens.org)|128.101.65.152|:80... connected.\n",
            "HTTP request sent, awaiting response... 200 OK\n",
            "Length: 5917549 (5,6M) [application/zip]\n",
            "Saving to: ‘ml-1m.zip’\n",
            "\n",
            "     0K .......... .......... .......... .......... ..........  0%  122K 47s\n",
            "    50K .......... .......... .......... .......... ..........  1%  244K 35s\n",
            "   100K .......... .......... .......... .......... ..........  2%  222M 23s\n",
            "   150K .......... .......... .......... .......... ..........  3% 51,6M 17s\n",
            "   200K .......... .......... .......... .......... ..........  4%  245K 18s\n",
            "   250K .......... .......... .......... .......... ..........  5%  156M 15s\n",
            "   300K .......... .......... .......... .......... ..........  6% 96,3M 13s\n",
            "   350K .......... .......... .......... .......... ..........  6%  122K 17s\n",
            "   400K .......... .......... .......... .......... ..........  7%  162M 15s\n",
            "   450K .......... .......... .......... .......... ..........  8%  193M 13s\n",
            "   500K .......... .......... .......... .......... ..........  9%  164M 12s\n",
            "   550K .......... .......... .......... .......... .......... 10% 1000K 11s\n",
            "   600K .......... .......... .......... .......... .......... 11%  302K 11s\n",
            "   650K .......... .......... .......... .......... .......... 12% 28,2M 10s\n",
            "   700K .......... .......... .......... .......... .......... 12% 26,4M 9s\n",
            "   750K .......... .......... .......... .......... .......... 13%  309K 10s\n",
            "   800K .......... .......... .......... .......... .......... 14% 1000K 9s\n",
            "   850K .......... .......... .......... .......... .......... 15%  107M 8s\n",
            "   900K .......... .......... .......... .......... .......... 16% 27,4M 8s\n",
            "   950K .......... .......... .......... .......... .......... 17% 34,3M 7s\n",
            "  1000K .......... .......... .......... .......... .......... 18%  178K 8s\n",
            "  1050K .......... .......... .......... .......... .......... 19% 1000K 8s\n",
            "  1100K .......... .......... .......... .......... .......... 19% 37,6M 7s\n",
            "  1150K .......... .......... .......... .......... .......... 20% 1000K 7s\n",
            "  1200K .......... .......... .......... .......... .......... 21%  150K 8s\n",
            "  1250K .......... .......... .......... .......... .......... 22% 35,3M 8s\n",
            "  1300K .......... .......... .......... .......... .......... 23% 1000K 7s\n",
            "  1350K .......... .......... .......... .......... .......... 24%  151M 7s\n",
            "  1400K .......... .......... .......... .......... .......... 25%  206M 7s\n",
            "  1450K .......... .......... .......... .......... .......... 25%  160M 6s\n",
            "  1500K .......... .......... .......... .......... .......... 26%  167M 6s\n",
            "  1550K .......... .......... .......... .......... .......... 27%  307K 6s\n",
            "  1600K .......... .......... .......... .......... .......... 28% 24,6M 6s\n",
            "  1650K .......... .......... .......... .......... .......... 29%  229M 6s\n",
            "  1700K .......... .......... .......... .......... .......... 30% 25,2M 5s\n",
            "  1750K .......... .......... .......... .......... .......... 31%  304K 6s\n",
            "  1800K .......... .......... .......... .......... .......... 32%  187M 5s\n",
            "  1850K .......... .......... .......... .......... .......... 32% 29,8M 5s\n",
            "  1900K .......... .......... .......... .......... .......... 33% 41,0M 5s\n",
            "  1950K .......... .......... .......... .......... .......... 34%  307K 5s\n",
            "  2000K .......... .......... .......... .......... .......... 35% 51,6M 5s\n",
            "  2050K .......... .......... .......... .......... .......... 36% 26,7M 5s\n",
            "  2100K .......... .......... .......... .......... .......... 37% 33,3M 5s\n",
            "  2150K .......... .......... .......... .......... .......... 38%  142M 4s\n",
            "  2200K .......... .......... .......... .......... .......... 38%  174K 5s\n",
            "  2250K .......... .......... .......... .......... .......... 39% 86,9M 4s\n",
            "  2300K .......... .......... .......... .......... .......... 40%  110M 4s\n",
            "  2350K .......... .......... .......... .......... .......... 41%  135K 5s\n",
            "  2400K .......... .......... .......... .......... .......... 42%  148M 5s\n",
            "  2450K .......... .......... .......... .......... .......... 43% 1000K 4s\n",
            "  2500K .......... .......... .......... .......... .......... 44%  216M 4s\n",
            "  2550K .......... .......... .......... .......... .......... 44%  288K 4s\n",
            "  2600K .......... .......... .......... .......... .......... 45%  139M 4s\n",
            "  2650K .......... .......... .......... .......... .......... 46% 1000K 4s\n",
            "  2700K .......... .......... .......... .......... .......... 47%  177M 4s\n",
            "  2750K .......... .......... .......... .......... .......... 48%  181M 4s\n",
            "  2800K .......... .......... .......... .......... .......... 49%  304K 4s\n",
            "  2850K .......... .......... .......... .......... .......... 50% 23,8M 4s\n",
            "  2900K .......... .......... .......... .......... .......... 51%  284M 4s\n",
            "  2950K .......... .......... .......... .......... .......... 51%  307K 4s\n",
            "  3000K .......... .......... .......... .......... .......... 52% 14,9M 3s\n",
            "  3050K .......... .......... .......... .......... .......... 53% 27,1M 3s\n",
            "  3100K .......... .......... .......... .......... .......... 54%  312K 3s\n",
            "  3150K .......... .......... .......... .......... .......... 55% 13,2M 3s\n",
            "  3200K .......... .......... .......... .......... .......... 56% 36,7M 3s\n",
            "  3250K .......... .......... .......... .......... .......... 57%  311K 3s\n",
            "  3300K .......... .......... .......... .......... .......... 57% 12,5M 3s\n",
            "  3350K .......... .......... .......... .......... .......... 58% 27,3M 3s\n",
            "  3400K .......... .......... .......... .......... .......... 59%  224K 3s\n",
            "  3450K .......... .......... .......... .......... .......... 60% 1000K 3s\n",
            "  3500K .......... .......... .......... .......... .......... 61%  144M 3s\n",
            "  3550K .......... .......... .......... .......... .......... 62% 84,3M 3s\n",
            "  3600K .......... .......... .......... .......... .......... 63%  301K 3s\n",
            "  3650K .......... .......... .......... .......... .......... 64% 30,6M 3s\n",
            "  3700K .......... .......... .......... .......... .......... 64% 16,6M 2s\n",
            "  3750K .......... .......... .......... .......... .......... 65%  253K 2s\n",
            "  3800K .......... .......... .......... .......... .......... 66%  114M 2s\n",
            "  3850K .......... .......... .......... .......... .......... 67%  119M 2s\n",
            "  3900K .......... .......... .......... .......... .......... 68%  302K 2s\n",
            "  3950K .......... .......... .......... .......... .......... 69% 30,4M 2s\n",
            "  4000K .......... .......... .......... .......... .......... 70% 1000K 2s\n",
            "  4050K .......... .......... .......... .......... .......... 70%  178K 2s\n",
            "  4100K .......... .......... .......... .......... .......... 71% 1000K 2s\n",
            "  4150K .......... .......... .......... .......... .......... 72% 91,6M 2s\n",
            "  4200K .......... .......... .......... .......... .......... 73% 58,0M 2s\n",
            "  4250K .......... .......... .......... .......... .......... 74%  245K 2s\n",
            "  4300K .......... .......... .......... .......... .......... 75%  127M 2s\n",
            "  4350K .......... .......... .......... .......... .......... 76% 49,9M 2s\n",
            "  4400K .......... .......... .......... .......... .......... 77%  304K 2s\n",
            "  4450K .......... .......... .......... .......... .......... 77% 28,0M 2s\n",
            "  4500K .......... .......... .......... .......... .......... 78%  223M 2s\n",
            "  4550K .......... .......... .......... .......... .......... 79% 35,6M 1s\n",
            "  4600K .......... .......... .......... .......... .......... 80%  308K 1s\n",
            "  4650K .......... .......... .......... .......... .......... 81% 14,9M 1s\n",
            "  4700K .......... .......... .......... .......... .......... 82% 50,0M 1s\n",
            "  4750K .......... .......... .......... .......... .......... 83%  178K 1s\n",
            "  4800K .......... .......... .......... .......... .......... 83%  140M 1s\n",
            "  4850K .......... .......... .......... .......... .......... 84%  142M 1s\n",
            "  4900K .......... .......... .......... .......... .......... 85%  206M 1s\n",
            "  4950K .......... .......... .......... .......... .......... 86%  123K 1s\n",
            "  5000K .......... .......... .......... .......... .......... 87%  122M 1s\n",
            "  5050K .......... .......... .......... .......... .......... 88%  169M 1s\n",
            "  5100K .......... .......... .......... .......... .......... 89% 1000K 1s\n",
            "  5150K .......... .......... .......... .......... .......... 89%  241K 1s\n",
            "  5200K .......... .......... .......... .......... .......... 90%  156M 1s\n",
            "  5250K .......... .......... .......... .......... .......... 91%  263M 1s\n",
            "  5300K .......... .......... .......... .......... .......... 92% 65,7M 1s\n",
            "  5350K .......... .......... .......... .......... .......... 93% 73,4M 0s\n",
            "  5400K .......... .......... .......... .......... .......... 94%  250K 0s\n",
            "  5450K .......... .......... .......... .......... .......... 95% 45,3M 0s\n",
            "  5500K .......... .......... .......... .......... .......... 96%  246K 0s\n",
            "  5550K .......... .......... .......... .......... .......... 96%  113M 0s\n",
            "  5600K .......... .......... .......... .......... .......... 97% 59,2M 0s\n",
            "  5650K .......... ......"
          ]
        },
        {
          "name": "stdout",
          "output_type": "stream",
          "text": [
            "Archive:  ml-1m.zip\n",
            "   creating: ml-1m/\n",
            "  inflating: ml-1m/movies.dat        \n",
            "  inflating: ml-1m/ratings.dat       \n",
            "  inflating: ml-1m/README            \n",
            "  inflating: ml-1m/users.dat         \n"
          ]
        },
        {
          "name": "stderr",
          "output_type": "stream",
          "text": [
            ".... .......... .......... .......... 98%  245K 0s\n",
            "  5700K .......... .......... .......... .......... .......... 99%  193M 0s\n",
            "  5750K .......... .......... ........                        100% 18,8M=7,3s\n",
            "\n",
            "2023-11-24 17:25:13 (795 KB/s) - ‘ml-1m.zip’ saved [5917549/5917549]\n",
            "\n"
          ]
        }
      ],
      "source": [
        "import os\n",
        "if os.path.isfile(\"/etc/password.txt\") == False:\n",
        "    os.system('wget -nc http://files.grouplens.org/datasets/movielens/ml-1m.zip')\n",
        "    os.system('unzip ml-1m.zip')"
      ]
    },
    {
      "cell_type": "markdown",
      "metadata": {
        "id": "SN_zOl7G7_He"
      },
      "source": [
        "+ Llegeix les tres taules de la base de dades en tres DataFrames de pandas amb aquest codi:"
      ]
    },
    {
      "cell_type": "code",
      "execution_count": 2,
      "metadata": {
        "id": "XXGGbC1OP7ZJ"
      },
      "outputs": [],
      "source": [
        "import math\n",
        "import numpy as np\n",
        "import pandas as pd\n",
        "import datetime\n",
        "import itertools\n",
        "from tqdm.notebook import trange, tqdm\n",
        "import matplotlib.pyplot as plt"
      ]
    },
    {
      "cell_type": "code",
      "execution_count": 3,
      "metadata": {
        "id": "UnM-iE1a7_He",
        "jupyter": {
          "outputs_hidden": false
        }
      },
      "outputs": [],
      "source": [
        "unames = ['user_id', 'gender', 'age', 'occupation', 'zip']\n",
        "users = pd.read_table('ml-1m/users.dat', sep='::', header=None, names=unames, engine='python')\n",
        "rnames = ['user_id', 'movie_id', 'rating', 'timestamp']\n",
        "ratings = pd.read_table('ml-1m/ratings.dat', sep='::', header=None, names=rnames, engine='python')\n",
        "mnames = ['movie_id', 'title', 'genres']\n",
        "movies = pd.read_table('ml-1m/movies.dat', sep='::', header=None, names=mnames, engine='python', encoding='latin-1')\n"
      ]
    },
    {
      "cell_type": "markdown",
      "metadata": {
        "id": "UgE08I4i7_Hf"
      },
      "source": [
        "### 2.2. Inspecció de les taules"
      ]
    },
    {
      "cell_type": "code",
      "execution_count": 4,
      "metadata": {
        "colab": {
          "base_uri": "https://localhost:8080/",
          "height": 363
        },
        "id": "YeiRpOEm7_Hf",
        "jupyter": {
          "outputs_hidden": false
        },
        "outputId": "41050cb4-26d2-4e9b-dc72-44aa198620aa"
      },
      "outputs": [
        {
          "data": {
            "text/html": [
              "<div>\n",
              "<style scoped>\n",
              "    .dataframe tbody tr th:only-of-type {\n",
              "        vertical-align: middle;\n",
              "    }\n",
              "\n",
              "    .dataframe tbody tr th {\n",
              "        vertical-align: top;\n",
              "    }\n",
              "\n",
              "    .dataframe thead th {\n",
              "        text-align: right;\n",
              "    }\n",
              "</style>\n",
              "<table border=\"1\" class=\"dataframe\">\n",
              "  <thead>\n",
              "    <tr style=\"text-align: right;\">\n",
              "      <th></th>\n",
              "      <th>user_id</th>\n",
              "      <th>gender</th>\n",
              "      <th>age</th>\n",
              "      <th>occupation</th>\n",
              "      <th>zip</th>\n",
              "    </tr>\n",
              "  </thead>\n",
              "  <tbody>\n",
              "    <tr>\n",
              "      <th>0</th>\n",
              "      <td>1</td>\n",
              "      <td>F</td>\n",
              "      <td>1</td>\n",
              "      <td>10</td>\n",
              "      <td>48067</td>\n",
              "    </tr>\n",
              "    <tr>\n",
              "      <th>1</th>\n",
              "      <td>2</td>\n",
              "      <td>M</td>\n",
              "      <td>56</td>\n",
              "      <td>16</td>\n",
              "      <td>70072</td>\n",
              "    </tr>\n",
              "    <tr>\n",
              "      <th>2</th>\n",
              "      <td>3</td>\n",
              "      <td>M</td>\n",
              "      <td>25</td>\n",
              "      <td>15</td>\n",
              "      <td>55117</td>\n",
              "    </tr>\n",
              "    <tr>\n",
              "      <th>3</th>\n",
              "      <td>4</td>\n",
              "      <td>M</td>\n",
              "      <td>45</td>\n",
              "      <td>7</td>\n",
              "      <td>02460</td>\n",
              "    </tr>\n",
              "    <tr>\n",
              "      <th>4</th>\n",
              "      <td>5</td>\n",
              "      <td>M</td>\n",
              "      <td>25</td>\n",
              "      <td>20</td>\n",
              "      <td>55455</td>\n",
              "    </tr>\n",
              "    <tr>\n",
              "      <th>5</th>\n",
              "      <td>6</td>\n",
              "      <td>F</td>\n",
              "      <td>50</td>\n",
              "      <td>9</td>\n",
              "      <td>55117</td>\n",
              "    </tr>\n",
              "    <tr>\n",
              "      <th>6</th>\n",
              "      <td>7</td>\n",
              "      <td>M</td>\n",
              "      <td>35</td>\n",
              "      <td>1</td>\n",
              "      <td>06810</td>\n",
              "    </tr>\n",
              "    <tr>\n",
              "      <th>7</th>\n",
              "      <td>8</td>\n",
              "      <td>M</td>\n",
              "      <td>25</td>\n",
              "      <td>12</td>\n",
              "      <td>11413</td>\n",
              "    </tr>\n",
              "    <tr>\n",
              "      <th>8</th>\n",
              "      <td>9</td>\n",
              "      <td>M</td>\n",
              "      <td>25</td>\n",
              "      <td>17</td>\n",
              "      <td>61614</td>\n",
              "    </tr>\n",
              "    <tr>\n",
              "      <th>9</th>\n",
              "      <td>10</td>\n",
              "      <td>F</td>\n",
              "      <td>35</td>\n",
              "      <td>1</td>\n",
              "      <td>95370</td>\n",
              "    </tr>\n",
              "  </tbody>\n",
              "</table>\n",
              "</div>"
            ],
            "text/plain": [
              "   user_id gender  age  occupation    zip\n",
              "0        1      F    1          10  48067\n",
              "1        2      M   56          16  70072\n",
              "2        3      M   25          15  55117\n",
              "3        4      M   45           7  02460\n",
              "4        5      M   25          20  55455\n",
              "5        6      F   50           9  55117\n",
              "6        7      M   35           1  06810\n",
              "7        8      M   25          12  11413\n",
              "8        9      M   25          17  61614\n",
              "9       10      F   35           1  95370"
            ]
          },
          "execution_count": 4,
          "metadata": {},
          "output_type": "execute_result"
        }
      ],
      "source": [
        "users[:10] "
      ]
    },
    {
      "cell_type": "code",
      "execution_count": 5,
      "metadata": {
        "colab": {
          "base_uri": "https://localhost:8080/",
          "height": 363
        },
        "id": "EBfcmBPv7_Hg",
        "jupyter": {
          "outputs_hidden": false
        },
        "outputId": "7ce05e1f-73ff-4f62-a311-3121948e2e3a"
      },
      "outputs": [
        {
          "data": {
            "text/html": [
              "<div>\n",
              "<style scoped>\n",
              "    .dataframe tbody tr th:only-of-type {\n",
              "        vertical-align: middle;\n",
              "    }\n",
              "\n",
              "    .dataframe tbody tr th {\n",
              "        vertical-align: top;\n",
              "    }\n",
              "\n",
              "    .dataframe thead th {\n",
              "        text-align: right;\n",
              "    }\n",
              "</style>\n",
              "<table border=\"1\" class=\"dataframe\">\n",
              "  <thead>\n",
              "    <tr style=\"text-align: right;\">\n",
              "      <th></th>\n",
              "      <th>user_id</th>\n",
              "      <th>gender</th>\n",
              "      <th>age</th>\n",
              "      <th>occupation</th>\n",
              "      <th>zip</th>\n",
              "    </tr>\n",
              "  </thead>\n",
              "  <tbody>\n",
              "    <tr>\n",
              "      <th>6030</th>\n",
              "      <td>6031</td>\n",
              "      <td>F</td>\n",
              "      <td>18</td>\n",
              "      <td>0</td>\n",
              "      <td>45123</td>\n",
              "    </tr>\n",
              "    <tr>\n",
              "      <th>6031</th>\n",
              "      <td>6032</td>\n",
              "      <td>M</td>\n",
              "      <td>45</td>\n",
              "      <td>7</td>\n",
              "      <td>55108</td>\n",
              "    </tr>\n",
              "    <tr>\n",
              "      <th>6032</th>\n",
              "      <td>6033</td>\n",
              "      <td>M</td>\n",
              "      <td>50</td>\n",
              "      <td>13</td>\n",
              "      <td>78232</td>\n",
              "    </tr>\n",
              "    <tr>\n",
              "      <th>6033</th>\n",
              "      <td>6034</td>\n",
              "      <td>M</td>\n",
              "      <td>25</td>\n",
              "      <td>14</td>\n",
              "      <td>94117</td>\n",
              "    </tr>\n",
              "    <tr>\n",
              "      <th>6034</th>\n",
              "      <td>6035</td>\n",
              "      <td>F</td>\n",
              "      <td>25</td>\n",
              "      <td>1</td>\n",
              "      <td>78734</td>\n",
              "    </tr>\n",
              "    <tr>\n",
              "      <th>6035</th>\n",
              "      <td>6036</td>\n",
              "      <td>F</td>\n",
              "      <td>25</td>\n",
              "      <td>15</td>\n",
              "      <td>32603</td>\n",
              "    </tr>\n",
              "    <tr>\n",
              "      <th>6036</th>\n",
              "      <td>6037</td>\n",
              "      <td>F</td>\n",
              "      <td>45</td>\n",
              "      <td>1</td>\n",
              "      <td>76006</td>\n",
              "    </tr>\n",
              "    <tr>\n",
              "      <th>6037</th>\n",
              "      <td>6038</td>\n",
              "      <td>F</td>\n",
              "      <td>56</td>\n",
              "      <td>1</td>\n",
              "      <td>14706</td>\n",
              "    </tr>\n",
              "    <tr>\n",
              "      <th>6038</th>\n",
              "      <td>6039</td>\n",
              "      <td>F</td>\n",
              "      <td>45</td>\n",
              "      <td>0</td>\n",
              "      <td>01060</td>\n",
              "    </tr>\n",
              "    <tr>\n",
              "      <th>6039</th>\n",
              "      <td>6040</td>\n",
              "      <td>M</td>\n",
              "      <td>25</td>\n",
              "      <td>6</td>\n",
              "      <td>11106</td>\n",
              "    </tr>\n",
              "  </tbody>\n",
              "</table>\n",
              "</div>"
            ],
            "text/plain": [
              "      user_id gender  age  occupation    zip\n",
              "6030     6031      F   18           0  45123\n",
              "6031     6032      M   45           7  55108\n",
              "6032     6033      M   50          13  78232\n",
              "6033     6034      M   25          14  94117\n",
              "6034     6035      F   25           1  78734\n",
              "6035     6036      F   25          15  32603\n",
              "6036     6037      F   45           1  76006\n",
              "6037     6038      F   56           1  14706\n",
              "6038     6039      F   45           0  01060\n",
              "6039     6040      M   25           6  11106"
            ]
          },
          "execution_count": 5,
          "metadata": {},
          "output_type": "execute_result"
        }
      ],
      "source": [
        "users[-10:]"
      ]
    },
    {
      "cell_type": "code",
      "execution_count": 6,
      "metadata": {
        "colab": {
          "base_uri": "https://localhost:8080/",
          "height": 363
        },
        "id": "ClIF_jSR7_Hg",
        "jupyter": {
          "outputs_hidden": false
        },
        "outputId": "49a5aa21-a1fc-4b48-8d46-ef86f61303eb"
      },
      "outputs": [
        {
          "data": {
            "text/html": [
              "<div>\n",
              "<style scoped>\n",
              "    .dataframe tbody tr th:only-of-type {\n",
              "        vertical-align: middle;\n",
              "    }\n",
              "\n",
              "    .dataframe tbody tr th {\n",
              "        vertical-align: top;\n",
              "    }\n",
              "\n",
              "    .dataframe thead th {\n",
              "        text-align: right;\n",
              "    }\n",
              "</style>\n",
              "<table border=\"1\" class=\"dataframe\">\n",
              "  <thead>\n",
              "    <tr style=\"text-align: right;\">\n",
              "      <th></th>\n",
              "      <th>user_id</th>\n",
              "      <th>movie_id</th>\n",
              "      <th>rating</th>\n",
              "      <th>timestamp</th>\n",
              "    </tr>\n",
              "  </thead>\n",
              "  <tbody>\n",
              "    <tr>\n",
              "      <th>1000199</th>\n",
              "      <td>6040</td>\n",
              "      <td>2022</td>\n",
              "      <td>5</td>\n",
              "      <td>956716207</td>\n",
              "    </tr>\n",
              "    <tr>\n",
              "      <th>1000200</th>\n",
              "      <td>6040</td>\n",
              "      <td>2028</td>\n",
              "      <td>5</td>\n",
              "      <td>956704519</td>\n",
              "    </tr>\n",
              "    <tr>\n",
              "      <th>1000201</th>\n",
              "      <td>6040</td>\n",
              "      <td>1080</td>\n",
              "      <td>4</td>\n",
              "      <td>957717322</td>\n",
              "    </tr>\n",
              "    <tr>\n",
              "      <th>1000202</th>\n",
              "      <td>6040</td>\n",
              "      <td>1089</td>\n",
              "      <td>4</td>\n",
              "      <td>956704996</td>\n",
              "    </tr>\n",
              "    <tr>\n",
              "      <th>1000203</th>\n",
              "      <td>6040</td>\n",
              "      <td>1090</td>\n",
              "      <td>3</td>\n",
              "      <td>956715518</td>\n",
              "    </tr>\n",
              "    <tr>\n",
              "      <th>1000204</th>\n",
              "      <td>6040</td>\n",
              "      <td>1091</td>\n",
              "      <td>1</td>\n",
              "      <td>956716541</td>\n",
              "    </tr>\n",
              "    <tr>\n",
              "      <th>1000205</th>\n",
              "      <td>6040</td>\n",
              "      <td>1094</td>\n",
              "      <td>5</td>\n",
              "      <td>956704887</td>\n",
              "    </tr>\n",
              "    <tr>\n",
              "      <th>1000206</th>\n",
              "      <td>6040</td>\n",
              "      <td>562</td>\n",
              "      <td>5</td>\n",
              "      <td>956704746</td>\n",
              "    </tr>\n",
              "    <tr>\n",
              "      <th>1000207</th>\n",
              "      <td>6040</td>\n",
              "      <td>1096</td>\n",
              "      <td>4</td>\n",
              "      <td>956715648</td>\n",
              "    </tr>\n",
              "    <tr>\n",
              "      <th>1000208</th>\n",
              "      <td>6040</td>\n",
              "      <td>1097</td>\n",
              "      <td>4</td>\n",
              "      <td>956715569</td>\n",
              "    </tr>\n",
              "  </tbody>\n",
              "</table>\n",
              "</div>"
            ],
            "text/plain": [
              "         user_id  movie_id  rating  timestamp\n",
              "1000199     6040      2022       5  956716207\n",
              "1000200     6040      2028       5  956704519\n",
              "1000201     6040      1080       4  957717322\n",
              "1000202     6040      1089       4  956704996\n",
              "1000203     6040      1090       3  956715518\n",
              "1000204     6040      1091       1  956716541\n",
              "1000205     6040      1094       5  956704887\n",
              "1000206     6040       562       5  956704746\n",
              "1000207     6040      1096       4  956715648\n",
              "1000208     6040      1097       4  956715569"
            ]
          },
          "execution_count": 6,
          "metadata": {},
          "output_type": "execute_result"
        }
      ],
      "source": [
        "ratings[-10:]"
      ]
    },
    {
      "cell_type": "code",
      "execution_count": 7,
      "metadata": {
        "colab": {
          "base_uri": "https://localhost:8080/",
          "height": 363
        },
        "id": "_0rLOKXd7_Hg",
        "jupyter": {
          "outputs_hidden": false
        },
        "outputId": "b7f773d2-00a7-423f-b4c9-252cb3711608"
      },
      "outputs": [
        {
          "data": {
            "text/html": [
              "<div>\n",
              "<style scoped>\n",
              "    .dataframe tbody tr th:only-of-type {\n",
              "        vertical-align: middle;\n",
              "    }\n",
              "\n",
              "    .dataframe tbody tr th {\n",
              "        vertical-align: top;\n",
              "    }\n",
              "\n",
              "    .dataframe thead th {\n",
              "        text-align: right;\n",
              "    }\n",
              "</style>\n",
              "<table border=\"1\" class=\"dataframe\">\n",
              "  <thead>\n",
              "    <tr style=\"text-align: right;\">\n",
              "      <th></th>\n",
              "      <th>user_id</th>\n",
              "      <th>movie_id</th>\n",
              "      <th>rating</th>\n",
              "      <th>timestamp</th>\n",
              "    </tr>\n",
              "  </thead>\n",
              "  <tbody>\n",
              "    <tr>\n",
              "      <th>0</th>\n",
              "      <td>1</td>\n",
              "      <td>1193</td>\n",
              "      <td>5</td>\n",
              "      <td>978300760</td>\n",
              "    </tr>\n",
              "    <tr>\n",
              "      <th>1</th>\n",
              "      <td>1</td>\n",
              "      <td>661</td>\n",
              "      <td>3</td>\n",
              "      <td>978302109</td>\n",
              "    </tr>\n",
              "    <tr>\n",
              "      <th>2</th>\n",
              "      <td>1</td>\n",
              "      <td>914</td>\n",
              "      <td>3</td>\n",
              "      <td>978301968</td>\n",
              "    </tr>\n",
              "    <tr>\n",
              "      <th>3</th>\n",
              "      <td>1</td>\n",
              "      <td>3408</td>\n",
              "      <td>4</td>\n",
              "      <td>978300275</td>\n",
              "    </tr>\n",
              "    <tr>\n",
              "      <th>4</th>\n",
              "      <td>1</td>\n",
              "      <td>2355</td>\n",
              "      <td>5</td>\n",
              "      <td>978824291</td>\n",
              "    </tr>\n",
              "    <tr>\n",
              "      <th>5</th>\n",
              "      <td>1</td>\n",
              "      <td>1197</td>\n",
              "      <td>3</td>\n",
              "      <td>978302268</td>\n",
              "    </tr>\n",
              "    <tr>\n",
              "      <th>6</th>\n",
              "      <td>1</td>\n",
              "      <td>1287</td>\n",
              "      <td>5</td>\n",
              "      <td>978302039</td>\n",
              "    </tr>\n",
              "    <tr>\n",
              "      <th>7</th>\n",
              "      <td>1</td>\n",
              "      <td>2804</td>\n",
              "      <td>5</td>\n",
              "      <td>978300719</td>\n",
              "    </tr>\n",
              "    <tr>\n",
              "      <th>8</th>\n",
              "      <td>1</td>\n",
              "      <td>594</td>\n",
              "      <td>4</td>\n",
              "      <td>978302268</td>\n",
              "    </tr>\n",
              "    <tr>\n",
              "      <th>9</th>\n",
              "      <td>1</td>\n",
              "      <td>919</td>\n",
              "      <td>4</td>\n",
              "      <td>978301368</td>\n",
              "    </tr>\n",
              "  </tbody>\n",
              "</table>\n",
              "</div>"
            ],
            "text/plain": [
              "   user_id  movie_id  rating  timestamp\n",
              "0        1      1193       5  978300760\n",
              "1        1       661       3  978302109\n",
              "2        1       914       3  978301968\n",
              "3        1      3408       4  978300275\n",
              "4        1      2355       5  978824291\n",
              "5        1      1197       3  978302268\n",
              "6        1      1287       5  978302039\n",
              "7        1      2804       5  978300719\n",
              "8        1       594       4  978302268\n",
              "9        1       919       4  978301368"
            ]
          },
          "execution_count": 7,
          "metadata": {},
          "output_type": "execute_result"
        }
      ],
      "source": [
        "ratings[:10]"
      ]
    },
    {
      "cell_type": "code",
      "execution_count": 8,
      "metadata": {
        "colab": {
          "base_uri": "https://localhost:8080/",
          "height": 206
        },
        "id": "MGJCDjya7_Hg",
        "jupyter": {
          "outputs_hidden": false
        },
        "outputId": "a229fcd9-b9ec-4284-8578-b075967d56b3"
      },
      "outputs": [
        {
          "data": {
            "text/html": [
              "<div>\n",
              "<style scoped>\n",
              "    .dataframe tbody tr th:only-of-type {\n",
              "        vertical-align: middle;\n",
              "    }\n",
              "\n",
              "    .dataframe tbody tr th {\n",
              "        vertical-align: top;\n",
              "    }\n",
              "\n",
              "    .dataframe thead th {\n",
              "        text-align: right;\n",
              "    }\n",
              "</style>\n",
              "<table border=\"1\" class=\"dataframe\">\n",
              "  <thead>\n",
              "    <tr style=\"text-align: right;\">\n",
              "      <th></th>\n",
              "      <th>user_id</th>\n",
              "      <th>movie_id</th>\n",
              "      <th>rating</th>\n",
              "      <th>timestamp</th>\n",
              "    </tr>\n",
              "  </thead>\n",
              "  <tbody>\n",
              "    <tr>\n",
              "      <th>427702</th>\n",
              "      <td>2599</td>\n",
              "      <td>1</td>\n",
              "      <td>4</td>\n",
              "      <td>973796689</td>\n",
              "    </tr>\n",
              "    <tr>\n",
              "      <th>1966</th>\n",
              "      <td>18</td>\n",
              "      <td>1</td>\n",
              "      <td>4</td>\n",
              "      <td>978154768</td>\n",
              "    </tr>\n",
              "    <tr>\n",
              "      <th>683688</th>\n",
              "      <td>4089</td>\n",
              "      <td>1</td>\n",
              "      <td>5</td>\n",
              "      <td>965428947</td>\n",
              "    </tr>\n",
              "    <tr>\n",
              "      <th>596207</th>\n",
              "      <td>3626</td>\n",
              "      <td>1</td>\n",
              "      <td>4</td>\n",
              "      <td>966594018</td>\n",
              "    </tr>\n",
              "    <tr>\n",
              "      <th>465902</th>\n",
              "      <td>2873</td>\n",
              "      <td>1</td>\n",
              "      <td>5</td>\n",
              "      <td>972784317</td>\n",
              "    </tr>\n",
              "  </tbody>\n",
              "</table>\n",
              "</div>"
            ],
            "text/plain": [
              "        user_id  movie_id  rating  timestamp\n",
              "427702     2599         1       4  973796689\n",
              "1966         18         1       4  978154768\n",
              "683688     4089         1       5  965428947\n",
              "596207     3626         1       4  966594018\n",
              "465902     2873         1       5  972784317"
            ]
          },
          "execution_count": 8,
          "metadata": {},
          "output_type": "execute_result"
        }
      ],
      "source": [
        "ratings.sort_values('movie_id')[:5]\n"
      ]
    },
    {
      "cell_type": "code",
      "execution_count": 9,
      "metadata": {
        "colab": {
          "base_uri": "https://localhost:8080/",
          "height": 206
        },
        "id": "u_9RNoEA7_Hh",
        "jupyter": {
          "outputs_hidden": false
        },
        "outputId": "cfa8177b-67f9-40ea-d8da-68941bae3cf9"
      },
      "outputs": [
        {
          "data": {
            "text/html": [
              "<div>\n",
              "<style scoped>\n",
              "    .dataframe tbody tr th:only-of-type {\n",
              "        vertical-align: middle;\n",
              "    }\n",
              "\n",
              "    .dataframe tbody tr th {\n",
              "        vertical-align: top;\n",
              "    }\n",
              "\n",
              "    .dataframe thead th {\n",
              "        text-align: right;\n",
              "    }\n",
              "</style>\n",
              "<table border=\"1\" class=\"dataframe\">\n",
              "  <thead>\n",
              "    <tr style=\"text-align: right;\">\n",
              "      <th></th>\n",
              "      <th>movie_id</th>\n",
              "      <th>title</th>\n",
              "      <th>genres</th>\n",
              "    </tr>\n",
              "  </thead>\n",
              "  <tbody>\n",
              "    <tr>\n",
              "      <th>0</th>\n",
              "      <td>1</td>\n",
              "      <td>Toy Story (1995)</td>\n",
              "      <td>Animation|Children's|Comedy</td>\n",
              "    </tr>\n",
              "    <tr>\n",
              "      <th>1</th>\n",
              "      <td>2</td>\n",
              "      <td>Jumanji (1995)</td>\n",
              "      <td>Adventure|Children's|Fantasy</td>\n",
              "    </tr>\n",
              "    <tr>\n",
              "      <th>2</th>\n",
              "      <td>3</td>\n",
              "      <td>Grumpier Old Men (1995)</td>\n",
              "      <td>Comedy|Romance</td>\n",
              "    </tr>\n",
              "    <tr>\n",
              "      <th>3</th>\n",
              "      <td>4</td>\n",
              "      <td>Waiting to Exhale (1995)</td>\n",
              "      <td>Comedy|Drama</td>\n",
              "    </tr>\n",
              "    <tr>\n",
              "      <th>4</th>\n",
              "      <td>5</td>\n",
              "      <td>Father of the Bride Part II (1995)</td>\n",
              "      <td>Comedy</td>\n",
              "    </tr>\n",
              "  </tbody>\n",
              "</table>\n",
              "</div>"
            ],
            "text/plain": [
              "   movie_id                               title                        genres\n",
              "0         1                    Toy Story (1995)   Animation|Children's|Comedy\n",
              "1         2                      Jumanji (1995)  Adventure|Children's|Fantasy\n",
              "2         3             Grumpier Old Men (1995)                Comedy|Romance\n",
              "3         4            Waiting to Exhale (1995)                  Comedy|Drama\n",
              "4         5  Father of the Bride Part II (1995)                        Comedy"
            ]
          },
          "execution_count": 9,
          "metadata": {},
          "output_type": "execute_result"
        }
      ],
      "source": [
        "movies[:5]"
      ]
    },
    {
      "cell_type": "code",
      "execution_count": 10,
      "metadata": {
        "colab": {
          "base_uri": "https://localhost:8080/",
          "height": 206
        },
        "id": "vEXHJDc17_Hh",
        "jupyter": {
          "outputs_hidden": false
        },
        "outputId": "bac27523-c1de-467a-ec09-6922306340ba"
      },
      "outputs": [
        {
          "data": {
            "text/html": [
              "<div>\n",
              "<style scoped>\n",
              "    .dataframe tbody tr th:only-of-type {\n",
              "        vertical-align: middle;\n",
              "    }\n",
              "\n",
              "    .dataframe tbody tr th {\n",
              "        vertical-align: top;\n",
              "    }\n",
              "\n",
              "    .dataframe thead th {\n",
              "        text-align: right;\n",
              "    }\n",
              "</style>\n",
              "<table border=\"1\" class=\"dataframe\">\n",
              "  <thead>\n",
              "    <tr style=\"text-align: right;\">\n",
              "      <th></th>\n",
              "      <th>user_id</th>\n",
              "      <th>movie_id</th>\n",
              "      <th>rating</th>\n",
              "      <th>timestamp</th>\n",
              "    </tr>\n",
              "  </thead>\n",
              "  <tbody>\n",
              "    <tr>\n",
              "      <th>0</th>\n",
              "      <td>1</td>\n",
              "      <td>1193</td>\n",
              "      <td>5</td>\n",
              "      <td>978300760</td>\n",
              "    </tr>\n",
              "    <tr>\n",
              "      <th>1</th>\n",
              "      <td>1</td>\n",
              "      <td>661</td>\n",
              "      <td>3</td>\n",
              "      <td>978302109</td>\n",
              "    </tr>\n",
              "    <tr>\n",
              "      <th>2</th>\n",
              "      <td>1</td>\n",
              "      <td>914</td>\n",
              "      <td>3</td>\n",
              "      <td>978301968</td>\n",
              "    </tr>\n",
              "    <tr>\n",
              "      <th>3</th>\n",
              "      <td>1</td>\n",
              "      <td>3408</td>\n",
              "      <td>4</td>\n",
              "      <td>978300275</td>\n",
              "    </tr>\n",
              "    <tr>\n",
              "      <th>4</th>\n",
              "      <td>1</td>\n",
              "      <td>2355</td>\n",
              "      <td>5</td>\n",
              "      <td>978824291</td>\n",
              "    </tr>\n",
              "  </tbody>\n",
              "</table>\n",
              "</div>"
            ],
            "text/plain": [
              "   user_id  movie_id  rating  timestamp\n",
              "0        1      1193       5  978300760\n",
              "1        1       661       3  978302109\n",
              "2        1       914       3  978301968\n",
              "3        1      3408       4  978300275\n",
              "4        1      2355       5  978824291"
            ]
          },
          "execution_count": 10,
          "metadata": {},
          "output_type": "execute_result"
        }
      ],
      "source": [
        "ratings[:5]"
      ]
    },
    {
      "cell_type": "markdown",
      "metadata": {
        "id": "gni6mASQ7_Hh"
      },
      "source": [
        "### 2.3 **Exemple:** Com extreure informació d'un DataFrame."
      ]
    },
    {
      "cell_type": "markdown",
      "metadata": {
        "id": "eb_fcvVc7_Hh"
      },
      "source": [
        "Suposa que volem calcular les **puntuacions mitjanes d'una pel·licula per sexe o edat**, dades que estan a frames diferents.\n",
        "\n",
        "El primer pas a obtenir una única estructura que contingui tota la informació. Per fer-ho podem usar la funció ``merge`` de pandas. Aquesta funció infereix automàticament quines columnes ha d'usar per fer el ``merge`` basant-se en els noms que fan intersecció.\n",
        "\n",
        "Reviseu aquests conceptes de pandas: https://pandas.pydata.org/docs/user_guide/merging.html"
      ]
    },
    {
      "cell_type": "code",
      "execution_count": 11,
      "metadata": {
        "colab": {
          "base_uri": "https://localhost:8080/",
          "height": 363
        },
        "id": "ZgrFQBF67_Hh",
        "jupyter": {
          "outputs_hidden": false
        },
        "outputId": "27bf68ab-5647-430f-fd57-8c3cb4d81452"
      },
      "outputs": [
        {
          "data": {
            "text/html": [
              "<div>\n",
              "<style scoped>\n",
              "    .dataframe tbody tr th:only-of-type {\n",
              "        vertical-align: middle;\n",
              "    }\n",
              "\n",
              "    .dataframe tbody tr th {\n",
              "        vertical-align: top;\n",
              "    }\n",
              "\n",
              "    .dataframe thead th {\n",
              "        text-align: right;\n",
              "    }\n",
              "</style>\n",
              "<table border=\"1\" class=\"dataframe\">\n",
              "  <thead>\n",
              "    <tr style=\"text-align: right;\">\n",
              "      <th></th>\n",
              "      <th>user_id</th>\n",
              "      <th>movie_id</th>\n",
              "      <th>rating</th>\n",
              "      <th>timestamp</th>\n",
              "      <th>gender</th>\n",
              "      <th>age</th>\n",
              "      <th>occupation</th>\n",
              "      <th>zip</th>\n",
              "      <th>title</th>\n",
              "      <th>genres</th>\n",
              "    </tr>\n",
              "  </thead>\n",
              "  <tbody>\n",
              "    <tr>\n",
              "      <th>0</th>\n",
              "      <td>1</td>\n",
              "      <td>1193</td>\n",
              "      <td>5</td>\n",
              "      <td>978300760</td>\n",
              "      <td>F</td>\n",
              "      <td>1</td>\n",
              "      <td>10</td>\n",
              "      <td>48067</td>\n",
              "      <td>One Flew Over the Cuckoo's Nest (1975)</td>\n",
              "      <td>Drama</td>\n",
              "    </tr>\n",
              "    <tr>\n",
              "      <th>28501</th>\n",
              "      <td>1</td>\n",
              "      <td>48</td>\n",
              "      <td>5</td>\n",
              "      <td>978824351</td>\n",
              "      <td>F</td>\n",
              "      <td>1</td>\n",
              "      <td>10</td>\n",
              "      <td>48067</td>\n",
              "      <td>Pocahontas (1995)</td>\n",
              "      <td>Animation|Children's|Musical|Romance</td>\n",
              "    </tr>\n",
              "    <tr>\n",
              "      <th>13819</th>\n",
              "      <td>1</td>\n",
              "      <td>938</td>\n",
              "      <td>4</td>\n",
              "      <td>978301752</td>\n",
              "      <td>F</td>\n",
              "      <td>1</td>\n",
              "      <td>10</td>\n",
              "      <td>48067</td>\n",
              "      <td>Gigi (1958)</td>\n",
              "      <td>Musical</td>\n",
              "    </tr>\n",
              "    <tr>\n",
              "      <th>51327</th>\n",
              "      <td>1</td>\n",
              "      <td>1207</td>\n",
              "      <td>4</td>\n",
              "      <td>978300719</td>\n",
              "      <td>F</td>\n",
              "      <td>1</td>\n",
              "      <td>10</td>\n",
              "      <td>48067</td>\n",
              "      <td>To Kill a Mockingbird (1962)</td>\n",
              "      <td>Drama</td>\n",
              "    </tr>\n",
              "    <tr>\n",
              "      <th>31152</th>\n",
              "      <td>1</td>\n",
              "      <td>1721</td>\n",
              "      <td>4</td>\n",
              "      <td>978300055</td>\n",
              "      <td>F</td>\n",
              "      <td>1</td>\n",
              "      <td>10</td>\n",
              "      <td>48067</td>\n",
              "      <td>Titanic (1997)</td>\n",
              "      <td>Drama|Romance</td>\n",
              "    </tr>\n",
              "    <tr>\n",
              "      <th>37916</th>\n",
              "      <td>1</td>\n",
              "      <td>2762</td>\n",
              "      <td>4</td>\n",
              "      <td>978302091</td>\n",
              "      <td>F</td>\n",
              "      <td>1</td>\n",
              "      <td>10</td>\n",
              "      <td>48067</td>\n",
              "      <td>Sixth Sense, The (1999)</td>\n",
              "      <td>Thriller</td>\n",
              "    </tr>\n",
              "    <tr>\n",
              "      <th>18472</th>\n",
              "      <td>1</td>\n",
              "      <td>2687</td>\n",
              "      <td>3</td>\n",
              "      <td>978824268</td>\n",
              "      <td>F</td>\n",
              "      <td>1</td>\n",
              "      <td>10</td>\n",
              "      <td>48067</td>\n",
              "      <td>Tarzan (1999)</td>\n",
              "      <td>Animation|Children's</td>\n",
              "    </tr>\n",
              "    <tr>\n",
              "      <th>45685</th>\n",
              "      <td>1</td>\n",
              "      <td>2692</td>\n",
              "      <td>4</td>\n",
              "      <td>978301570</td>\n",
              "      <td>F</td>\n",
              "      <td>1</td>\n",
              "      <td>10</td>\n",
              "      <td>48067</td>\n",
              "      <td>Run Lola Run (Lola rennt) (1998)</td>\n",
              "      <td>Action|Crime|Romance</td>\n",
              "    </tr>\n",
              "    <tr>\n",
              "      <th>22832</th>\n",
              "      <td>1</td>\n",
              "      <td>720</td>\n",
              "      <td>3</td>\n",
              "      <td>978300760</td>\n",
              "      <td>F</td>\n",
              "      <td>1</td>\n",
              "      <td>10</td>\n",
              "      <td>48067</td>\n",
              "      <td>Wallace &amp; Gromit: The Best of Aardman Animatio...</td>\n",
              "      <td>Animation</td>\n",
              "    </tr>\n",
              "    <tr>\n",
              "      <th>32771</th>\n",
              "      <td>1</td>\n",
              "      <td>745</td>\n",
              "      <td>3</td>\n",
              "      <td>978824268</td>\n",
              "      <td>F</td>\n",
              "      <td>1</td>\n",
              "      <td>10</td>\n",
              "      <td>48067</td>\n",
              "      <td>Close Shave, A (1995)</td>\n",
              "      <td>Animation|Comedy|Thriller</td>\n",
              "    </tr>\n",
              "  </tbody>\n",
              "</table>\n",
              "</div>"
            ],
            "text/plain": [
              "       user_id  movie_id  rating  timestamp gender  age  occupation    zip  \\\n",
              "0            1      1193       5  978300760      F    1          10  48067   \n",
              "28501        1        48       5  978824351      F    1          10  48067   \n",
              "13819        1       938       4  978301752      F    1          10  48067   \n",
              "51327        1      1207       4  978300719      F    1          10  48067   \n",
              "31152        1      1721       4  978300055      F    1          10  48067   \n",
              "37916        1      2762       4  978302091      F    1          10  48067   \n",
              "18472        1      2687       3  978824268      F    1          10  48067   \n",
              "45685        1      2692       4  978301570      F    1          10  48067   \n",
              "22832        1       720       3  978300760      F    1          10  48067   \n",
              "32771        1       745       3  978824268      F    1          10  48067   \n",
              "\n",
              "                                                   title  \\\n",
              "0                 One Flew Over the Cuckoo's Nest (1975)   \n",
              "28501                                  Pocahontas (1995)   \n",
              "13819                                        Gigi (1958)   \n",
              "51327                       To Kill a Mockingbird (1962)   \n",
              "31152                                     Titanic (1997)   \n",
              "37916                            Sixth Sense, The (1999)   \n",
              "18472                                      Tarzan (1999)   \n",
              "45685                   Run Lola Run (Lola rennt) (1998)   \n",
              "22832  Wallace & Gromit: The Best of Aardman Animatio...   \n",
              "32771                              Close Shave, A (1995)   \n",
              "\n",
              "                                     genres  \n",
              "0                                     Drama  \n",
              "28501  Animation|Children's|Musical|Romance  \n",
              "13819                               Musical  \n",
              "51327                                 Drama  \n",
              "31152                         Drama|Romance  \n",
              "37916                              Thriller  \n",
              "18472                  Animation|Children's  \n",
              "45685                  Action|Crime|Romance  \n",
              "22832                             Animation  \n",
              "32771             Animation|Comedy|Thriller  "
            ]
          },
          "execution_count": 11,
          "metadata": {},
          "output_type": "execute_result"
        }
      ],
      "source": [
        "data = pd.merge(pd.merge(ratings, users), movies)\n",
        "\n",
        "# Visualitzem la taula ordenada per identificador d'usuari\n",
        "data.sort_values(by='user_id')[:10]"
      ]
    },
    {
      "cell_type": "markdown",
      "metadata": {
        "id": "_ZUmLfmb7_Hh"
      },
      "source": [
        "La funció ``iloc`` ens permet obtenir un subconjunt de files i/o columnes indexades per un enter:"
      ]
    },
    {
      "cell_type": "code",
      "execution_count": 12,
      "metadata": {
        "colab": {
          "base_uri": "https://localhost:8080/",
          "height": 112
        },
        "id": "KD1bJDTl7_Hi",
        "jupyter": {
          "outputs_hidden": false
        },
        "outputId": "35dfc10b-06fb-4a95-8d18-522b107d175c"
      },
      "outputs": [
        {
          "data": {
            "text/html": [
              "<div>\n",
              "<style scoped>\n",
              "    .dataframe tbody tr th:only-of-type {\n",
              "        vertical-align: middle;\n",
              "    }\n",
              "\n",
              "    .dataframe tbody tr th {\n",
              "        vertical-align: top;\n",
              "    }\n",
              "\n",
              "    .dataframe thead th {\n",
              "        text-align: right;\n",
              "    }\n",
              "</style>\n",
              "<table border=\"1\" class=\"dataframe\">\n",
              "  <thead>\n",
              "    <tr style=\"text-align: right;\">\n",
              "      <th></th>\n",
              "      <th>user_id</th>\n",
              "      <th>movie_id</th>\n",
              "      <th>rating</th>\n",
              "      <th>timestamp</th>\n",
              "      <th>gender</th>\n",
              "      <th>age</th>\n",
              "      <th>occupation</th>\n",
              "      <th>zip</th>\n",
              "      <th>title</th>\n",
              "      <th>genres</th>\n",
              "    </tr>\n",
              "  </thead>\n",
              "  <tbody>\n",
              "    <tr>\n",
              "      <th>3</th>\n",
              "      <td>15</td>\n",
              "      <td>1193</td>\n",
              "      <td>4</td>\n",
              "      <td>978199279</td>\n",
              "      <td>M</td>\n",
              "      <td>25</td>\n",
              "      <td>7</td>\n",
              "      <td>22903</td>\n",
              "      <td>One Flew Over the Cuckoo's Nest (1975)</td>\n",
              "      <td>Drama</td>\n",
              "    </tr>\n",
              "    <tr>\n",
              "      <th>4</th>\n",
              "      <td>17</td>\n",
              "      <td>1193</td>\n",
              "      <td>5</td>\n",
              "      <td>978158471</td>\n",
              "      <td>M</td>\n",
              "      <td>50</td>\n",
              "      <td>1</td>\n",
              "      <td>95350</td>\n",
              "      <td>One Flew Over the Cuckoo's Nest (1975)</td>\n",
              "      <td>Drama</td>\n",
              "    </tr>\n",
              "  </tbody>\n",
              "</table>\n",
              "</div>"
            ],
            "text/plain": [
              "   user_id  movie_id  rating  timestamp gender  age  occupation    zip  \\\n",
              "3       15      1193       4  978199279      M   25           7  22903   \n",
              "4       17      1193       5  978158471      M   50           1  95350   \n",
              "\n",
              "                                    title genres  \n",
              "3  One Flew Over the Cuckoo's Nest (1975)  Drama  \n",
              "4  One Flew Over the Cuckoo's Nest (1975)  Drama  "
            ]
          },
          "execution_count": 12,
          "metadata": {},
          "output_type": "execute_result"
        }
      ],
      "source": [
        "data.iloc[3:5]"
      ]
    },
    {
      "cell_type": "markdown",
      "metadata": {
        "id": "zAUedYqE7_Hi"
      },
      "source": [
        "Els índexs Booleans ens permeten seleccionar una part de la taula que compleix una condició."
      ]
    },
    {
      "cell_type": "code",
      "execution_count": 13,
      "metadata": {
        "colab": {
          "base_uri": "https://localhost:8080/"
        },
        "id": "QY4xV2xo7_Hi",
        "jupyter": {
          "outputs_hidden": false
        },
        "outputId": "fc89c0e6-3610-484b-ab58-e4f223bba098"
      },
      "outputs": [
        {
          "name": "stdout",
          "output_type": "stream",
          "text": [
            "24.638850480249626 %\n"
          ]
        }
      ],
      "source": [
        "# comptem quin tant per cent de ratings estan fets per una dona\n",
        "\n",
        "print(data[data['gender']=='F']['rating'].count()/float(data['rating'].count())*100, '%')"
      ]
    },
    {
      "cell_type": "markdown",
      "metadata": {
        "id": "C1F4nsNa7_Hi"
      },
      "source": [
        "Per obtenir les **puntuacions mitjanes de cada pel·licula agrupada per edat** podem usar el mètode ``pivot_table`` que és una forma de \"canviar\" la forma de la taula especificant quin valor agregat (mitjançant una funció predefinida) hi volem en funció dels valors de dues columnes.\n",
        "\n",
        "Reviseu aquests conceptes:\n",
        "+ https://pandas.pydata.org/docs/reference/api/pandas.DataFrame.pivot.html\n",
        "+ https://pandas.pydata.org/docs/reference/api/pandas.DataFrame.pivot_table.html#pandas.DataFrame.pivot_table"
      ]
    },
    {
      "cell_type": "code",
      "execution_count": 14,
      "metadata": {
        "colab": {
          "base_uri": "https://localhost:8080/",
          "height": 394
        },
        "id": "0ggg8fUI7_Hi",
        "jupyter": {
          "outputs_hidden": false
        },
        "outputId": "7166192d-2b70-473c-86e0-344b4cafc4e9"
      },
      "outputs": [
        {
          "data": {
            "text/html": [
              "<div>\n",
              "<style scoped>\n",
              "    .dataframe tbody tr th:only-of-type {\n",
              "        vertical-align: middle;\n",
              "    }\n",
              "\n",
              "    .dataframe tbody tr th {\n",
              "        vertical-align: top;\n",
              "    }\n",
              "\n",
              "    .dataframe thead th {\n",
              "        text-align: right;\n",
              "    }\n",
              "</style>\n",
              "<table border=\"1\" class=\"dataframe\">\n",
              "  <thead>\n",
              "    <tr style=\"text-align: right;\">\n",
              "      <th>age</th>\n",
              "      <th>1</th>\n",
              "      <th>18</th>\n",
              "      <th>25</th>\n",
              "      <th>35</th>\n",
              "      <th>45</th>\n",
              "      <th>50</th>\n",
              "      <th>56</th>\n",
              "    </tr>\n",
              "    <tr>\n",
              "      <th>title</th>\n",
              "      <th></th>\n",
              "      <th></th>\n",
              "      <th></th>\n",
              "      <th></th>\n",
              "      <th></th>\n",
              "      <th></th>\n",
              "      <th></th>\n",
              "    </tr>\n",
              "  </thead>\n",
              "  <tbody>\n",
              "    <tr>\n",
              "      <th>$1,000,000 Duck (1971)</th>\n",
              "      <td>NaN</td>\n",
              "      <td>3.000000</td>\n",
              "      <td>3.090909</td>\n",
              "      <td>3.133333</td>\n",
              "      <td>2.000000</td>\n",
              "      <td>2.750000</td>\n",
              "      <td>NaN</td>\n",
              "    </tr>\n",
              "    <tr>\n",
              "      <th>'Night Mother (1986)</th>\n",
              "      <td>2.000000</td>\n",
              "      <td>4.666667</td>\n",
              "      <td>3.423077</td>\n",
              "      <td>2.904762</td>\n",
              "      <td>3.833333</td>\n",
              "      <td>3.555556</td>\n",
              "      <td>4.333333</td>\n",
              "    </tr>\n",
              "    <tr>\n",
              "      <th>'Til There Was You (1997)</th>\n",
              "      <td>3.500000</td>\n",
              "      <td>2.500000</td>\n",
              "      <td>2.666667</td>\n",
              "      <td>2.900000</td>\n",
              "      <td>2.333333</td>\n",
              "      <td>2.500000</td>\n",
              "      <td>2.666667</td>\n",
              "    </tr>\n",
              "    <tr>\n",
              "      <th>'burbs, The (1989)</th>\n",
              "      <td>4.500000</td>\n",
              "      <td>3.244444</td>\n",
              "      <td>2.652174</td>\n",
              "      <td>2.818182</td>\n",
              "      <td>2.545455</td>\n",
              "      <td>3.208333</td>\n",
              "      <td>2.666667</td>\n",
              "    </tr>\n",
              "    <tr>\n",
              "      <th>...And Justice for All (1979)</th>\n",
              "      <td>3.000000</td>\n",
              "      <td>3.428571</td>\n",
              "      <td>3.724138</td>\n",
              "      <td>3.657143</td>\n",
              "      <td>4.100000</td>\n",
              "      <td>3.551724</td>\n",
              "      <td>3.928571</td>\n",
              "    </tr>\n",
              "    <tr>\n",
              "      <th>1-900 (1994)</th>\n",
              "      <td>NaN</td>\n",
              "      <td>NaN</td>\n",
              "      <td>2.000000</td>\n",
              "      <td>NaN</td>\n",
              "      <td>NaN</td>\n",
              "      <td>NaN</td>\n",
              "      <td>3.000000</td>\n",
              "    </tr>\n",
              "    <tr>\n",
              "      <th>10 Things I Hate About You (1999)</th>\n",
              "      <td>3.745455</td>\n",
              "      <td>3.415020</td>\n",
              "      <td>3.432950</td>\n",
              "      <td>3.102941</td>\n",
              "      <td>3.258065</td>\n",
              "      <td>3.629630</td>\n",
              "      <td>4.000000</td>\n",
              "    </tr>\n",
              "    <tr>\n",
              "      <th>101 Dalmatians (1961)</th>\n",
              "      <td>3.514286</td>\n",
              "      <td>3.295082</td>\n",
              "      <td>3.613757</td>\n",
              "      <td>3.826087</td>\n",
              "      <td>3.976744</td>\n",
              "      <td>3.650000</td>\n",
              "      <td>3.190476</td>\n",
              "    </tr>\n",
              "    <tr>\n",
              "      <th>101 Dalmatians (1996)</th>\n",
              "      <td>3.088235</td>\n",
              "      <td>2.467742</td>\n",
              "      <td>2.928571</td>\n",
              "      <td>3.279570</td>\n",
              "      <td>3.482759</td>\n",
              "      <td>3.400000</td>\n",
              "      <td>3.555556</td>\n",
              "    </tr>\n",
              "    <tr>\n",
              "      <th>12 Angry Men (1957)</th>\n",
              "      <td>4.176471</td>\n",
              "      <td>4.032609</td>\n",
              "      <td>4.408654</td>\n",
              "      <td>4.358333</td>\n",
              "      <td>4.274194</td>\n",
              "      <td>4.287879</td>\n",
              "      <td>4.235294</td>\n",
              "    </tr>\n",
              "  </tbody>\n",
              "</table>\n",
              "</div>"
            ],
            "text/plain": [
              "age                                      1         18        25        35  \\\n",
              "title                                                                       \n",
              "$1,000,000 Duck (1971)                  NaN  3.000000  3.090909  3.133333   \n",
              "'Night Mother (1986)               2.000000  4.666667  3.423077  2.904762   \n",
              "'Til There Was You (1997)          3.500000  2.500000  2.666667  2.900000   \n",
              "'burbs, The (1989)                 4.500000  3.244444  2.652174  2.818182   \n",
              "...And Justice for All (1979)      3.000000  3.428571  3.724138  3.657143   \n",
              "1-900 (1994)                            NaN       NaN  2.000000       NaN   \n",
              "10 Things I Hate About You (1999)  3.745455  3.415020  3.432950  3.102941   \n",
              "101 Dalmatians (1961)              3.514286  3.295082  3.613757  3.826087   \n",
              "101 Dalmatians (1996)              3.088235  2.467742  2.928571  3.279570   \n",
              "12 Angry Men (1957)                4.176471  4.032609  4.408654  4.358333   \n",
              "\n",
              "age                                      45        50        56  \n",
              "title                                                            \n",
              "$1,000,000 Duck (1971)             2.000000  2.750000       NaN  \n",
              "'Night Mother (1986)               3.833333  3.555556  4.333333  \n",
              "'Til There Was You (1997)          2.333333  2.500000  2.666667  \n",
              "'burbs, The (1989)                 2.545455  3.208333  2.666667  \n",
              "...And Justice for All (1979)      4.100000  3.551724  3.928571  \n",
              "1-900 (1994)                            NaN       NaN  3.000000  \n",
              "10 Things I Hate About You (1999)  3.258065  3.629630  4.000000  \n",
              "101 Dalmatians (1961)              3.976744  3.650000  3.190476  \n",
              "101 Dalmatians (1996)              3.482759  3.400000  3.555556  \n",
              "12 Angry Men (1957)                4.274194  4.287879  4.235294  "
            ]
          },
          "execution_count": 14,
          "metadata": {},
          "output_type": "execute_result"
        }
      ],
      "source": [
        "mean_ratings = data.pivot_table(values= 'rating', index='title', columns='age', aggfunc='mean')\n",
        "mean_ratings[:10]"
      ]
    },
    {
      "cell_type": "markdown",
      "metadata": {
        "id": "zULR8Fzw7_Hj"
      },
      "source": [
        "Per obtenir les **puntuacions mitjanes de cada pel·licula agrupada per sexe**:"
      ]
    },
    {
      "cell_type": "code",
      "execution_count": 15,
      "metadata": {
        "colab": {
          "base_uri": "https://localhost:8080/",
          "height": 394
        },
        "id": "WZw7KdtW7_Hj",
        "jupyter": {
          "outputs_hidden": false
        },
        "outputId": "a7e5ffb4-8911-4f0c-93ea-ea3cdcc36f2f"
      },
      "outputs": [
        {
          "data": {
            "text/html": [
              "<div>\n",
              "<style scoped>\n",
              "    .dataframe tbody tr th:only-of-type {\n",
              "        vertical-align: middle;\n",
              "    }\n",
              "\n",
              "    .dataframe tbody tr th {\n",
              "        vertical-align: top;\n",
              "    }\n",
              "\n",
              "    .dataframe thead th {\n",
              "        text-align: right;\n",
              "    }\n",
              "</style>\n",
              "<table border=\"1\" class=\"dataframe\">\n",
              "  <thead>\n",
              "    <tr style=\"text-align: right;\">\n",
              "      <th>gender</th>\n",
              "      <th>F</th>\n",
              "      <th>M</th>\n",
              "    </tr>\n",
              "    <tr>\n",
              "      <th>title</th>\n",
              "      <th></th>\n",
              "      <th></th>\n",
              "    </tr>\n",
              "  </thead>\n",
              "  <tbody>\n",
              "    <tr>\n",
              "      <th>$1,000,000 Duck (1971)</th>\n",
              "      <td>3.375000</td>\n",
              "      <td>2.761905</td>\n",
              "    </tr>\n",
              "    <tr>\n",
              "      <th>'Night Mother (1986)</th>\n",
              "      <td>3.388889</td>\n",
              "      <td>3.352941</td>\n",
              "    </tr>\n",
              "    <tr>\n",
              "      <th>'Til There Was You (1997)</th>\n",
              "      <td>2.675676</td>\n",
              "      <td>2.733333</td>\n",
              "    </tr>\n",
              "    <tr>\n",
              "      <th>'burbs, The (1989)</th>\n",
              "      <td>2.793478</td>\n",
              "      <td>2.962085</td>\n",
              "    </tr>\n",
              "    <tr>\n",
              "      <th>...And Justice for All (1979)</th>\n",
              "      <td>3.828571</td>\n",
              "      <td>3.689024</td>\n",
              "    </tr>\n",
              "    <tr>\n",
              "      <th>1-900 (1994)</th>\n",
              "      <td>2.000000</td>\n",
              "      <td>3.000000</td>\n",
              "    </tr>\n",
              "    <tr>\n",
              "      <th>10 Things I Hate About You (1999)</th>\n",
              "      <td>3.646552</td>\n",
              "      <td>3.311966</td>\n",
              "    </tr>\n",
              "    <tr>\n",
              "      <th>101 Dalmatians (1961)</th>\n",
              "      <td>3.791444</td>\n",
              "      <td>3.500000</td>\n",
              "    </tr>\n",
              "    <tr>\n",
              "      <th>101 Dalmatians (1996)</th>\n",
              "      <td>3.240000</td>\n",
              "      <td>2.911215</td>\n",
              "    </tr>\n",
              "    <tr>\n",
              "      <th>12 Angry Men (1957)</th>\n",
              "      <td>4.184397</td>\n",
              "      <td>4.328421</td>\n",
              "    </tr>\n",
              "  </tbody>\n",
              "</table>\n",
              "</div>"
            ],
            "text/plain": [
              "gender                                    F         M\n",
              "title                                                \n",
              "$1,000,000 Duck (1971)             3.375000  2.761905\n",
              "'Night Mother (1986)               3.388889  3.352941\n",
              "'Til There Was You (1997)          2.675676  2.733333\n",
              "'burbs, The (1989)                 2.793478  2.962085\n",
              "...And Justice for All (1979)      3.828571  3.689024\n",
              "1-900 (1994)                       2.000000  3.000000\n",
              "10 Things I Hate About You (1999)  3.646552  3.311966\n",
              "101 Dalmatians (1961)              3.791444  3.500000\n",
              "101 Dalmatians (1996)              3.240000  2.911215\n",
              "12 Angry Men (1957)                4.184397  4.328421"
            ]
          },
          "execution_count": 15,
          "metadata": {},
          "output_type": "execute_result"
        }
      ],
      "source": [
        "mean_ratings = data.pivot_table('rating', index='title',columns='gender', aggfunc='mean')\n",
        "mean_ratings[:10]"
      ]
    },
    {
      "cell_type": "markdown",
      "metadata": {
        "id": "TpQNQ7la7_Hj"
      },
      "source": [
        "Si volgéssim fer càlculs només sobre les pel·licules que han rebut **al menys** 250 puntuacions, primer hem de construir una taula amb el nombre d'avaluacions de cada títol. Per fer-ho, agruparem les dades per títol (amb el mètode ``groupby``) i usarem ``size()`` el nombre.\n",
        "\n",
        "Reviseu aquest concepte:\n",
        "\n",
        "https://pandas.pydata.org/pandas-docs/stable/reference/api/pandas.DataFrame.groupby.html\n",
        "\n",
        "El mètode ``groupby`` implenta un o més d'aquests processos:\n",
        "\n",
        "+ Dividir les dades segons algun criteri.\n",
        "+ Aplicar una funció a cada grup.\n",
        "+ Combinar els resultats en una estructura de dades."
      ]
    },
    {
      "cell_type": "code",
      "execution_count": 16,
      "metadata": {
        "colab": {
          "base_uri": "https://localhost:8080/"
        },
        "id": "tJ_W5m7L7_Hj",
        "jupyter": {
          "outputs_hidden": false
        },
        "outputId": "18b93594-8efb-469d-dc2c-145a6e20b78e"
      },
      "outputs": [
        {
          "data": {
            "text/plain": [
              "title\n",
              "$1,000,000 Duck (1971)                         37\n",
              "'Night Mother (1986)                           70\n",
              "'Til There Was You (1997)                      52\n",
              "'burbs, The (1989)                            303\n",
              "...And Justice for All (1979)                 199\n",
              "                                             ... \n",
              "Zed & Two Noughts, A (1985)                    29\n",
              "Zero Effect (1998)                            301\n",
              "Zero Kelvin (Kjærlighetens kjøtere) (1995)      2\n",
              "Zeus and Roxanne (1997)                        23\n",
              "eXistenZ (1999)                               410\n",
              "Length: 3706, dtype: int64"
            ]
          },
          "execution_count": 16,
          "metadata": {},
          "output_type": "execute_result"
        }
      ],
      "source": [
        "ratings_by_title = data.groupby('title').size()\n",
        "ratings_by_title"
      ]
    },
    {
      "cell_type": "markdown",
      "metadata": {
        "id": "AQDqWCDu7_Hj"
      },
      "source": [
        "Llavors podem crear un índex amb els títols amb més de 250 avaluacions."
      ]
    },
    {
      "cell_type": "code",
      "execution_count": 17,
      "metadata": {
        "colab": {
          "base_uri": "https://localhost:8080/"
        },
        "id": "tTqJNSSn7_Hk",
        "jupyter": {
          "outputs_hidden": false
        },
        "outputId": "e20045a5-a11f-41d1-89ae-84e952cdc94e"
      },
      "outputs": [
        {
          "data": {
            "text/plain": [
              "Index([''burbs, The (1989)', '10 Things I Hate About You (1999)',\n",
              "       '101 Dalmatians (1961)', '101 Dalmatians (1996)', '12 Angry Men (1957)',\n",
              "       '13th Warrior, The (1999)', '2 Days in the Valley (1996)',\n",
              "       '20,000 Leagues Under the Sea (1954)', '2001: A Space Odyssey (1968)',\n",
              "       '2010 (1984)',\n",
              "       ...\n",
              "       'X-Men (2000)', 'Year of Living Dangerously (1982)',\n",
              "       'Yellow Submarine (1968)', 'You've Got Mail (1998)',\n",
              "       'Young Frankenstein (1974)', 'Young Guns (1988)',\n",
              "       'Young Guns II (1990)', 'Young Sherlock Holmes (1985)',\n",
              "       'Zero Effect (1998)', 'eXistenZ (1999)'],\n",
              "      dtype='object', name='title', length=1216)"
            ]
          },
          "execution_count": 17,
          "metadata": {},
          "output_type": "execute_result"
        }
      ],
      "source": [
        "active_titles = ratings_by_title.index[ratings_by_title >= 250]\n",
        "active_titles"
      ]
    },
    {
      "cell_type": "markdown",
      "metadata": {
        "id": "rWtgNCQ67_Hk"
      },
      "source": [
        "L'índex de títols que reben al menys 250 puntuacions es pot fer servir per seleccionar les files de ``mean_ratings``:"
      ]
    },
    {
      "cell_type": "code",
      "execution_count": 18,
      "metadata": {
        "colab": {
          "base_uri": "https://localhost:8080/",
          "height": 455
        },
        "id": "ik9QypUc7_Hk",
        "jupyter": {
          "outputs_hidden": false
        },
        "outputId": "e98ce548-fdb0-4ac2-c4aa-41ddf5fbe7b1"
      },
      "outputs": [
        {
          "data": {
            "text/html": [
              "<div>\n",
              "<style scoped>\n",
              "    .dataframe tbody tr th:only-of-type {\n",
              "        vertical-align: middle;\n",
              "    }\n",
              "\n",
              "    .dataframe tbody tr th {\n",
              "        vertical-align: top;\n",
              "    }\n",
              "\n",
              "    .dataframe thead th {\n",
              "        text-align: right;\n",
              "    }\n",
              "</style>\n",
              "<table border=\"1\" class=\"dataframe\">\n",
              "  <thead>\n",
              "    <tr style=\"text-align: right;\">\n",
              "      <th>gender</th>\n",
              "      <th>F</th>\n",
              "      <th>M</th>\n",
              "    </tr>\n",
              "    <tr>\n",
              "      <th>title</th>\n",
              "      <th></th>\n",
              "      <th></th>\n",
              "    </tr>\n",
              "  </thead>\n",
              "  <tbody>\n",
              "    <tr>\n",
              "      <th>'burbs, The (1989)</th>\n",
              "      <td>2.793478</td>\n",
              "      <td>2.962085</td>\n",
              "    </tr>\n",
              "    <tr>\n",
              "      <th>10 Things I Hate About You (1999)</th>\n",
              "      <td>3.646552</td>\n",
              "      <td>3.311966</td>\n",
              "    </tr>\n",
              "    <tr>\n",
              "      <th>101 Dalmatians (1961)</th>\n",
              "      <td>3.791444</td>\n",
              "      <td>3.500000</td>\n",
              "    </tr>\n",
              "    <tr>\n",
              "      <th>101 Dalmatians (1996)</th>\n",
              "      <td>3.240000</td>\n",
              "      <td>2.911215</td>\n",
              "    </tr>\n",
              "    <tr>\n",
              "      <th>12 Angry Men (1957)</th>\n",
              "      <td>4.184397</td>\n",
              "      <td>4.328421</td>\n",
              "    </tr>\n",
              "    <tr>\n",
              "      <th>...</th>\n",
              "      <td>...</td>\n",
              "      <td>...</td>\n",
              "    </tr>\n",
              "    <tr>\n",
              "      <th>Young Guns (1988)</th>\n",
              "      <td>3.371795</td>\n",
              "      <td>3.425620</td>\n",
              "    </tr>\n",
              "    <tr>\n",
              "      <th>Young Guns II (1990)</th>\n",
              "      <td>2.934783</td>\n",
              "      <td>2.904025</td>\n",
              "    </tr>\n",
              "    <tr>\n",
              "      <th>Young Sherlock Holmes (1985)</th>\n",
              "      <td>3.514706</td>\n",
              "      <td>3.363344</td>\n",
              "    </tr>\n",
              "    <tr>\n",
              "      <th>Zero Effect (1998)</th>\n",
              "      <td>3.864407</td>\n",
              "      <td>3.723140</td>\n",
              "    </tr>\n",
              "    <tr>\n",
              "      <th>eXistenZ (1999)</th>\n",
              "      <td>3.098592</td>\n",
              "      <td>3.289086</td>\n",
              "    </tr>\n",
              "  </tbody>\n",
              "</table>\n",
              "<p>1216 rows × 2 columns</p>\n",
              "</div>"
            ],
            "text/plain": [
              "gender                                    F         M\n",
              "title                                                \n",
              "'burbs, The (1989)                 2.793478  2.962085\n",
              "10 Things I Hate About You (1999)  3.646552  3.311966\n",
              "101 Dalmatians (1961)              3.791444  3.500000\n",
              "101 Dalmatians (1996)              3.240000  2.911215\n",
              "12 Angry Men (1957)                4.184397  4.328421\n",
              "...                                     ...       ...\n",
              "Young Guns (1988)                  3.371795  3.425620\n",
              "Young Guns II (1990)               2.934783  2.904025\n",
              "Young Sherlock Holmes (1985)       3.514706  3.363344\n",
              "Zero Effect (1998)                 3.864407  3.723140\n",
              "eXistenZ (1999)                    3.098592  3.289086\n",
              "\n",
              "[1216 rows x 2 columns]"
            ]
          },
          "execution_count": 18,
          "metadata": {},
          "output_type": "execute_result"
        }
      ],
      "source": [
        "mean_ratings = mean_ratings.loc[active_titles]\n",
        "mean_ratings"
      ]
    },
    {
      "cell_type": "markdown",
      "metadata": {
        "id": "zpqV3wms7_Hk"
      },
      "source": [
        "Per veure els films més valorats per les dones, podem ordenar per la columna F de forma descendent:"
      ]
    },
    {
      "cell_type": "code",
      "execution_count": 19,
      "metadata": {
        "colab": {
          "base_uri": "https://localhost:8080/",
          "height": 394
        },
        "id": "Kj7FwATG7_Hk",
        "jupyter": {
          "outputs_hidden": false
        },
        "outputId": "8b08c01d-d3dc-42c5-f8cd-f411436438b0"
      },
      "outputs": [
        {
          "data": {
            "text/html": [
              "<div>\n",
              "<style scoped>\n",
              "    .dataframe tbody tr th:only-of-type {\n",
              "        vertical-align: middle;\n",
              "    }\n",
              "\n",
              "    .dataframe tbody tr th {\n",
              "        vertical-align: top;\n",
              "    }\n",
              "\n",
              "    .dataframe thead th {\n",
              "        text-align: right;\n",
              "    }\n",
              "</style>\n",
              "<table border=\"1\" class=\"dataframe\">\n",
              "  <thead>\n",
              "    <tr style=\"text-align: right;\">\n",
              "      <th>gender</th>\n",
              "      <th>F</th>\n",
              "      <th>M</th>\n",
              "    </tr>\n",
              "    <tr>\n",
              "      <th>title</th>\n",
              "      <th></th>\n",
              "      <th></th>\n",
              "    </tr>\n",
              "  </thead>\n",
              "  <tbody>\n",
              "    <tr>\n",
              "      <th>Close Shave, A (1995)</th>\n",
              "      <td>4.644444</td>\n",
              "      <td>4.473795</td>\n",
              "    </tr>\n",
              "    <tr>\n",
              "      <th>Wrong Trousers, The (1993)</th>\n",
              "      <td>4.588235</td>\n",
              "      <td>4.478261</td>\n",
              "    </tr>\n",
              "    <tr>\n",
              "      <th>Sunset Blvd. (a.k.a. Sunset Boulevard) (1950)</th>\n",
              "      <td>4.572650</td>\n",
              "      <td>4.464589</td>\n",
              "    </tr>\n",
              "    <tr>\n",
              "      <th>Wallace &amp; Gromit: The Best of Aardman Animation (1996)</th>\n",
              "      <td>4.563107</td>\n",
              "      <td>4.385075</td>\n",
              "    </tr>\n",
              "    <tr>\n",
              "      <th>Schindler's List (1993)</th>\n",
              "      <td>4.562602</td>\n",
              "      <td>4.491415</td>\n",
              "    </tr>\n",
              "    <tr>\n",
              "      <th>Shawshank Redemption, The (1994)</th>\n",
              "      <td>4.539075</td>\n",
              "      <td>4.560625</td>\n",
              "    </tr>\n",
              "    <tr>\n",
              "      <th>Grand Day Out, A (1992)</th>\n",
              "      <td>4.537879</td>\n",
              "      <td>4.293255</td>\n",
              "    </tr>\n",
              "    <tr>\n",
              "      <th>To Kill a Mockingbird (1962)</th>\n",
              "      <td>4.536667</td>\n",
              "      <td>4.372611</td>\n",
              "    </tr>\n",
              "    <tr>\n",
              "      <th>Creature Comforts (1990)</th>\n",
              "      <td>4.513889</td>\n",
              "      <td>4.272277</td>\n",
              "    </tr>\n",
              "    <tr>\n",
              "      <th>Usual Suspects, The (1995)</th>\n",
              "      <td>4.513317</td>\n",
              "      <td>4.518248</td>\n",
              "    </tr>\n",
              "  </tbody>\n",
              "</table>\n",
              "</div>"
            ],
            "text/plain": [
              "gender                                                     F         M\n",
              "title                                                                 \n",
              "Close Shave, A (1995)                               4.644444  4.473795\n",
              "Wrong Trousers, The (1993)                          4.588235  4.478261\n",
              "Sunset Blvd. (a.k.a. Sunset Boulevard) (1950)       4.572650  4.464589\n",
              "Wallace & Gromit: The Best of Aardman Animation...  4.563107  4.385075\n",
              "Schindler's List (1993)                             4.562602  4.491415\n",
              "Shawshank Redemption, The (1994)                    4.539075  4.560625\n",
              "Grand Day Out, A (1992)                             4.537879  4.293255\n",
              "To Kill a Mockingbird (1962)                        4.536667  4.372611\n",
              "Creature Comforts (1990)                            4.513889  4.272277\n",
              "Usual Suspects, The (1995)                          4.513317  4.518248"
            ]
          },
          "execution_count": 19,
          "metadata": {},
          "output_type": "execute_result"
        }
      ],
      "source": [
        "top_female_ratings = mean_ratings.sort_values(by='F', ascending=False)\n",
        "top_female_ratings[:10]"
      ]
    },
    {
      "cell_type": "markdown",
      "metadata": {
        "id": "chZZgTE_7_Hk"
      },
      "source": [
        "Suposem ara que volem les pel·licules que estan valorades de forma més diferent entre homes i dones. Una forma d'obtenir-ho és afegir una columna a ``mean_ratings`` que contingui la diferència en mitjana i llavors ordenar:"
      ]
    },
    {
      "cell_type": "code",
      "execution_count": 20,
      "metadata": {
        "id": "YNK0fGWA7_Hl",
        "jupyter": {
          "outputs_hidden": false
        }
      },
      "outputs": [],
      "source": [
        "mean_ratings['diff'] = mean_ratings['M'] - mean_ratings['F']"
      ]
    },
    {
      "cell_type": "markdown",
      "metadata": {
        "id": "TCJu7wsU7_Hl"
      },
      "source": [
        "Ordenant per ``diff`` ens dóna les pel·licules ben valorades per les dones que presenten més diferència entre homes i dones:"
      ]
    },
    {
      "cell_type": "code",
      "execution_count": 21,
      "metadata": {
        "colab": {
          "base_uri": "https://localhost:8080/",
          "height": 551
        },
        "id": "Hh7BOQCm7_Hl",
        "jupyter": {
          "outputs_hidden": false
        },
        "outputId": "6738cbea-77f6-4632-b39d-81f8b103f1cb"
      },
      "outputs": [
        {
          "data": {
            "text/html": [
              "<div>\n",
              "<style scoped>\n",
              "    .dataframe tbody tr th:only-of-type {\n",
              "        vertical-align: middle;\n",
              "    }\n",
              "\n",
              "    .dataframe tbody tr th {\n",
              "        vertical-align: top;\n",
              "    }\n",
              "\n",
              "    .dataframe thead th {\n",
              "        text-align: right;\n",
              "    }\n",
              "</style>\n",
              "<table border=\"1\" class=\"dataframe\">\n",
              "  <thead>\n",
              "    <tr style=\"text-align: right;\">\n",
              "      <th>gender</th>\n",
              "      <th>F</th>\n",
              "      <th>M</th>\n",
              "      <th>diff</th>\n",
              "    </tr>\n",
              "    <tr>\n",
              "      <th>title</th>\n",
              "      <th></th>\n",
              "      <th></th>\n",
              "      <th></th>\n",
              "    </tr>\n",
              "  </thead>\n",
              "  <tbody>\n",
              "    <tr>\n",
              "      <th>Dirty Dancing (1987)</th>\n",
              "      <td>3.790378</td>\n",
              "      <td>2.959596</td>\n",
              "      <td>-0.830782</td>\n",
              "    </tr>\n",
              "    <tr>\n",
              "      <th>Jumpin' Jack Flash (1986)</th>\n",
              "      <td>3.254717</td>\n",
              "      <td>2.578358</td>\n",
              "      <td>-0.676359</td>\n",
              "    </tr>\n",
              "    <tr>\n",
              "      <th>Grease (1978)</th>\n",
              "      <td>3.975265</td>\n",
              "      <td>3.367041</td>\n",
              "      <td>-0.608224</td>\n",
              "    </tr>\n",
              "    <tr>\n",
              "      <th>Little Women (1994)</th>\n",
              "      <td>3.870588</td>\n",
              "      <td>3.321739</td>\n",
              "      <td>-0.548849</td>\n",
              "    </tr>\n",
              "    <tr>\n",
              "      <th>Steel Magnolias (1989)</th>\n",
              "      <td>3.901734</td>\n",
              "      <td>3.365957</td>\n",
              "      <td>-0.535777</td>\n",
              "    </tr>\n",
              "    <tr>\n",
              "      <th>Anastasia (1997)</th>\n",
              "      <td>3.800000</td>\n",
              "      <td>3.281609</td>\n",
              "      <td>-0.518391</td>\n",
              "    </tr>\n",
              "    <tr>\n",
              "      <th>Rocky Horror Picture Show, The (1975)</th>\n",
              "      <td>3.673016</td>\n",
              "      <td>3.160131</td>\n",
              "      <td>-0.512885</td>\n",
              "    </tr>\n",
              "    <tr>\n",
              "      <th>Color Purple, The (1985)</th>\n",
              "      <td>4.158192</td>\n",
              "      <td>3.659341</td>\n",
              "      <td>-0.498851</td>\n",
              "    </tr>\n",
              "    <tr>\n",
              "      <th>Age of Innocence, The (1993)</th>\n",
              "      <td>3.827068</td>\n",
              "      <td>3.339506</td>\n",
              "      <td>-0.487561</td>\n",
              "    </tr>\n",
              "    <tr>\n",
              "      <th>Free Willy (1993)</th>\n",
              "      <td>2.921348</td>\n",
              "      <td>2.438776</td>\n",
              "      <td>-0.482573</td>\n",
              "    </tr>\n",
              "    <tr>\n",
              "      <th>French Kiss (1995)</th>\n",
              "      <td>3.535714</td>\n",
              "      <td>3.056962</td>\n",
              "      <td>-0.478752</td>\n",
              "    </tr>\n",
              "    <tr>\n",
              "      <th>Little Shop of Horrors, The (1960)</th>\n",
              "      <td>3.650000</td>\n",
              "      <td>3.179688</td>\n",
              "      <td>-0.470312</td>\n",
              "    </tr>\n",
              "    <tr>\n",
              "      <th>Guys and Dolls (1955)</th>\n",
              "      <td>4.051724</td>\n",
              "      <td>3.583333</td>\n",
              "      <td>-0.468391</td>\n",
              "    </tr>\n",
              "    <tr>\n",
              "      <th>Mary Poppins (1964)</th>\n",
              "      <td>4.197740</td>\n",
              "      <td>3.730594</td>\n",
              "      <td>-0.467147</td>\n",
              "    </tr>\n",
              "    <tr>\n",
              "      <th>Patch Adams (1998)</th>\n",
              "      <td>3.473282</td>\n",
              "      <td>3.008746</td>\n",
              "      <td>-0.464536</td>\n",
              "    </tr>\n",
              "  </tbody>\n",
              "</table>\n",
              "</div>"
            ],
            "text/plain": [
              "gender                                        F         M      diff\n",
              "title                                                              \n",
              "Dirty Dancing (1987)                   3.790378  2.959596 -0.830782\n",
              "Jumpin' Jack Flash (1986)              3.254717  2.578358 -0.676359\n",
              "Grease (1978)                          3.975265  3.367041 -0.608224\n",
              "Little Women (1994)                    3.870588  3.321739 -0.548849\n",
              "Steel Magnolias (1989)                 3.901734  3.365957 -0.535777\n",
              "Anastasia (1997)                       3.800000  3.281609 -0.518391\n",
              "Rocky Horror Picture Show, The (1975)  3.673016  3.160131 -0.512885\n",
              "Color Purple, The (1985)               4.158192  3.659341 -0.498851\n",
              "Age of Innocence, The (1993)           3.827068  3.339506 -0.487561\n",
              "Free Willy (1993)                      2.921348  2.438776 -0.482573\n",
              "French Kiss (1995)                     3.535714  3.056962 -0.478752\n",
              "Little Shop of Horrors, The (1960)     3.650000  3.179688 -0.470312\n",
              "Guys and Dolls (1955)                  4.051724  3.583333 -0.468391\n",
              "Mary Poppins (1964)                    4.197740  3.730594 -0.467147\n",
              "Patch Adams (1998)                     3.473282  3.008746 -0.464536"
            ]
          },
          "execution_count": 21,
          "metadata": {},
          "output_type": "execute_result"
        }
      ],
      "source": [
        "sorted_by_diff = mean_ratings.sort_values(by='diff')\n",
        "sorted_by_diff[:15]"
      ]
    },
    {
      "cell_type": "markdown",
      "metadata": {
        "id": "hS-I2mZs7_Hl"
      },
      "source": [
        "Invertint l'ordre de les files i fent un ``slicing`` de les 15 files superiors obtenim les pel·licules ben valorades pels homes que no han agradat a les dones:"
      ]
    },
    {
      "cell_type": "code",
      "execution_count": 22,
      "metadata": {
        "colab": {
          "base_uri": "https://localhost:8080/",
          "height": 551
        },
        "id": "I3Xuc3OA7_Hl",
        "jupyter": {
          "outputs_hidden": false
        },
        "outputId": "3cc7e686-0008-4df8-aadf-672cf15c028f"
      },
      "outputs": [
        {
          "data": {
            "text/html": [
              "<div>\n",
              "<style scoped>\n",
              "    .dataframe tbody tr th:only-of-type {\n",
              "        vertical-align: middle;\n",
              "    }\n",
              "\n",
              "    .dataframe tbody tr th {\n",
              "        vertical-align: top;\n",
              "    }\n",
              "\n",
              "    .dataframe thead th {\n",
              "        text-align: right;\n",
              "    }\n",
              "</style>\n",
              "<table border=\"1\" class=\"dataframe\">\n",
              "  <thead>\n",
              "    <tr style=\"text-align: right;\">\n",
              "      <th>gender</th>\n",
              "      <th>F</th>\n",
              "      <th>M</th>\n",
              "      <th>diff</th>\n",
              "    </tr>\n",
              "    <tr>\n",
              "      <th>title</th>\n",
              "      <th></th>\n",
              "      <th></th>\n",
              "      <th></th>\n",
              "    </tr>\n",
              "  </thead>\n",
              "  <tbody>\n",
              "    <tr>\n",
              "      <th>Good, The Bad and The Ugly, The (1966)</th>\n",
              "      <td>3.494949</td>\n",
              "      <td>4.221300</td>\n",
              "      <td>0.726351</td>\n",
              "    </tr>\n",
              "    <tr>\n",
              "      <th>Kentucky Fried Movie, The (1977)</th>\n",
              "      <td>2.878788</td>\n",
              "      <td>3.555147</td>\n",
              "      <td>0.676359</td>\n",
              "    </tr>\n",
              "    <tr>\n",
              "      <th>Dumb &amp; Dumber (1994)</th>\n",
              "      <td>2.697987</td>\n",
              "      <td>3.336595</td>\n",
              "      <td>0.638608</td>\n",
              "    </tr>\n",
              "    <tr>\n",
              "      <th>Longest Day, The (1962)</th>\n",
              "      <td>3.411765</td>\n",
              "      <td>4.031447</td>\n",
              "      <td>0.619682</td>\n",
              "    </tr>\n",
              "    <tr>\n",
              "      <th>Cable Guy, The (1996)</th>\n",
              "      <td>2.250000</td>\n",
              "      <td>2.863787</td>\n",
              "      <td>0.613787</td>\n",
              "    </tr>\n",
              "    <tr>\n",
              "      <th>Evil Dead II (Dead By Dawn) (1987)</th>\n",
              "      <td>3.297297</td>\n",
              "      <td>3.909283</td>\n",
              "      <td>0.611985</td>\n",
              "    </tr>\n",
              "    <tr>\n",
              "      <th>Hidden, The (1987)</th>\n",
              "      <td>3.137931</td>\n",
              "      <td>3.745098</td>\n",
              "      <td>0.607167</td>\n",
              "    </tr>\n",
              "    <tr>\n",
              "      <th>Rocky III (1982)</th>\n",
              "      <td>2.361702</td>\n",
              "      <td>2.943503</td>\n",
              "      <td>0.581801</td>\n",
              "    </tr>\n",
              "    <tr>\n",
              "      <th>Caddyshack (1980)</th>\n",
              "      <td>3.396135</td>\n",
              "      <td>3.969737</td>\n",
              "      <td>0.573602</td>\n",
              "    </tr>\n",
              "    <tr>\n",
              "      <th>For a Few Dollars More (1965)</th>\n",
              "      <td>3.409091</td>\n",
              "      <td>3.953795</td>\n",
              "      <td>0.544704</td>\n",
              "    </tr>\n",
              "    <tr>\n",
              "      <th>Porky's (1981)</th>\n",
              "      <td>2.296875</td>\n",
              "      <td>2.836364</td>\n",
              "      <td>0.539489</td>\n",
              "    </tr>\n",
              "    <tr>\n",
              "      <th>Animal House (1978)</th>\n",
              "      <td>3.628906</td>\n",
              "      <td>4.167192</td>\n",
              "      <td>0.538286</td>\n",
              "    </tr>\n",
              "    <tr>\n",
              "      <th>Exorcist, The (1973)</th>\n",
              "      <td>3.537634</td>\n",
              "      <td>4.067239</td>\n",
              "      <td>0.529605</td>\n",
              "    </tr>\n",
              "    <tr>\n",
              "      <th>Fright Night (1985)</th>\n",
              "      <td>2.973684</td>\n",
              "      <td>3.500000</td>\n",
              "      <td>0.526316</td>\n",
              "    </tr>\n",
              "    <tr>\n",
              "      <th>Barb Wire (1996)</th>\n",
              "      <td>1.585366</td>\n",
              "      <td>2.100386</td>\n",
              "      <td>0.515020</td>\n",
              "    </tr>\n",
              "  </tbody>\n",
              "</table>\n",
              "</div>"
            ],
            "text/plain": [
              "gender                                         F         M      diff\n",
              "title                                                               \n",
              "Good, The Bad and The Ugly, The (1966)  3.494949  4.221300  0.726351\n",
              "Kentucky Fried Movie, The (1977)        2.878788  3.555147  0.676359\n",
              "Dumb & Dumber (1994)                    2.697987  3.336595  0.638608\n",
              "Longest Day, The (1962)                 3.411765  4.031447  0.619682\n",
              "Cable Guy, The (1996)                   2.250000  2.863787  0.613787\n",
              "Evil Dead II (Dead By Dawn) (1987)      3.297297  3.909283  0.611985\n",
              "Hidden, The (1987)                      3.137931  3.745098  0.607167\n",
              "Rocky III (1982)                        2.361702  2.943503  0.581801\n",
              "Caddyshack (1980)                       3.396135  3.969737  0.573602\n",
              "For a Few Dollars More (1965)           3.409091  3.953795  0.544704\n",
              "Porky's (1981)                          2.296875  2.836364  0.539489\n",
              "Animal House (1978)                     3.628906  4.167192  0.538286\n",
              "Exorcist, The (1973)                    3.537634  4.067239  0.529605\n",
              "Fright Night (1985)                     2.973684  3.500000  0.526316\n",
              "Barb Wire (1996)                        1.585366  2.100386  0.515020"
            ]
          },
          "execution_count": 22,
          "metadata": {},
          "output_type": "execute_result"
        }
      ],
      "source": [
        "sorted_by_diff[::-1][:15]"
      ]
    },
    {
      "cell_type": "markdown",
      "metadata": {
        "id": "X8pwNADD7_Hm"
      },
      "source": [
        "Si volguéssim les pel·licules que han generat puntuacions més discordants, independentment del gènere, podem fer servir la variança o la desviació estàndard de les puntuacions:"
      ]
    },
    {
      "cell_type": "code",
      "execution_count": 23,
      "metadata": {
        "colab": {
          "base_uri": "https://localhost:8080/"
        },
        "id": "wvDrSy1u7_Hm",
        "jupyter": {
          "outputs_hidden": false
        },
        "outputId": "18d6239a-7415-41ca-82a3-798b62bb44b8"
      },
      "outputs": [
        {
          "data": {
            "text/plain": [
              "title\n",
              "Dumb & Dumber (1994)                     1.321333\n",
              "Blair Witch Project, The (1999)          1.316368\n",
              "Natural Born Killers (1994)              1.307198\n",
              "Tank Girl (1995)                         1.277695\n",
              "Rocky Horror Picture Show, The (1975)    1.260177\n",
              "                                           ...   \n",
              "Wrong Trousers, The (1993)               0.708666\n",
              "Shawshank Redemption, The (1994)         0.700443\n",
              "Great Escape, The (1963)                 0.692585\n",
              "Rear Window (1954)                       0.688946\n",
              "Close Shave, A (1995)                    0.667143\n",
              "Name: rating, Length: 1216, dtype: float64"
            ]
          },
          "execution_count": 23,
          "metadata": {},
          "output_type": "execute_result"
        }
      ],
      "source": [
        "# Standard deviation of rating grouped by title\n",
        "rating_std_by_title = data.groupby('title')['rating'].std()\n",
        "\n",
        "# Filter down to active_titles\n",
        "rating_std_by_title = rating_std_by_title.loc[active_titles]\n",
        "rating_std_by_title.sort_values(ascending=False)"
      ]
    },
    {
      "cell_type": "markdown",
      "metadata": {
        "id": "2mXAQiQj7_Hm"
      },
      "source": [
        "### Important: Temes de rendiment\n",
        "\n",
        "Fixeu-vos en el comportament de Python i actueu en conseqüència:"
      ]
    },
    {
      "cell_type": "code",
      "execution_count": 24,
      "metadata": {
        "colab": {
          "base_uri": "https://localhost:8080/"
        },
        "id": "R0erbTv97_Hm",
        "jupyter": {
          "outputs_hidden": false
        },
        "outputId": "6abc96e5-de55-407c-96f6-deaf1846cdab"
      },
      "outputs": [
        {
          "name": "stdout",
          "output_type": "stream",
          "text": [
            "701 ns ± 1.8 ns per loop (mean ± std. dev. of 7 runs, 1,000,000 loops each)\n",
            "<class 'pandas.core.series.Series'>\n",
            "1.55 µs ± 3.97 ns per loop (mean ± std. dev. of 7 runs, 1,000,000 loops each)\n",
            "<class 'pandas.core.series.Series'>\n",
            "7.6 ms ± 33.4 µs per loop (mean ± std. dev. of 7 runs, 100 loops each)\n",
            "<class 'pandas.core.frame.DataFrame'>\n"
          ]
        }
      ],
      "source": [
        "%timeit data['title']  # Fastest\n",
        "print(type(data['title']))\n",
        "%timeit data.title  # Medium\n",
        "print(type(data.title))\n",
        "%timeit data[['title']] # Slower\n",
        "print(type(data[['title']]))"
      ]
    },
    {
      "cell_type": "markdown",
      "metadata": {
        "id": "06D4EiZ8wgam"
      },
      "source": [
        "## 3. EXERCICIS"
      ]
    },
    {
      "cell_type": "markdown",
      "metadata": {
        "id": "ZH4QhLdU7_Hm"
      },
      "source": [
        "### 3.1. EXERCICI A\n",
        "\n",
        "+ Donada la taula ``data`` tal i com es defineix a continuació, calcula la puntuació mitjana de cada usuari i guarda-la a un ``df`` anomenat ``users_mean_rating``."
      ]
    },
    {
      "cell_type": "code",
      "execution_count": 25,
      "metadata": {
        "id": "pojIMFQ-Sie1"
      },
      "outputs": [],
      "source": [
        "data_folder = 'ml-1m'"
      ]
    },
    {
      "cell_type": "code",
      "execution_count": 26,
      "metadata": {
        "colab": {
          "base_uri": "https://localhost:8080/",
          "height": 423
        },
        "id": "o8CCmNp97_Hm",
        "jupyter": {
          "outputs_hidden": false
        },
        "outputId": "2fbb3087-7fd7-499e-cf76-25ce66b6817c"
      },
      "outputs": [],
      "source": [
        "unames = ['user_id', 'gender', 'age', 'occupation', 'zip']\n",
        "users = pd.read_table(f'{data_folder}/users.dat', sep='::', header=None, names=unames, engine='python')\n",
        "rnames = ['user_id', 'movie_id', 'rating', 'timestamp']\n",
        "ratings = pd.read_table(f'{data_folder}/ratings.dat', sep='::', header=None, names=rnames, engine='python')\n",
        "mnames = ['movie_id', 'title', 'genres']\n",
        "movies = pd.read_table(f'{data_folder}/movies.dat', sep='::', header=None, names=mnames, engine='python',encoding='latin-1')\n",
        "\n",
        "data = pd.merge(pd.merge(ratings, users), movies)\n",
        "\n",
        "users_mean_rating = data.groupby('user_id')['rating'].mean()  # Separa les puntuacións per usuaris i calcula la mitja de cada un\n",
        "users_mean_rating = pd.DataFrame(data=users_mean_rating)  # Guarda les puntuacions en un nou dataFrame"
      ]
    },
    {
      "cell_type": "markdown",
      "metadata": {
        "id": "bz8OgaPz7_Hn"
      },
      "source": [
        "+ Quina és la pel·lícula més ben puntuada (en mitja) pels usuaris? (Guarda aquest valor en una variable de tipus ``string`` anomenada ``best_movie_rating`` )."
      ]
    },
    {
      "cell_type": "code",
      "execution_count": 27,
      "metadata": {
        "colab": {
          "base_uri": "https://localhost:8080/"
        },
        "id": "9rYx6aBz7_Hn",
        "jupyter": {
          "outputs_hidden": false
        },
        "outputId": "71eefffe-3d73-46c4-e05a-a5f828f8af52"
      },
      "outputs": [],
      "source": [
        "movies_rating = data.groupby('title')['rating'].mean()  # Separa les puntuacions per pel·licula i calcula la mitja de cada una\n",
        "movies_rating = movies_rating.sort_values(ascending=False)  # Ordena les pel·licules per puntuació descendent\n",
        "\n",
        "best_movie_rating = movies_rating.index[0]  # Guarda la primera pel·lícula amb màxima puntuació"
      ]
    },
    {
      "cell_type": "markdown",
      "metadata": {
        "id": "uRfKrTUqP7Za"
      },
      "source": [
        "+ Mira si hi ha més pel·licules amb la mateixa puntuació de la més ben puntuada.\n",
        "\n",
        "> Bloque con sangría\n",
        "\n"
      ]
    },
    {
      "cell_type": "code",
      "execution_count": 28,
      "metadata": {
        "colab": {
          "base_uri": "https://localhost:8080/"
        },
        "id": "PTESM3mgP7Za",
        "outputId": "21bfab02-fd6e-4b54-a692-e51934076063"
      },
      "outputs": [
        {
          "name": "stdout",
          "output_type": "stream",
          "text": [
            "Hi han 10 amb la mateixa puntuació de 5.0.\n",
            "Són les següents: ['Ulysses (Ulisse) (1954)' 'Lured (1947)' 'Follow the Bitch (1998)'\n",
            " 'Bittersweet Motel (2000)' 'Song of Freedom (1936)'\n",
            " 'One Little Indian (1973)' 'Smashing Time (1967)'\n",
            " 'Schlafes Bruder (Brother of Sleep) (1995)'\n",
            " 'Gate of Heavenly Peace, The (1995)' 'Baby, The (1973)']\n"
          ]
        }
      ],
      "source": [
        "# Agafa la puntuació de la pel·lícula més votada\n",
        "best_movie_rating = movies_rating.iloc[0]\n",
        "\n",
        "# Filtra les pel·licules amb la mateixa puntuació\n",
        "best_rated_movies = movies_rating[movies_rating == best_movie_rating].index\n",
        "\n",
        "# Imprimeix per consola les pel·licules amb máxima puntuació\n",
        "if len(best_rated_movies) > 1:\n",
        "    print(f\"Hi han {len(best_rated_movies)} amb la mateixa puntuació de {best_movie_rating}.\")\n",
        "    print(f\"Són les següents: {best_rated_movies.values}\")\n",
        "else:\n",
        "    print(\"No hi ha mes pelicules amb la mateixa puntuació\")"
      ]
    },
    {
      "cell_type": "markdown",
      "metadata": {
        "id": "_IW4z7IBP7Za"
      },
      "source": [
        "+ Busca ara aquella pel·lícula, d'entre les que tenen 5 com a puntuació mitjana, que hagi rebut més valoracions i guarda-la a una variable anomenada ``best_movie_rating_maxviews``. Així tindrem la pel·licula més ben puntuada per més usuaris."
      ]
    },
    {
      "cell_type": "code",
      "execution_count": 29,
      "metadata": {
        "colab": {
          "base_uri": "https://localhost:8080/"
        },
        "id": "K41Xbc86P7Za",
        "outputId": "536edcc4-b5b3-4fa1-8326-0ffb0122a55d"
      },
      "outputs": [
        {
          "name": "stdout",
          "output_type": "stream",
          "text": [
            "Gate of Heavenly Peace, The (1995)\n"
          ]
        }
      ],
      "source": [
        "# Separa les valoracions per pel·licula, fa el recompte de valoracions i de les més votades retorna la que ha sigut valorada més cops\n",
        "best_movie_rating_maxviews = data.groupby('title').size()[best_rated_movies].idxmax()\n",
        "print(best_movie_rating_maxviews)"
      ]
    },
    {
      "cell_type": "markdown",
      "metadata": {
        "id": "CUtdHgwk7_Hn"
      },
      "source": [
        "### 3.2. EXERCICI B\n",
        "\n",
        "+ Defineix una funció anomenada ``top_movie`` que donat un usuari ens retorni quina és la pel·lícula millor puntuada.\n"
      ]
    },
    {
      "cell_type": "code",
      "execution_count": 30,
      "metadata": {
        "colab": {
          "base_uri": "https://localhost:8080/"
        },
        "id": "V_wE7gmB7_Hn",
        "jupyter": {
          "outputs_hidden": false
        },
        "outputId": "9bf43105-3298-45e5-ec8a-5f98b571f423"
      },
      "outputs": [
        {
          "name": "stdout",
          "output_type": "stream",
          "text": [
            "One Flew Over the Cuckoo's Nest (1975)\n"
          ]
        }
      ],
      "source": [
        "def top_movie(dataFrame, usr):\n",
        "    \"\"\"\n",
        "    Retorna la pel·licula millor puntuada donat un usuari\n",
        "\n",
        "    :param dataFrame: Pandas.DataFrame amb com a mínim els id's del usuaris, els id's de les pel·licules i les puntuacions de les pel·licules\n",
        "    :param usr: ID de l'usuari\n",
        "    \"\"\"\n",
        "\n",
        "    user_ratings = dataFrame[dataFrame['user_id'] == usr]  # Agafa la puntuació mes alta entre totes les puntuacions fetes per l'usuari\n",
        "    max_rating = user_ratings['rating'].max()  # Agafa la máxima puntuació del usuari\n",
        "\n",
        "    return user_ratings[user_ratings['rating'] == max_rating]['title'].iloc[0]  # Retorna la primera pel·licula que troba amb la maxima puntuacuó\n",
        "\n",
        "print(top_movie(data,1))"
      ]
    },
    {
      "cell_type": "markdown",
      "metadata": {
        "id": "S3w2sFiuP7Zb"
      },
      "source": [
        "### 3.3. EXERCICI C"
      ]
    },
    {
      "cell_type": "markdown",
      "metadata": {
        "id": "7cpptvxDP7Zb"
      },
      "source": [
        "+ Construeix una funció que donat el dataframe ``data`` et retorni un altre dataframe ``df_counts``amb el valor que cada usuari li ha donat a una peli. Això ho farem creant un dataframe on les columnes són els `movie_id`, les files `user_id` i els valors siguin el rating donat."
      ]
    },
    {
      "cell_type": "code",
      "execution_count": 31,
      "metadata": {
        "id": "8dQhlBTZP7Zb"
      },
      "outputs": [],
      "source": [
        "def build_counts_table(df):\n",
        "    \"\"\"\n",
        "    Retorna un dataframe on les columnes són els `movie_id`, les files `user_id` i els valors\n",
        "    la valoració que un usuari ha donat a una peli d'un `movie_id`\n",
        "\n",
        "    :param df: DataFrame original\n",
        "    :return: DataFrame descrit adalt\n",
        "    \"\"\"\n",
        "\n",
        "    # Crea un nou DataFrame amb la funcio pivot_table usant les movie_id com columne, els user_id com files i els ratings com valors\n",
        "    df_counts = df.pivot_table(values='rating', index='user_id', columns='movie_id')\n",
        "\n",
        "    return df_counts"
      ]
    },
    {
      "cell_type": "code",
      "execution_count": 32,
      "metadata": {
        "colab": {
          "base_uri": "https://localhost:8080/",
          "height": 455
        },
        "id": "53XWCThEP7Zb",
        "outputId": "95662ef2-0d73-41ac-80d4-ae7626bf78a4"
      },
      "outputs": [
        {
          "data": {
            "text/html": [
              "<div>\n",
              "<style scoped>\n",
              "    .dataframe tbody tr th:only-of-type {\n",
              "        vertical-align: middle;\n",
              "    }\n",
              "\n",
              "    .dataframe tbody tr th {\n",
              "        vertical-align: top;\n",
              "    }\n",
              "\n",
              "    .dataframe thead th {\n",
              "        text-align: right;\n",
              "    }\n",
              "</style>\n",
              "<table border=\"1\" class=\"dataframe\">\n",
              "  <thead>\n",
              "    <tr style=\"text-align: right;\">\n",
              "      <th>movie_id</th>\n",
              "      <th>1</th>\n",
              "      <th>2</th>\n",
              "      <th>3</th>\n",
              "      <th>4</th>\n",
              "      <th>5</th>\n",
              "      <th>6</th>\n",
              "      <th>7</th>\n",
              "      <th>8</th>\n",
              "      <th>9</th>\n",
              "      <th>10</th>\n",
              "      <th>...</th>\n",
              "      <th>3943</th>\n",
              "      <th>3944</th>\n",
              "      <th>3945</th>\n",
              "      <th>3946</th>\n",
              "      <th>3947</th>\n",
              "      <th>3948</th>\n",
              "      <th>3949</th>\n",
              "      <th>3950</th>\n",
              "      <th>3951</th>\n",
              "      <th>3952</th>\n",
              "    </tr>\n",
              "    <tr>\n",
              "      <th>user_id</th>\n",
              "      <th></th>\n",
              "      <th></th>\n",
              "      <th></th>\n",
              "      <th></th>\n",
              "      <th></th>\n",
              "      <th></th>\n",
              "      <th></th>\n",
              "      <th></th>\n",
              "      <th></th>\n",
              "      <th></th>\n",
              "      <th></th>\n",
              "      <th></th>\n",
              "      <th></th>\n",
              "      <th></th>\n",
              "      <th></th>\n",
              "      <th></th>\n",
              "      <th></th>\n",
              "      <th></th>\n",
              "      <th></th>\n",
              "      <th></th>\n",
              "      <th></th>\n",
              "    </tr>\n",
              "  </thead>\n",
              "  <tbody>\n",
              "    <tr>\n",
              "      <th>1</th>\n",
              "      <td>5.0</td>\n",
              "      <td>NaN</td>\n",
              "      <td>NaN</td>\n",
              "      <td>NaN</td>\n",
              "      <td>NaN</td>\n",
              "      <td>NaN</td>\n",
              "      <td>NaN</td>\n",
              "      <td>NaN</td>\n",
              "      <td>NaN</td>\n",
              "      <td>NaN</td>\n",
              "      <td>...</td>\n",
              "      <td>NaN</td>\n",
              "      <td>NaN</td>\n",
              "      <td>NaN</td>\n",
              "      <td>NaN</td>\n",
              "      <td>NaN</td>\n",
              "      <td>NaN</td>\n",
              "      <td>NaN</td>\n",
              "      <td>NaN</td>\n",
              "      <td>NaN</td>\n",
              "      <td>NaN</td>\n",
              "    </tr>\n",
              "    <tr>\n",
              "      <th>2</th>\n",
              "      <td>NaN</td>\n",
              "      <td>NaN</td>\n",
              "      <td>NaN</td>\n",
              "      <td>NaN</td>\n",
              "      <td>NaN</td>\n",
              "      <td>NaN</td>\n",
              "      <td>NaN</td>\n",
              "      <td>NaN</td>\n",
              "      <td>NaN</td>\n",
              "      <td>NaN</td>\n",
              "      <td>...</td>\n",
              "      <td>NaN</td>\n",
              "      <td>NaN</td>\n",
              "      <td>NaN</td>\n",
              "      <td>NaN</td>\n",
              "      <td>NaN</td>\n",
              "      <td>NaN</td>\n",
              "      <td>NaN</td>\n",
              "      <td>NaN</td>\n",
              "      <td>NaN</td>\n",
              "      <td>NaN</td>\n",
              "    </tr>\n",
              "    <tr>\n",
              "      <th>3</th>\n",
              "      <td>NaN</td>\n",
              "      <td>NaN</td>\n",
              "      <td>NaN</td>\n",
              "      <td>NaN</td>\n",
              "      <td>NaN</td>\n",
              "      <td>NaN</td>\n",
              "      <td>NaN</td>\n",
              "      <td>NaN</td>\n",
              "      <td>NaN</td>\n",
              "      <td>NaN</td>\n",
              "      <td>...</td>\n",
              "      <td>NaN</td>\n",
              "      <td>NaN</td>\n",
              "      <td>NaN</td>\n",
              "      <td>NaN</td>\n",
              "      <td>NaN</td>\n",
              "      <td>NaN</td>\n",
              "      <td>NaN</td>\n",
              "      <td>NaN</td>\n",
              "      <td>NaN</td>\n",
              "      <td>NaN</td>\n",
              "    </tr>\n",
              "    <tr>\n",
              "      <th>4</th>\n",
              "      <td>NaN</td>\n",
              "      <td>NaN</td>\n",
              "      <td>NaN</td>\n",
              "      <td>NaN</td>\n",
              "      <td>NaN</td>\n",
              "      <td>NaN</td>\n",
              "      <td>NaN</td>\n",
              "      <td>NaN</td>\n",
              "      <td>NaN</td>\n",
              "      <td>NaN</td>\n",
              "      <td>...</td>\n",
              "      <td>NaN</td>\n",
              "      <td>NaN</td>\n",
              "      <td>NaN</td>\n",
              "      <td>NaN</td>\n",
              "      <td>NaN</td>\n",
              "      <td>NaN</td>\n",
              "      <td>NaN</td>\n",
              "      <td>NaN</td>\n",
              "      <td>NaN</td>\n",
              "      <td>NaN</td>\n",
              "    </tr>\n",
              "    <tr>\n",
              "      <th>5</th>\n",
              "      <td>NaN</td>\n",
              "      <td>NaN</td>\n",
              "      <td>NaN</td>\n",
              "      <td>NaN</td>\n",
              "      <td>NaN</td>\n",
              "      <td>2.0</td>\n",
              "      <td>NaN</td>\n",
              "      <td>NaN</td>\n",
              "      <td>NaN</td>\n",
              "      <td>NaN</td>\n",
              "      <td>...</td>\n",
              "      <td>NaN</td>\n",
              "      <td>NaN</td>\n",
              "      <td>NaN</td>\n",
              "      <td>NaN</td>\n",
              "      <td>NaN</td>\n",
              "      <td>NaN</td>\n",
              "      <td>NaN</td>\n",
              "      <td>NaN</td>\n",
              "      <td>NaN</td>\n",
              "      <td>NaN</td>\n",
              "    </tr>\n",
              "    <tr>\n",
              "      <th>...</th>\n",
              "      <td>...</td>\n",
              "      <td>...</td>\n",
              "      <td>...</td>\n",
              "      <td>...</td>\n",
              "      <td>...</td>\n",
              "      <td>...</td>\n",
              "      <td>...</td>\n",
              "      <td>...</td>\n",
              "      <td>...</td>\n",
              "      <td>...</td>\n",
              "      <td>...</td>\n",
              "      <td>...</td>\n",
              "      <td>...</td>\n",
              "      <td>...</td>\n",
              "      <td>...</td>\n",
              "      <td>...</td>\n",
              "      <td>...</td>\n",
              "      <td>...</td>\n",
              "      <td>...</td>\n",
              "      <td>...</td>\n",
              "      <td>...</td>\n",
              "    </tr>\n",
              "    <tr>\n",
              "      <th>6036</th>\n",
              "      <td>NaN</td>\n",
              "      <td>NaN</td>\n",
              "      <td>NaN</td>\n",
              "      <td>2.0</td>\n",
              "      <td>NaN</td>\n",
              "      <td>3.0</td>\n",
              "      <td>NaN</td>\n",
              "      <td>NaN</td>\n",
              "      <td>NaN</td>\n",
              "      <td>NaN</td>\n",
              "      <td>...</td>\n",
              "      <td>NaN</td>\n",
              "      <td>NaN</td>\n",
              "      <td>NaN</td>\n",
              "      <td>NaN</td>\n",
              "      <td>NaN</td>\n",
              "      <td>NaN</td>\n",
              "      <td>NaN</td>\n",
              "      <td>NaN</td>\n",
              "      <td>NaN</td>\n",
              "      <td>NaN</td>\n",
              "    </tr>\n",
              "    <tr>\n",
              "      <th>6037</th>\n",
              "      <td>NaN</td>\n",
              "      <td>NaN</td>\n",
              "      <td>NaN</td>\n",
              "      <td>NaN</td>\n",
              "      <td>NaN</td>\n",
              "      <td>NaN</td>\n",
              "      <td>NaN</td>\n",
              "      <td>NaN</td>\n",
              "      <td>NaN</td>\n",
              "      <td>NaN</td>\n",
              "      <td>...</td>\n",
              "      <td>NaN</td>\n",
              "      <td>NaN</td>\n",
              "      <td>NaN</td>\n",
              "      <td>NaN</td>\n",
              "      <td>NaN</td>\n",
              "      <td>NaN</td>\n",
              "      <td>NaN</td>\n",
              "      <td>NaN</td>\n",
              "      <td>NaN</td>\n",
              "      <td>NaN</td>\n",
              "    </tr>\n",
              "    <tr>\n",
              "      <th>6038</th>\n",
              "      <td>NaN</td>\n",
              "      <td>NaN</td>\n",
              "      <td>NaN</td>\n",
              "      <td>NaN</td>\n",
              "      <td>NaN</td>\n",
              "      <td>NaN</td>\n",
              "      <td>NaN</td>\n",
              "      <td>NaN</td>\n",
              "      <td>NaN</td>\n",
              "      <td>NaN</td>\n",
              "      <td>...</td>\n",
              "      <td>NaN</td>\n",
              "      <td>NaN</td>\n",
              "      <td>NaN</td>\n",
              "      <td>NaN</td>\n",
              "      <td>NaN</td>\n",
              "      <td>NaN</td>\n",
              "      <td>NaN</td>\n",
              "      <td>NaN</td>\n",
              "      <td>NaN</td>\n",
              "      <td>NaN</td>\n",
              "    </tr>\n",
              "    <tr>\n",
              "      <th>6039</th>\n",
              "      <td>NaN</td>\n",
              "      <td>NaN</td>\n",
              "      <td>NaN</td>\n",
              "      <td>NaN</td>\n",
              "      <td>NaN</td>\n",
              "      <td>NaN</td>\n",
              "      <td>NaN</td>\n",
              "      <td>NaN</td>\n",
              "      <td>NaN</td>\n",
              "      <td>NaN</td>\n",
              "      <td>...</td>\n",
              "      <td>NaN</td>\n",
              "      <td>NaN</td>\n",
              "      <td>NaN</td>\n",
              "      <td>NaN</td>\n",
              "      <td>NaN</td>\n",
              "      <td>NaN</td>\n",
              "      <td>NaN</td>\n",
              "      <td>NaN</td>\n",
              "      <td>NaN</td>\n",
              "      <td>NaN</td>\n",
              "    </tr>\n",
              "    <tr>\n",
              "      <th>6040</th>\n",
              "      <td>3.0</td>\n",
              "      <td>NaN</td>\n",
              "      <td>NaN</td>\n",
              "      <td>NaN</td>\n",
              "      <td>NaN</td>\n",
              "      <td>NaN</td>\n",
              "      <td>NaN</td>\n",
              "      <td>NaN</td>\n",
              "      <td>NaN</td>\n",
              "      <td>NaN</td>\n",
              "      <td>...</td>\n",
              "      <td>NaN</td>\n",
              "      <td>NaN</td>\n",
              "      <td>NaN</td>\n",
              "      <td>NaN</td>\n",
              "      <td>NaN</td>\n",
              "      <td>NaN</td>\n",
              "      <td>NaN</td>\n",
              "      <td>NaN</td>\n",
              "      <td>NaN</td>\n",
              "      <td>NaN</td>\n",
              "    </tr>\n",
              "  </tbody>\n",
              "</table>\n",
              "<p>6040 rows × 3706 columns</p>\n",
              "</div>"
            ],
            "text/plain": [
              "movie_id  1     2     3     4     5     6     7     8     9     10    ...  \\\n",
              "user_id                                                               ...   \n",
              "1          5.0   NaN   NaN   NaN   NaN   NaN   NaN   NaN   NaN   NaN  ...   \n",
              "2          NaN   NaN   NaN   NaN   NaN   NaN   NaN   NaN   NaN   NaN  ...   \n",
              "3          NaN   NaN   NaN   NaN   NaN   NaN   NaN   NaN   NaN   NaN  ...   \n",
              "4          NaN   NaN   NaN   NaN   NaN   NaN   NaN   NaN   NaN   NaN  ...   \n",
              "5          NaN   NaN   NaN   NaN   NaN   2.0   NaN   NaN   NaN   NaN  ...   \n",
              "...        ...   ...   ...   ...   ...   ...   ...   ...   ...   ...  ...   \n",
              "6036       NaN   NaN   NaN   2.0   NaN   3.0   NaN   NaN   NaN   NaN  ...   \n",
              "6037       NaN   NaN   NaN   NaN   NaN   NaN   NaN   NaN   NaN   NaN  ...   \n",
              "6038       NaN   NaN   NaN   NaN   NaN   NaN   NaN   NaN   NaN   NaN  ...   \n",
              "6039       NaN   NaN   NaN   NaN   NaN   NaN   NaN   NaN   NaN   NaN  ...   \n",
              "6040       3.0   NaN   NaN   NaN   NaN   NaN   NaN   NaN   NaN   NaN  ...   \n",
              "\n",
              "movie_id  3943  3944  3945  3946  3947  3948  3949  3950  3951  3952  \n",
              "user_id                                                               \n",
              "1          NaN   NaN   NaN   NaN   NaN   NaN   NaN   NaN   NaN   NaN  \n",
              "2          NaN   NaN   NaN   NaN   NaN   NaN   NaN   NaN   NaN   NaN  \n",
              "3          NaN   NaN   NaN   NaN   NaN   NaN   NaN   NaN   NaN   NaN  \n",
              "4          NaN   NaN   NaN   NaN   NaN   NaN   NaN   NaN   NaN   NaN  \n",
              "5          NaN   NaN   NaN   NaN   NaN   NaN   NaN   NaN   NaN   NaN  \n",
              "...        ...   ...   ...   ...   ...   ...   ...   ...   ...   ...  \n",
              "6036       NaN   NaN   NaN   NaN   NaN   NaN   NaN   NaN   NaN   NaN  \n",
              "6037       NaN   NaN   NaN   NaN   NaN   NaN   NaN   NaN   NaN   NaN  \n",
              "6038       NaN   NaN   NaN   NaN   NaN   NaN   NaN   NaN   NaN   NaN  \n",
              "6039       NaN   NaN   NaN   NaN   NaN   NaN   NaN   NaN   NaN   NaN  \n",
              "6040       NaN   NaN   NaN   NaN   NaN   NaN   NaN   NaN   NaN   NaN  \n",
              "\n",
              "[6040 rows x 3706 columns]"
            ]
          },
          "execution_count": 32,
          "metadata": {},
          "output_type": "execute_result"
        }
      ],
      "source": [
        "df_counts = build_counts_table(data)\n",
        "df_counts"
      ]
    },
    {
      "cell_type": "markdown",
      "metadata": {
        "id": "dBZ4YwkWP7Zb"
      },
      "source": [
        "+ Fés una funció que donada la taula anterior i dos id's (usuari i peli), extregui el valor donat:"
      ]
    },
    {
      "cell_type": "code",
      "execution_count": 33,
      "metadata": {
        "colab": {
          "base_uri": "https://localhost:8080/"
        },
        "id": "2LpWDlT2P7Zb",
        "outputId": "b009f1e8-2a1d-471c-ea81-70d77d221a45"
      },
      "outputs": [
        {
          "data": {
            "text/plain": [
              "5.0"
            ]
          },
          "execution_count": 33,
          "metadata": {},
          "output_type": "execute_result"
        }
      ],
      "source": [
        "def get_count(df, user_id, movie_id):\n",
        "    \"\"\"\n",
        "    Retorna la valoració que l'usuari 'user_id' ha donat de 'movie_id'\n",
        "\n",
        "    :param df: DataFrame retornat per `build_counts_table`\n",
        "    :param user_id: ID de l'usuari\n",
        "    :param movie_id: ID de la peli\n",
        "    :return: Enter amb la valoració de la peli\n",
        "    \"\"\"\n",
        "\n",
        "    # Retorna la valoració del usuari user_id i la pel·licula movie_id\n",
        "    return df.loc[user_id, movie_id] \n",
        "\n",
        "get_count(df_counts, 1, 1)"
      ]
    },
    {
      "cell_type": "markdown",
      "metadata": {
        "id": "ft-Anhg8P7Zc"
      },
      "source": [
        "### 3.4. EXERCICI D"
      ]
    },
    {
      "cell_type": "markdown",
      "metadata": {
        "id": "0AOF-fgeP7Zc"
      },
      "source": [
        "Si observem el nombre total d'usuaris únics i de pel.licules úniques, podem veure que els id's dels usuaris van de 1 a 6040. Normalment volem índexos que comencin al nombre 0, anant de 0 a 6039.\n",
        "\n",
        "+ Explora els índexos de les pel·licules. **Quin problema hi ha amb els indexos de les pel·licules??**"
      ]
    },
    {
      "cell_type": "code",
      "execution_count": 34,
      "metadata": {},
      "outputs": [
        {
          "name": "stdout",
          "output_type": "stream",
          "text": [
            "Numero de pel·licules: 3706\n",
            "Valor del índex més alt: 3952\n"
          ]
        }
      ],
      "source": [
        "unique_movies = pd.unique(data['movie_id'])\n",
        "print(f'Numero de pel·licules: {len(unique_movies)}\\nValor del índex més alt: {unique_movies.max()}')"
      ]
    },
    {
      "cell_type": "markdown",
      "metadata": {
        "id": "zj8oSDB1P7Zc"
      },
      "source": [
        "> **Resposta**: El nombre de indexs és correcte, però l'index amb major valor supera per molt el número de pel·licules que hi han, per tant podem veure que els id's no estan ordenats i els valors no son coherents\n"
      ]
    },
    {
      "cell_type": "markdown",
      "metadata": {
        "id": "gHbAA3uSP7Zc"
      },
      "source": [
        "+ Usant la funció `pd.Categorical(*).codes`, re-indexa els id's dels usuaris i de les pelis perquè vagin de 0 a 6039 i de 0 a 3705 respectivament:"
      ]
    },
    {
      "cell_type": "code",
      "execution_count": 35,
      "metadata": {
        "id": "_9IDVffuP7Zc"
      },
      "outputs": [],
      "source": [
        "# Reindexa tant els indexs dels usuaris com el de les pel·licules\n",
        "data['user_id'] = pd.Categorical(data['user_id']).codes\n",
        "data['movie_id'] = pd.Categorical(data['movie_id']).codes"
      ]
    },
    {
      "cell_type": "markdown",
      "metadata": {
        "id": "IF-9bTvuP7Zc"
      },
      "source": [
        "+ Per comprovar que tot sigui correcte i guardar correctament la taula **df_counts**, torna a calcular i visualitza ``df_counts``:"
      ]
    },
    {
      "cell_type": "code",
      "execution_count": 36,
      "metadata": {
        "colab": {
          "base_uri": "https://localhost:8080/",
          "height": 455
        },
        "id": "r1S5CAD9P7Zd",
        "outputId": "5d189d3a-1415-4e2f-85d5-bbbfa8aaecb3"
      },
      "outputs": [
        {
          "data": {
            "text/html": [
              "<div>\n",
              "<style scoped>\n",
              "    .dataframe tbody tr th:only-of-type {\n",
              "        vertical-align: middle;\n",
              "    }\n",
              "\n",
              "    .dataframe tbody tr th {\n",
              "        vertical-align: top;\n",
              "    }\n",
              "\n",
              "    .dataframe thead th {\n",
              "        text-align: right;\n",
              "    }\n",
              "</style>\n",
              "<table border=\"1\" class=\"dataframe\">\n",
              "  <thead>\n",
              "    <tr style=\"text-align: right;\">\n",
              "      <th>movie_id</th>\n",
              "      <th>0</th>\n",
              "      <th>1</th>\n",
              "      <th>2</th>\n",
              "      <th>3</th>\n",
              "      <th>4</th>\n",
              "      <th>5</th>\n",
              "      <th>6</th>\n",
              "      <th>7</th>\n",
              "      <th>8</th>\n",
              "      <th>9</th>\n",
              "      <th>...</th>\n",
              "      <th>3696</th>\n",
              "      <th>3697</th>\n",
              "      <th>3698</th>\n",
              "      <th>3699</th>\n",
              "      <th>3700</th>\n",
              "      <th>3701</th>\n",
              "      <th>3702</th>\n",
              "      <th>3703</th>\n",
              "      <th>3704</th>\n",
              "      <th>3705</th>\n",
              "    </tr>\n",
              "    <tr>\n",
              "      <th>user_id</th>\n",
              "      <th></th>\n",
              "      <th></th>\n",
              "      <th></th>\n",
              "      <th></th>\n",
              "      <th></th>\n",
              "      <th></th>\n",
              "      <th></th>\n",
              "      <th></th>\n",
              "      <th></th>\n",
              "      <th></th>\n",
              "      <th></th>\n",
              "      <th></th>\n",
              "      <th></th>\n",
              "      <th></th>\n",
              "      <th></th>\n",
              "      <th></th>\n",
              "      <th></th>\n",
              "      <th></th>\n",
              "      <th></th>\n",
              "      <th></th>\n",
              "      <th></th>\n",
              "    </tr>\n",
              "  </thead>\n",
              "  <tbody>\n",
              "    <tr>\n",
              "      <th>0</th>\n",
              "      <td>5.0</td>\n",
              "      <td>NaN</td>\n",
              "      <td>NaN</td>\n",
              "      <td>NaN</td>\n",
              "      <td>NaN</td>\n",
              "      <td>NaN</td>\n",
              "      <td>NaN</td>\n",
              "      <td>NaN</td>\n",
              "      <td>NaN</td>\n",
              "      <td>NaN</td>\n",
              "      <td>...</td>\n",
              "      <td>NaN</td>\n",
              "      <td>NaN</td>\n",
              "      <td>NaN</td>\n",
              "      <td>NaN</td>\n",
              "      <td>NaN</td>\n",
              "      <td>NaN</td>\n",
              "      <td>NaN</td>\n",
              "      <td>NaN</td>\n",
              "      <td>NaN</td>\n",
              "      <td>NaN</td>\n",
              "    </tr>\n",
              "    <tr>\n",
              "      <th>1</th>\n",
              "      <td>NaN</td>\n",
              "      <td>NaN</td>\n",
              "      <td>NaN</td>\n",
              "      <td>NaN</td>\n",
              "      <td>NaN</td>\n",
              "      <td>NaN</td>\n",
              "      <td>NaN</td>\n",
              "      <td>NaN</td>\n",
              "      <td>NaN</td>\n",
              "      <td>NaN</td>\n",
              "      <td>...</td>\n",
              "      <td>NaN</td>\n",
              "      <td>NaN</td>\n",
              "      <td>NaN</td>\n",
              "      <td>NaN</td>\n",
              "      <td>NaN</td>\n",
              "      <td>NaN</td>\n",
              "      <td>NaN</td>\n",
              "      <td>NaN</td>\n",
              "      <td>NaN</td>\n",
              "      <td>NaN</td>\n",
              "    </tr>\n",
              "    <tr>\n",
              "      <th>2</th>\n",
              "      <td>NaN</td>\n",
              "      <td>NaN</td>\n",
              "      <td>NaN</td>\n",
              "      <td>NaN</td>\n",
              "      <td>NaN</td>\n",
              "      <td>NaN</td>\n",
              "      <td>NaN</td>\n",
              "      <td>NaN</td>\n",
              "      <td>NaN</td>\n",
              "      <td>NaN</td>\n",
              "      <td>...</td>\n",
              "      <td>NaN</td>\n",
              "      <td>NaN</td>\n",
              "      <td>NaN</td>\n",
              "      <td>NaN</td>\n",
              "      <td>NaN</td>\n",
              "      <td>NaN</td>\n",
              "      <td>NaN</td>\n",
              "      <td>NaN</td>\n",
              "      <td>NaN</td>\n",
              "      <td>NaN</td>\n",
              "    </tr>\n",
              "    <tr>\n",
              "      <th>3</th>\n",
              "      <td>NaN</td>\n",
              "      <td>NaN</td>\n",
              "      <td>NaN</td>\n",
              "      <td>NaN</td>\n",
              "      <td>NaN</td>\n",
              "      <td>NaN</td>\n",
              "      <td>NaN</td>\n",
              "      <td>NaN</td>\n",
              "      <td>NaN</td>\n",
              "      <td>NaN</td>\n",
              "      <td>...</td>\n",
              "      <td>NaN</td>\n",
              "      <td>NaN</td>\n",
              "      <td>NaN</td>\n",
              "      <td>NaN</td>\n",
              "      <td>NaN</td>\n",
              "      <td>NaN</td>\n",
              "      <td>NaN</td>\n",
              "      <td>NaN</td>\n",
              "      <td>NaN</td>\n",
              "      <td>NaN</td>\n",
              "    </tr>\n",
              "    <tr>\n",
              "      <th>4</th>\n",
              "      <td>NaN</td>\n",
              "      <td>NaN</td>\n",
              "      <td>NaN</td>\n",
              "      <td>NaN</td>\n",
              "      <td>NaN</td>\n",
              "      <td>2.0</td>\n",
              "      <td>NaN</td>\n",
              "      <td>NaN</td>\n",
              "      <td>NaN</td>\n",
              "      <td>NaN</td>\n",
              "      <td>...</td>\n",
              "      <td>NaN</td>\n",
              "      <td>NaN</td>\n",
              "      <td>NaN</td>\n",
              "      <td>NaN</td>\n",
              "      <td>NaN</td>\n",
              "      <td>NaN</td>\n",
              "      <td>NaN</td>\n",
              "      <td>NaN</td>\n",
              "      <td>NaN</td>\n",
              "      <td>NaN</td>\n",
              "    </tr>\n",
              "    <tr>\n",
              "      <th>...</th>\n",
              "      <td>...</td>\n",
              "      <td>...</td>\n",
              "      <td>...</td>\n",
              "      <td>...</td>\n",
              "      <td>...</td>\n",
              "      <td>...</td>\n",
              "      <td>...</td>\n",
              "      <td>...</td>\n",
              "      <td>...</td>\n",
              "      <td>...</td>\n",
              "      <td>...</td>\n",
              "      <td>...</td>\n",
              "      <td>...</td>\n",
              "      <td>...</td>\n",
              "      <td>...</td>\n",
              "      <td>...</td>\n",
              "      <td>...</td>\n",
              "      <td>...</td>\n",
              "      <td>...</td>\n",
              "      <td>...</td>\n",
              "      <td>...</td>\n",
              "    </tr>\n",
              "    <tr>\n",
              "      <th>6035</th>\n",
              "      <td>NaN</td>\n",
              "      <td>NaN</td>\n",
              "      <td>NaN</td>\n",
              "      <td>2.0</td>\n",
              "      <td>NaN</td>\n",
              "      <td>3.0</td>\n",
              "      <td>NaN</td>\n",
              "      <td>NaN</td>\n",
              "      <td>NaN</td>\n",
              "      <td>NaN</td>\n",
              "      <td>...</td>\n",
              "      <td>NaN</td>\n",
              "      <td>NaN</td>\n",
              "      <td>NaN</td>\n",
              "      <td>NaN</td>\n",
              "      <td>NaN</td>\n",
              "      <td>NaN</td>\n",
              "      <td>NaN</td>\n",
              "      <td>NaN</td>\n",
              "      <td>NaN</td>\n",
              "      <td>NaN</td>\n",
              "    </tr>\n",
              "    <tr>\n",
              "      <th>6036</th>\n",
              "      <td>NaN</td>\n",
              "      <td>NaN</td>\n",
              "      <td>NaN</td>\n",
              "      <td>NaN</td>\n",
              "      <td>NaN</td>\n",
              "      <td>NaN</td>\n",
              "      <td>NaN</td>\n",
              "      <td>NaN</td>\n",
              "      <td>NaN</td>\n",
              "      <td>NaN</td>\n",
              "      <td>...</td>\n",
              "      <td>NaN</td>\n",
              "      <td>NaN</td>\n",
              "      <td>NaN</td>\n",
              "      <td>NaN</td>\n",
              "      <td>NaN</td>\n",
              "      <td>NaN</td>\n",
              "      <td>NaN</td>\n",
              "      <td>NaN</td>\n",
              "      <td>NaN</td>\n",
              "      <td>NaN</td>\n",
              "    </tr>\n",
              "    <tr>\n",
              "      <th>6037</th>\n",
              "      <td>NaN</td>\n",
              "      <td>NaN</td>\n",
              "      <td>NaN</td>\n",
              "      <td>NaN</td>\n",
              "      <td>NaN</td>\n",
              "      <td>NaN</td>\n",
              "      <td>NaN</td>\n",
              "      <td>NaN</td>\n",
              "      <td>NaN</td>\n",
              "      <td>NaN</td>\n",
              "      <td>...</td>\n",
              "      <td>NaN</td>\n",
              "      <td>NaN</td>\n",
              "      <td>NaN</td>\n",
              "      <td>NaN</td>\n",
              "      <td>NaN</td>\n",
              "      <td>NaN</td>\n",
              "      <td>NaN</td>\n",
              "      <td>NaN</td>\n",
              "      <td>NaN</td>\n",
              "      <td>NaN</td>\n",
              "    </tr>\n",
              "    <tr>\n",
              "      <th>6038</th>\n",
              "      <td>NaN</td>\n",
              "      <td>NaN</td>\n",
              "      <td>NaN</td>\n",
              "      <td>NaN</td>\n",
              "      <td>NaN</td>\n",
              "      <td>NaN</td>\n",
              "      <td>NaN</td>\n",
              "      <td>NaN</td>\n",
              "      <td>NaN</td>\n",
              "      <td>NaN</td>\n",
              "      <td>...</td>\n",
              "      <td>NaN</td>\n",
              "      <td>NaN</td>\n",
              "      <td>NaN</td>\n",
              "      <td>NaN</td>\n",
              "      <td>NaN</td>\n",
              "      <td>NaN</td>\n",
              "      <td>NaN</td>\n",
              "      <td>NaN</td>\n",
              "      <td>NaN</td>\n",
              "      <td>NaN</td>\n",
              "    </tr>\n",
              "    <tr>\n",
              "      <th>6039</th>\n",
              "      <td>3.0</td>\n",
              "      <td>NaN</td>\n",
              "      <td>NaN</td>\n",
              "      <td>NaN</td>\n",
              "      <td>NaN</td>\n",
              "      <td>NaN</td>\n",
              "      <td>NaN</td>\n",
              "      <td>NaN</td>\n",
              "      <td>NaN</td>\n",
              "      <td>NaN</td>\n",
              "      <td>...</td>\n",
              "      <td>NaN</td>\n",
              "      <td>NaN</td>\n",
              "      <td>NaN</td>\n",
              "      <td>NaN</td>\n",
              "      <td>NaN</td>\n",
              "      <td>NaN</td>\n",
              "      <td>NaN</td>\n",
              "      <td>NaN</td>\n",
              "      <td>NaN</td>\n",
              "      <td>NaN</td>\n",
              "    </tr>\n",
              "  </tbody>\n",
              "</table>\n",
              "<p>6040 rows × 3706 columns</p>\n",
              "</div>"
            ],
            "text/plain": [
              "movie_id  0     1     2     3     4     5     6     7     8     9     ...  \\\n",
              "user_id                                                               ...   \n",
              "0          5.0   NaN   NaN   NaN   NaN   NaN   NaN   NaN   NaN   NaN  ...   \n",
              "1          NaN   NaN   NaN   NaN   NaN   NaN   NaN   NaN   NaN   NaN  ...   \n",
              "2          NaN   NaN   NaN   NaN   NaN   NaN   NaN   NaN   NaN   NaN  ...   \n",
              "3          NaN   NaN   NaN   NaN   NaN   NaN   NaN   NaN   NaN   NaN  ...   \n",
              "4          NaN   NaN   NaN   NaN   NaN   2.0   NaN   NaN   NaN   NaN  ...   \n",
              "...        ...   ...   ...   ...   ...   ...   ...   ...   ...   ...  ...   \n",
              "6035       NaN   NaN   NaN   2.0   NaN   3.0   NaN   NaN   NaN   NaN  ...   \n",
              "6036       NaN   NaN   NaN   NaN   NaN   NaN   NaN   NaN   NaN   NaN  ...   \n",
              "6037       NaN   NaN   NaN   NaN   NaN   NaN   NaN   NaN   NaN   NaN  ...   \n",
              "6038       NaN   NaN   NaN   NaN   NaN   NaN   NaN   NaN   NaN   NaN  ...   \n",
              "6039       3.0   NaN   NaN   NaN   NaN   NaN   NaN   NaN   NaN   NaN  ...   \n",
              "\n",
              "movie_id  3696  3697  3698  3699  3700  3701  3702  3703  3704  3705  \n",
              "user_id                                                               \n",
              "0          NaN   NaN   NaN   NaN   NaN   NaN   NaN   NaN   NaN   NaN  \n",
              "1          NaN   NaN   NaN   NaN   NaN   NaN   NaN   NaN   NaN   NaN  \n",
              "2          NaN   NaN   NaN   NaN   NaN   NaN   NaN   NaN   NaN   NaN  \n",
              "3          NaN   NaN   NaN   NaN   NaN   NaN   NaN   NaN   NaN   NaN  \n",
              "4          NaN   NaN   NaN   NaN   NaN   NaN   NaN   NaN   NaN   NaN  \n",
              "...        ...   ...   ...   ...   ...   ...   ...   ...   ...   ...  \n",
              "6035       NaN   NaN   NaN   NaN   NaN   NaN   NaN   NaN   NaN   NaN  \n",
              "6036       NaN   NaN   NaN   NaN   NaN   NaN   NaN   NaN   NaN   NaN  \n",
              "6037       NaN   NaN   NaN   NaN   NaN   NaN   NaN   NaN   NaN   NaN  \n",
              "6038       NaN   NaN   NaN   NaN   NaN   NaN   NaN   NaN   NaN   NaN  \n",
              "6039       NaN   NaN   NaN   NaN   NaN   NaN   NaN   NaN   NaN   NaN  \n",
              "\n",
              "[6040 rows x 3706 columns]"
            ]
          },
          "execution_count": 36,
          "metadata": {},
          "output_type": "execute_result"
        }
      ],
      "source": [
        "# la vostra solució aquí\n",
        "df_counts = build_counts_table(data)\n",
        "df_counts"
      ]
    },
    {
      "cell_type": "markdown",
      "metadata": {
        "id": "kl4ZuaQF7_Ho"
      },
      "source": [
        "### 3.5. EXERCICI E\n",
        "\n"
      ]
    },
    {
      "cell_type": "markdown",
      "metadata": {
        "id": "wVcFyVHmP7Zd"
      },
      "source": [
        "+ Escriu una funció `distEuclid(x,y)`  que implementi la distància Euclidiana entre dos vectors usant funcions de pandas.\n",
        "\n",
        "+ Escriu la funció `SimEuclid (DataFrame, U1, U2)` que calculin la semblança entre dos usuaris segons aquesta estructura:\n",
        "\n",
        "    + Calcular un vector per cada usuari, $U1$ i $U2$, amb les puntuacions dels ítems comuns que han puntuat el dos usuaris.\n",
        "    + Si no hi ha puntuacions en comú, retornar 0. Sinó, retornar\n",
        "    \n",
        "    $$\\frac{1}{(1+distEuclid(U1, U2))}$$\n",
        "\n",
        "+ Avalueu amb la funció ``%timeit`` quant triguen aquests càlculs per un parell d'usuaris.   \n",
        "\n",
        "> *Nota: Alguns d'aquests exercicis tenen temps de càlcul de l'ordre de minuts sobre tota la base de dades. Per desenvolupar els algorismes és recomanable treballar amb una versió reduïda de la base de dades.*"
      ]
    },
    {
      "cell_type": "markdown",
      "metadata": {
        "id": "beW3mSFIP7Zd"
      },
      "source": [
        "Per implementar aquestes funcions únicament es permet l'ús de les funcions:\n",
        "\n",
        "* `np.sum`\n",
        "* `np.sqrt`\n",
        "* `np.power`\n",
        "* `np.dot`\n",
        "* `np.linalg.norm`\n",
        "* `np.mean`\n",
        "\n",
        "I s'ha de fer **sense bucles**!"
      ]
    },
    {
      "cell_type": "code",
      "execution_count": 37,
      "metadata": {
        "id": "Kn42z3Of7_Ho",
        "jupyter": {
          "outputs_hidden": false
        }
      },
      "outputs": [],
      "source": [
        "num_movies = data.nunique()['movie_id']\n",
        "\n",
        "def distEuclid(x, y):\n",
        "    \"\"\"\n",
        "    Retorna la distancia euclidiana de dos vectors n-dimensionals.\n",
        "\n",
        "    :param x: Primer vector\n",
        "    :param y: Segon vector\n",
        "    :return : Escalar (float) corresponent a la distancia euclidiana\n",
        "    \"\"\"\n",
        "\n",
        "    # Calcula la distància euclidiana utilitzant les funcions proporcionades\n",
        "    return np.sqrt(np.sum((x - y)**2))\n",
        "\n",
        "\n",
        "def SimEuclid(DataFrame, User1, User2):\n",
        "    \"\"\"\n",
        "    Retorna un score que representa la similitud entre user1 i user2 basada en la distancia euclidiana\n",
        "\n",
        "    :param DataFrame: dataframe que conté totes les dades\n",
        "    :param User1: id user1\n",
        "    :param User2: id user2\n",
        "    :return : Escalar (float) corresponent al score\n",
        "    \"\"\"\n",
        "\n",
        "    # Obté les pel·licules valoradas per cada usuari\n",
        "    user1_rated_movies = DataFrame.loc[DataFrame['user_id'] == User1, 'movie_id']\n",
        "    user2_rated_movies = DataFrame.loc[DataFrame['user_id'] == User2, 'movie_id']\n",
        "\n",
        "    # Obté les pel·licules comunes entre ambdós usuaris\n",
        "    common_movies = pd.merge(user1_rated_movies, user2_rated_movies)['movie_id'].values\n",
        "\n",
        "    # Si no hi ha pel·licules en comú es retorna 0\n",
        "    if len(common_movies) == 0:\n",
        "      return 0\n",
        "\n",
        "    # Obté les puntuacions de les pel·licules valoradas pels dos usuaris\n",
        "    user1_values = DataFrame[(DataFrame['movie_id'].isin(common_movies)) & (DataFrame['user_id'] == User1)]['rating'].values\n",
        "    user2_values = DataFrame[(DataFrame['movie_id'].isin(common_movies)) & (DataFrame['user_id'] == User2)]['rating'].values\n",
        "\n",
        "    # Calcula la distancia euclidiana entre les dues puntuacions dels usuaris\n",
        "    distance = distEuclid(user1_values, user2_values)\n",
        "\n",
        "    # Calcula el score tenint en compte el número de pel·licules que tenen en comú vers el número total\n",
        "    score = 1 / (1 + distance) * (len(common_movies)/num_movies)\n",
        "\n",
        "    return score"
      ]
    },
    {
      "cell_type": "code",
      "execution_count": 38,
      "metadata": {
        "colab": {
          "base_uri": "https://localhost:8080/"
        },
        "id": "JSAH4saX7_Ho",
        "jupyter": {
          "outputs_hidden": false
        },
        "outputId": "0142639f-a839-451a-d307-45035d1e5df3"
      },
      "outputs": [
        {
          "name": "stdout",
          "output_type": "stream",
          "text": [
            "0.0005396654074473826\n"
          ]
        }
      ],
      "source": [
        "# Execute functions\n",
        "print(SimEuclid(data, 2,314))"
      ]
    },
    {
      "cell_type": "code",
      "execution_count": 39,
      "metadata": {
        "colab": {
          "base_uri": "https://localhost:8080/"
        },
        "id": "Q2i5rhxGP7Ze",
        "jupyter": {
          "outputs_hidden": false
        },
        "outputId": "c3b50a9a-f6cd-4803-cd73-8314b900f03a"
      },
      "outputs": [
        {
          "name": "stdout",
          "output_type": "stream",
          "text": [
            "0.0006296096420219464\n"
          ]
        }
      ],
      "source": [
        "# Execute functions\n",
        "print(SimEuclid(data, 0,1))"
      ]
    },
    {
      "cell_type": "code",
      "execution_count": 40,
      "metadata": {
        "colab": {
          "base_uri": "https://localhost:8080/"
        },
        "id": "FrIWNV-MP7Ze",
        "jupyter": {
          "outputs_hidden": false
        },
        "outputId": "8a6d10b3-7b19-44be-975c-539ad86889c6"
      },
      "outputs": [
        {
          "name": "stdout",
          "output_type": "stream",
          "text": [
            "0.0005316828473355942\n"
          ]
        }
      ],
      "source": [
        "# Execute functions\n",
        "print(SimEuclid(data, 1, 5))"
      ]
    },
    {
      "cell_type": "code",
      "execution_count": 41,
      "metadata": {
        "colab": {
          "base_uri": "https://localhost:8080/"
        },
        "id": "xwBrRSd7P7Ze",
        "outputId": "7264154e-3494-450c-a43c-4c97c71944f6"
      },
      "outputs": [
        {
          "name": "stdout",
          "output_type": "stream",
          "text": [
            "5.5 ms ± 110 µs per loop (mean ± std. dev. of 7 runs, 100 loops each)\n"
          ]
        }
      ],
      "source": [
        "%timeit SimEuclid(data, 1, 5)"
      ]
    },
    {
      "cell_type": "markdown",
      "metadata": {
        "id": "fmX_9c0t7_Hp"
      },
      "source": [
        "### 3.6. EXERCICI F\n",
        "\n",
        "En aquest exercici desenvoluparem un sistema de recomanació col·laboratiu **basat en usuaris**.\n",
        "\n",
        "La funció principal, ``getRecommendationsUser``, ha de tenir com a entrada una taula de puntuacions, un ``user_id``, el tipus de mesura de semblança (Euclidiana) que volem usar, el nombre `m` d'usuaris semblants que volem per fer la recomanació i el nombre ``n`` de recomanacions que volem.\n",
        "\n",
        "Exemple: ``getRecommendationsUser(data, 2, 50, 10, SimEuclid)``\n",
        "\n",
        "Com a sortida ha de donar la llista de les $n$ millors pel·lícules que li podriem recomanar segons la seva semblança amb altres usuaris.\n",
        "\n",
        "> *Nota 1: S'ha d'evitar comparar ``user_id`` a ell mateix.*\n",
        "\n",
        "> *Nota 2: Recordeu que en Python podem passar funcions com a paràmetres d'una funció.*"
      ]
    },
    {
      "cell_type": "markdown",
      "metadata": {
        "id": "v4QKMIdKP7Ze"
      },
      "source": [
        "#### EXERCICI F.1\n",
        "\n",
        "+ Computa la *score* de similitud del usuari desitjat (userID) respecte tots els altres i retorna un diccionari dels $m$ usuaris més propers i el seu *score*, que seran els que usarem per fer la recomanació. Normalitzeu els *scores* de sortida."
      ]
    },
    {
      "cell_type": "code",
      "execution_count": 42,
      "metadata": {
        "id": "So-5eFHFP7Ze"
      },
      "outputs": [],
      "source": [
        "def find_similar_users(DataFrame, userID, m, simfunction):\n",
        "    \"\"\"\n",
        "    Retorna un diccionari de usuaris similars amb les scores corresponents.\n",
        "\n",
        "    :param DataFrame: dataframe que conté totes les dades\n",
        "    :param userID: usuari respecte al qual fem la recomanació\n",
        "    :param m: nombre d'usuaris que volem per fer la recomanació\n",
        "    :param similarity: mesura de similitud\n",
        "    :return : dictionary\n",
        "    \"\"\"\n",
        "\n",
        "    # Exclou el propi usuari de les comparacions\n",
        "    users = DataFrame[DataFrame['user_id'] != userID]['user_id'].unique()\n",
        "\n",
        "    # Calcula la similitud entre l'usuari objectiu i tots els altres usuaris\n",
        "    scores = {}\n",
        "    for user in users:\n",
        "        scores[user] = simfunction(DataFrame, userID, user)\n",
        "\n",
        "    # Ordena els usuaris segons la similitud i agafa els m més semblants\n",
        "    scores = sorted(scores.items(), key=lambda x: x[1], reverse=True)[:m]\n",
        "\n",
        "    return scores"
      ]
    },
    {
      "cell_type": "code",
      "execution_count": 43,
      "metadata": {
        "colab": {
          "base_uri": "https://localhost:8080/"
        },
        "id": "TjSzPVQEP7Ze",
        "outputId": "85dd33b2-e820-4bf0-fc9f-8e397a0059d2"
      },
      "outputs": [
        {
          "name": "stdout",
          "output_type": "stream",
          "text": [
            "0:00:28.826723\n"
          ]
        }
      ],
      "source": [
        "t = datetime.datetime.now()\n",
        "sim_dict = find_similar_users(data, 2, 10, SimEuclid)\n",
        "t = datetime.datetime.now()-t\n",
        "print(str(t))"
      ]
    },
    {
      "cell_type": "code",
      "execution_count": 44,
      "metadata": {},
      "outputs": [
        {
          "data": {
            "text/plain": [
              "[(4447, 0.0016759799892629866),\n",
              " (1646, 0.0016575437514455324),\n",
              " (5830, 0.0015585655884994666),\n",
              " (2270, 0.0015274228133923392),\n",
              " (1903, 0.0015241950142672186),\n",
              " (3271, 0.001514953400110106),\n",
              " (4276, 0.001514879601095694),\n",
              " (1879, 0.0014857868522638257),\n",
              " (3625, 0.001482580170135753),\n",
              " (650, 0.0014790760952288534)]"
            ]
          },
          "execution_count": 44,
          "metadata": {},
          "output_type": "execute_result"
        }
      ],
      "source": [
        "sim_dict"
      ]
    },
    {
      "cell_type": "markdown",
      "metadata": {
        "id": "vtxNyc9lP7Zf"
      },
      "source": [
        "+ Creieu que el temps de procés és assumible? Quan trigaria si ho fem per tots els usuaris?"
      ]
    },
    {
      "cell_type": "markdown",
      "metadata": {
        "id": "xEberJCfP7Zf"
      },
      "source": [
        "> **RESPOSTA**: No ho és ja que aproximadament trigariem uns 163107 segons que en hores serien unes 45. Tenint en compte que 6041 usuaris no son molts, i que les grans empreses compten amb nombres d'usuaris elevats, no es una solució optima."
      ]
    },
    {
      "cell_type": "markdown",
      "metadata": {
        "id": "_BWniLdmP7Zf"
      },
      "source": [
        "+ Per solucionar el problema anterior, construeix una matriu de mida $U \\times U$ on cada posició $(i,j)$ indiqui la distància entre l'element $i$ i el $j$. Així doncs, si estàs fent un recomanador basat en usuaris, `matriu[2, 3]` contindrà la similitud entre l'usuari 2 i el 3. Calcula quant triga la teva implementació."
      ]
    },
    {
      "cell_type": "markdown",
      "metadata": {
        "id": "H77bks3LP7Zf"
      },
      "source": [
        "Heu de tenir en compte que:\n",
        "\n",
        "* Si feu una funció que treballi amb els vectors de cada usuari i faci un doble ``for``, el procés de les dades pot trigar una bona estona.\n",
        "* Si feu una funció que treballi específicament amb matrius (i no vectors) trigarà molt pocs segons. En aquest link podeu trobar indicacions de com fer-ho: https://jaykmody.com/blog/distance-matrices-with-numpy/\n",
        "\n"
      ]
    },
    {
      "cell_type": "code",
      "execution_count": 45,
      "metadata": {
        "id": "loRj8E2iP7Zf"
      },
      "outputs": [],
      "source": [
        "def compute_distance(fixed_arr, var_arr):\n",
        "    \"\"\"\n",
        "    Donats dos vectors, calcula la distancia entre els subvectors formats\n",
        "    pels elements en comú.\n",
        "    \"\"\"\n",
        "\n"
      ]
    },
    {
      "cell_type": "code",
      "execution_count": 46,
      "metadata": {
        "id": "tJfph3PpP7Zf"
      },
      "outputs": [],
      "source": [
        "from tqdm import tqdm\n",
        "\n",
        "def similarity_matrix(compute_distance, df_counts):\n",
        "    \"\"\"\n",
        "    Retorna una matriu de mida M x M on cada posició\n",
        "    indica la similitud entre usuaris (resp. ítems).\n",
        "\n",
        "    :param df_counts: df amb els valor que cada usuari li ha donat a una peli.\n",
        "    :return : Matriu numpy de mida M x M amb les similituds.\n",
        "    \"\"\"\n",
        "\n",
        "    df_counts = np.nan_to_num(df_counts)\n",
        "\n",
        "    x2 = np.sum(df_counts**2, axis=1)\n",
        "    xy = np.matmul(df_counts, df_counts.T)\n",
        "\n",
        "    x2 = x2.reshape(-1, 1)\n",
        "    distances = np.sqrt(x2 - 2*xy + x2.T)\n",
        "\n",
        "    return distances"
      ]
    },
    {
      "cell_type": "code",
      "execution_count": 47,
      "metadata": {
        "id": "0P4cRlfnP7Zf",
        "tags": []
      },
      "outputs": [
        {
          "name": "stdout",
          "output_type": "stream",
          "text": [
            "Temps sense bucles: 0:00:01.089490\n"
          ]
        }
      ],
      "source": [
        "t = datetime.datetime.now()\n",
        "sim = similarity_matrix(compute_distance, df_counts)\n",
        "t = datetime.datetime.now()-t\n",
        "print(\"Temps sense bucles:\",str(t))"
      ]
    },
    {
      "cell_type": "code",
      "execution_count": 93,
      "metadata": {
        "id": "2OF9T_Wzs7Ff"
      },
      "outputs": [],
      "source": [
        "sim = similarity_matrix(compute_distance, df_counts)\n",
        "sim = sim / sim.sum(axis=1, keepdims=True) # Normalize the values"
      ]
    },
    {
      "cell_type": "markdown",
      "metadata": {
        "id": "zreU3-FvP7Zf"
      },
      "source": [
        "+ Ara torna a re-fer la funció ``find_similar_users`` i mira quant triga.\n",
        "\n",
        "> Recorda que les scores han d'estar normalitzades!"
      ]
    },
    {
      "cell_type": "code",
      "execution_count": 94,
      "metadata": {
        "id": "yEDl1xMsP7Zg"
      },
      "outputs": [],
      "source": [
        "def find_similar_users(DataFrame, sim_mx, userID, m):\n",
        "    # la vostra solució aquí\n",
        "\n",
        "    # Agafem la fila de la matriu corresponen a l'usuari corresponent\n",
        "    user_distances = pd.Series(sim_mx[userID])\n",
        "\n",
        "    # Ordenem els scores i agafem els més grans\n",
        "    w_scores = user_distances.sort_values(ascending=False)[:m]\n",
        "\n",
        "    return w_scores.to_dict()"
      ]
    },
    {
      "cell_type": "code",
      "execution_count": 95,
      "metadata": {
        "id": "8O23yqvmP7Zg"
      },
      "outputs": [
        {
          "name": "stdout",
          "output_type": "stream",
          "text": [
            "0:00:00.002465\n"
          ]
        }
      ],
      "source": [
        "t = datetime.datetime.now()\n",
        "sim_dict = find_similar_users(data, sim, 2, 10)\n",
        "t = datetime.datetime.now()-t\n",
        "print(str(t))"
      ]
    },
    {
      "cell_type": "code",
      "execution_count": 96,
      "metadata": {
        "id": "PNmoknUwP7Zg"
      },
      "outputs": [
        {
          "data": {
            "text/plain": [
              "{4168: 0.0005867206517490499,\n",
              " 4276: 0.0005743119497839612,\n",
              " 1679: 0.0005291252211625618,\n",
              " 2908: 0.00045872084811123925,\n",
              " 1014: 0.00045508163625882636,\n",
              " 3031: 0.0004537444093801131,\n",
              " 1284: 0.00044703534612834753,\n",
              " 3538: 0.0004451034429672887,\n",
              " 4447: 0.00044166475992387066,\n",
              " 3390: 0.00044152715601305885}"
            ]
          },
          "execution_count": 96,
          "metadata": {},
          "output_type": "execute_result"
        }
      ],
      "source": [
        "sim_dict"
      ]
    },
    {
      "cell_type": "markdown",
      "metadata": {
        "id": "UbPQ9BSyP7Zg"
      },
      "source": [
        "#### EXERCICI F.2\n",
        "\n",
        "+ Computa les recomanacions per un usuari concret a partir dels ratings dels seus $m$ usuaris més propers. Fes primer una funció que retorni la **weighted average list** dels $m$ usuaris més propers. Feu servir la funció anterior que usava la matriu de similituds per anar més ràpid!! (Nota: la **weighted average list** es calcularà agregant els $n$ items més puntuats de cadascun dels m users més semblants al usuari donat)."
      ]
    },
    {
      "cell_type": "code",
      "execution_count": 97,
      "metadata": {
        "id": "3yI3YDyKP7Zg"
      },
      "outputs": [],
      "source": [
        "from collections import defaultdict\n",
        "\n",
        "def weighted_average(DataFrame, user, sim_mx, m):\n",
        "    \"\"\"\n",
        "    df_counts: usuaris_semblants * pelis\n",
        "    similarity: {user: similarity}\n",
        "\n",
        "    Aquesta funcio calculara el score predit (Score que ha donat l'usuariB * similitud(A,B)) i despres sumara\n",
        "    tots els valors per cada peli; retornara {peli_id: suma de score predit}\n",
        "    \"\"\"\n",
        "\n",
        "    # Creem un diccionari per guardar les pel·licules recomenades i les seves scores\n",
        "    movies_score = defaultdict(int)\n",
        "\n",
        "    # Agafem els m usuaris més semblants al usuari 'user'\n",
        "    similar_users = find_similar_users(DataFrame, sim_mx, user, m)\n",
        "\n",
        "    # Obtenim les pel·licules valorades per l'usuari 'user'\n",
        "    userA_rated_movies = DataFrame.loc[DataFrame['user_id'] == user, 'movie_id'].values\n",
        "\n",
        "    # Calculem la perdicció dels scores de pel·licules desconegudes per l'usuari 'user' en base als 'm' usuaris més semblats a ell\n",
        "    for userB, similarity in similar_users.items():\n",
        "\n",
        "      # Agafem les  pel·liculas valorades per l'usuari B\n",
        "      userB_rated_movies = DataFrame.loc[DataFrame['user_id'] == userB, 'movie_id'].values\n",
        "\n",
        "      # Eliminem les pel·licules valorades per tots dos\n",
        "      movies = np.setdiff1d(userB_rated_movies, userA_rated_movies, assume_unique=True)\n",
        "\n",
        "      \n",
        "\n",
        "      # Obtenim les puntuaciones \n",
        "      userB_values = DataFrame[(DataFrame['movie_id'].isin(movies)) & (DataFrame['user_id'] == userB)][['movie_id', 'rating']].values\n",
        "      \n",
        "      # Actualitzem l'score de la pel·licula recomenada\n",
        "      movies_score.update({movie: movies_score[movie] + rating * similarity for movie, rating in userB_values})\n",
        "\n",
        "    return movies_score"
      ]
    },
    {
      "cell_type": "code",
      "execution_count": 98,
      "metadata": {
        "id": "2NuiveAmP7Zg"
      },
      "outputs": [],
      "source": [
        "def getRecommendationsUser(DataFrame, user, sim_mx, n, m):\n",
        "    \"\"\"\n",
        "    Retorna un dataframe de pel·licules amb els scores.\n",
        "\n",
        "    :param DataFrame: dataframe que conté totes les dades\n",
        "    :param user: usuari al qual fem la recomanació\n",
        "    :param sim_mx: similarity_function\n",
        "    :param n: nombre de pelis a recomanar\n",
        "    :param m: nombre d'usuaris semblants a tenir en compte per les recomanacions\n",
        "    :return : pandas de pelis amb els seus scores predits\n",
        "    \"\"\"\n",
        "\n",
        "    # Agafem les prediccions de les pel·licules no vistes per l'usuari 'user'\n",
        "    predictions = list(weighted_average(DataFrame, user, sim_mx, m).items())\n",
        "\n",
        "    # Ordenem les recomenacions en funció del score\n",
        "    predictions.sort(reverse=True, key=lambda x: x[1])\n",
        "\n",
        "    # Agafem les 'n' millors prediccions \n",
        "    predictions = predictions[:n]\n",
        "\n",
        "    # Creem un diccionari on guardar les recomenacions\n",
        "    recomendations = {'movie_id': [], 'title': [], 'score': []}\n",
        "    \n",
        "    # Afegim titol a les recomenacions\n",
        "    for m_id, score in predictions:\n",
        "        m_title = np.unique(DataFrame[DataFrame['movie_id'] == m_id]['title'])[0]\n",
        "\n",
        "        # Actualirzem les recomenacions\n",
        "        recomendations['movie_id'].append(m_id)\n",
        "        recomendations['title'].append(m_title)\n",
        "        recomendations['score'].append(score)\n",
        "    \n",
        "    return pd.DataFrame(recomendations)"
      ]
    },
    {
      "cell_type": "code",
      "execution_count": 99,
      "metadata": {
        "id": "klgTGTWUP7Zg"
      },
      "outputs": [
        {
          "name": "stdout",
          "output_type": "stream",
          "text": [
            "0:00:00.246876\n"
          ]
        }
      ],
      "source": [
        "t = datetime.datetime.now()\n",
        "user_prediction = getRecommendationsUser(data, 3, sim, 10, 50)\n",
        "t = datetime.datetime.now()-t\n",
        "print(str(t))"
      ]
    },
    {
      "cell_type": "code",
      "execution_count": 100,
      "metadata": {
        "id": "-d764lkEP7Zg"
      },
      "outputs": [
        {
          "data": {
            "text/html": [
              "<div>\n",
              "<style scoped>\n",
              "    .dataframe tbody tr th:only-of-type {\n",
              "        vertical-align: middle;\n",
              "    }\n",
              "\n",
              "    .dataframe tbody tr th {\n",
              "        vertical-align: top;\n",
              "    }\n",
              "\n",
              "    .dataframe thead th {\n",
              "        text-align: right;\n",
              "    }\n",
              "</style>\n",
              "<table border=\"1\" class=\"dataframe\">\n",
              "  <thead>\n",
              "    <tr style=\"text-align: right;\">\n",
              "      <th></th>\n",
              "      <th>movie_id</th>\n",
              "      <th>title</th>\n",
              "      <th>score</th>\n",
              "    </tr>\n",
              "  </thead>\n",
              "  <tbody>\n",
              "    <tr>\n",
              "      <th>0</th>\n",
              "      <td>579</td>\n",
              "      <td>Silence of the Lambs, The (1991)</td>\n",
              "      <td>0.105204</td>\n",
              "    </tr>\n",
              "    <tr>\n",
              "      <th>1</th>\n",
              "      <td>1485</td>\n",
              "      <td>L.A. Confidential (1997)</td>\n",
              "      <td>0.103395</td>\n",
              "    </tr>\n",
              "    <tr>\n",
              "      <th>2</th>\n",
              "      <td>802</td>\n",
              "      <td>Godfather, The (1972)</td>\n",
              "      <td>0.103323</td>\n",
              "    </tr>\n",
              "    <tr>\n",
              "      <th>3</th>\n",
              "      <td>287</td>\n",
              "      <td>Pulp Fiction (1994)</td>\n",
              "      <td>0.102716</td>\n",
              "    </tr>\n",
              "    <tr>\n",
              "      <th>4</th>\n",
              "      <td>593</td>\n",
              "      <td>Fargo (1996)</td>\n",
              "      <td>0.100621</td>\n",
              "    </tr>\n",
              "    <tr>\n",
              "      <th>5</th>\n",
              "      <td>858</td>\n",
              "      <td>Wizard of Oz, The (1939)</td>\n",
              "      <td>0.099163</td>\n",
              "    </tr>\n",
              "    <tr>\n",
              "      <th>6</th>\n",
              "      <td>2374</td>\n",
              "      <td>Matrix, The (1999)</td>\n",
              "      <td>0.098296</td>\n",
              "    </tr>\n",
              "    <tr>\n",
              "      <th>7</th>\n",
              "      <td>1178</td>\n",
              "      <td>Back to the Future (1985)</td>\n",
              "      <td>0.096294</td>\n",
              "    </tr>\n",
              "    <tr>\n",
              "      <th>8</th>\n",
              "      <td>2557</td>\n",
              "      <td>Sixth Sense, The (1999)</td>\n",
              "      <td>0.095588</td>\n",
              "    </tr>\n",
              "    <tr>\n",
              "      <th>9</th>\n",
              "      <td>575</td>\n",
              "      <td>Terminator 2: Judgment Day (1991)</td>\n",
              "      <td>0.095445</td>\n",
              "    </tr>\n",
              "  </tbody>\n",
              "</table>\n",
              "</div>"
            ],
            "text/plain": [
              "   movie_id                              title     score\n",
              "0       579   Silence of the Lambs, The (1991)  0.105204\n",
              "1      1485           L.A. Confidential (1997)  0.103395\n",
              "2       802              Godfather, The (1972)  0.103323\n",
              "3       287                Pulp Fiction (1994)  0.102716\n",
              "4       593                       Fargo (1996)  0.100621\n",
              "5       858           Wizard of Oz, The (1939)  0.099163\n",
              "6      2374                 Matrix, The (1999)  0.098296\n",
              "7      1178          Back to the Future (1985)  0.096294\n",
              "8      2557            Sixth Sense, The (1999)  0.095588\n",
              "9       575  Terminator 2: Judgment Day (1991)  0.095445"
            ]
          },
          "execution_count": 100,
          "metadata": {},
          "output_type": "execute_result"
        }
      ],
      "source": [
        "user_prediction"
      ]
    },
    {
      "cell_type": "markdown",
      "metadata": {
        "id": "6IR0h3wxP7Zg"
      },
      "source": [
        "### 3.7. EXERCICI G\n"
      ]
    },
    {
      "cell_type": "markdown",
      "metadata": {
        "id": "D5EyEY-bP7Zg"
      },
      "source": [
        "A continuació usarem la metrica **Mean Absolute Error (MAE)** per evaluar el nostre sistema. Aquesta mètrica ens permetrà mesurar la diferencia entre dues llistes donat un usuari:\n",
        "+ La llista amb els ratings originals d'un usuari donat\n",
        "+ La llista de les prediccions generades per aquest usuari"
      ]
    },
    {
      "cell_type": "markdown",
      "metadata": {
        "id": "SvBzL78TP7Zh"
      },
      "source": [
        "#### EXERCICI G.1\n",
        "\n",
        "+ Treu el 10% dels usuaris i reserva aquests en una variable anomenada ``test_set`` i la resta en una variable anomenada ``train_set``."
      ]
    },
    {
      "cell_type": "code",
      "execution_count": 56,
      "metadata": {
        "id": "pb3SP-7CP7Zh"
      },
      "outputs": [],
      "source": [
        "import random\n",
        "unique_users = data['user_id'].unique()\n",
        "n_test_users = int(len(unique_users)*0.1)\n",
        "n_train_users = len(unique_users) - n_test_users\n",
        "\n",
        "test_users = random.sample(list(unique_users), n_test_users)\n",
        "\n",
        "test_set = data[data['user_id'].isin(test_users)]\n",
        "train_set = data[~data['user_id'].isin(test_users)]\n",
        "\n",
        "assert test_set.shape[0] + train_set.shape[0] == data.shape[0]"
      ]
    },
    {
      "cell_type": "markdown",
      "metadata": {
        "id": "v3YNEH0nP7Zh"
      },
      "source": [
        "+ Què passarà si calculo la matriu de similitud amb ``train_set`` i després intento predir pels usuaris de ``test_set``??"
      ]
    },
    {
      "cell_type": "markdown",
      "metadata": {
        "id": "ytIoPH2BP7Zh"
      },
      "source": [
        "> **Resposta**:\n"
      ]
    },
    {
      "cell_type": "markdown",
      "metadata": {
        "id": "U2jzBv5LP7Zh"
      },
      "source": [
        "#### EXERCICI G.2"
      ]
    },
    {
      "cell_type": "markdown",
      "metadata": {
        "id": "NWDSPAkBP7Zh"
      },
      "source": [
        "+ Selecciona aproximadament el 80% de les interaccions de cada usuari de test i junta-les al ``train_set``. Podem ara evaluar el sistema?\n",
        "\n",
        "\n",
        "> Com la pràctica és molt llarga us donem el codi per un usuari donat i vosaltres només heu de crear la funció que, per cada usuari, afagi el 80% de les intraccions i les unifiqui al dataframe de train."
      ]
    },
    {
      "cell_type": "code",
      "execution_count": 57,
      "metadata": {
        "colab": {
          "base_uri": "https://localhost:8080/",
          "height": 206
        },
        "id": "fQ3xcRhwP7Zh",
        "outputId": "31c25f5a-e6c1-453a-d39c-3ea16f04b298"
      },
      "outputs": [
        {
          "data": {
            "text/html": [
              "<div>\n",
              "<style scoped>\n",
              "    .dataframe tbody tr th:only-of-type {\n",
              "        vertical-align: middle;\n",
              "    }\n",
              "\n",
              "    .dataframe tbody tr th {\n",
              "        vertical-align: top;\n",
              "    }\n",
              "\n",
              "    .dataframe thead th {\n",
              "        text-align: right;\n",
              "    }\n",
              "</style>\n",
              "<table border=\"1\" class=\"dataframe\">\n",
              "  <thead>\n",
              "    <tr style=\"text-align: right;\">\n",
              "      <th></th>\n",
              "      <th>user_id</th>\n",
              "      <th>movie_id</th>\n",
              "      <th>rating</th>\n",
              "      <th>timestamp</th>\n",
              "      <th>gender</th>\n",
              "      <th>age</th>\n",
              "      <th>occupation</th>\n",
              "      <th>zip</th>\n",
              "      <th>title</th>\n",
              "      <th>genres</th>\n",
              "    </tr>\n",
              "  </thead>\n",
              "  <tbody>\n",
              "    <tr>\n",
              "      <th>15</th>\n",
              "      <td>48</td>\n",
              "      <td>1104</td>\n",
              "      <td>4</td>\n",
              "      <td>978813972</td>\n",
              "      <td>M</td>\n",
              "      <td>18</td>\n",
              "      <td>12</td>\n",
              "      <td>77084</td>\n",
              "      <td>One Flew Over the Cuckoo's Nest (1975)</td>\n",
              "      <td>Drama</td>\n",
              "    </tr>\n",
              "    <tr>\n",
              "      <th>16</th>\n",
              "      <td>52</td>\n",
              "      <td>1104</td>\n",
              "      <td>5</td>\n",
              "      <td>977946400</td>\n",
              "      <td>M</td>\n",
              "      <td>25</td>\n",
              "      <td>0</td>\n",
              "      <td>96931</td>\n",
              "      <td>One Flew Over the Cuckoo's Nest (1975)</td>\n",
              "      <td>Drama</td>\n",
              "    </tr>\n",
              "    <tr>\n",
              "      <th>19</th>\n",
              "      <td>58</td>\n",
              "      <td>1104</td>\n",
              "      <td>4</td>\n",
              "      <td>977934292</td>\n",
              "      <td>F</td>\n",
              "      <td>50</td>\n",
              "      <td>1</td>\n",
              "      <td>55413</td>\n",
              "      <td>One Flew Over the Cuckoo's Nest (1975)</td>\n",
              "      <td>Drama</td>\n",
              "    </tr>\n",
              "    <tr>\n",
              "      <th>21</th>\n",
              "      <td>79</td>\n",
              "      <td>1104</td>\n",
              "      <td>4</td>\n",
              "      <td>977786172</td>\n",
              "      <td>M</td>\n",
              "      <td>56</td>\n",
              "      <td>1</td>\n",
              "      <td>49327</td>\n",
              "      <td>One Flew Over the Cuckoo's Nest (1975)</td>\n",
              "      <td>Drama</td>\n",
              "    </tr>\n",
              "    <tr>\n",
              "      <th>41</th>\n",
              "      <td>165</td>\n",
              "      <td>1104</td>\n",
              "      <td>5</td>\n",
              "      <td>977299851</td>\n",
              "      <td>M</td>\n",
              "      <td>18</td>\n",
              "      <td>4</td>\n",
              "      <td>92802</td>\n",
              "      <td>One Flew Over the Cuckoo's Nest (1975)</td>\n",
              "      <td>Drama</td>\n",
              "    </tr>\n",
              "  </tbody>\n",
              "</table>\n",
              "</div>"
            ],
            "text/plain": [
              "    user_id  movie_id  rating  timestamp gender  age  occupation    zip  \\\n",
              "15       48      1104       4  978813972      M   18          12  77084   \n",
              "16       52      1104       5  977946400      M   25           0  96931   \n",
              "19       58      1104       4  977934292      F   50           1  55413   \n",
              "21       79      1104       4  977786172      M   56           1  49327   \n",
              "41      165      1104       5  977299851      M   18           4  92802   \n",
              "\n",
              "                                     title genres  \n",
              "15  One Flew Over the Cuckoo's Nest (1975)  Drama  \n",
              "16  One Flew Over the Cuckoo's Nest (1975)  Drama  \n",
              "19  One Flew Over the Cuckoo's Nest (1975)  Drama  \n",
              "21  One Flew Over the Cuckoo's Nest (1975)  Drama  \n",
              "41  One Flew Over the Cuckoo's Nest (1975)  Drama  "
            ]
          },
          "execution_count": 57,
          "metadata": {},
          "output_type": "execute_result"
        }
      ],
      "source": [
        "test_set.head()"
      ]
    },
    {
      "cell_type": "code",
      "execution_count": 58,
      "metadata": {
        "colab": {
          "base_uri": "https://localhost:8080/"
        },
        "id": "BYZfU7dPP7Zh",
        "outputId": "b126a27d-cefa-4a4a-ffc3-6351cfd8773a"
      },
      "outputs": [
        {
          "data": {
            "text/plain": [
              "user_id\n",
              "4       39.6\n",
              "10      27.4\n",
              "33      32.8\n",
              "45       8.2\n",
              "48      21.6\n",
              "        ... \n",
              "5980    56.0\n",
              "5986    11.8\n",
              "5994    37.2\n",
              "5998     5.4\n",
              "6000    46.8\n",
              "Name: movie_id, Length: 604, dtype: float64"
            ]
          },
          "execution_count": 58,
          "metadata": {},
          "output_type": "execute_result"
        }
      ],
      "source": [
        "# Agafem el 20% de les pelis que ha consumit cada usuari de test\n",
        "groupby_count = test_set.groupby('user_id')['movie_id'].count()*0.2\n",
        "groupby_count"
      ]
    },
    {
      "cell_type": "markdown",
      "metadata": {
        "id": "VI-WXGzSP7Zh"
      },
      "source": [
        "Seleccionem la posició 1 i aquest user_id serà el que usarem pel codi d'exemple (que després haureu de replicar)."
      ]
    },
    {
      "cell_type": "code",
      "execution_count": 59,
      "metadata": {
        "colab": {
          "base_uri": "https://localhost:8080/"
        },
        "id": "6sfp-Vb9P7Zh",
        "outputId": "38a7889f-16c9-4ca7-c1f2-dc93f1ef21f4"
      },
      "outputs": [
        {
          "data": {
            "text/plain": [
              "user_id      4.0\n",
              "movie_id    39.6\n",
              "Name: 0, dtype: float64"
            ]
          },
          "execution_count": 59,
          "metadata": {},
          "output_type": "execute_result"
        }
      ],
      "source": [
        "groupby_count.reset_index().iloc[0]"
      ]
    },
    {
      "cell_type": "code",
      "execution_count": 60,
      "metadata": {
        "id": "ZTAYvP4dP7Zi"
      },
      "outputs": [],
      "source": [
        "n_test_samples = int(groupby_count.reset_index().iloc[1]['movie_id'])\n",
        "u = groupby_count.reset_index().iloc[1]['user_id']"
      ]
    },
    {
      "cell_type": "code",
      "execution_count": 61,
      "metadata": {
        "colab": {
          "base_uri": "https://localhost:8080/"
        },
        "id": "P5f95p2HP7Zi",
        "outputId": "d647e63d-5576-4260-fb42-a7a59510461b"
      },
      "outputs": [
        {
          "name": "stdout",
          "output_type": "stream",
          "text": [
            "TOTAL SAMPLES OF THE USER: 137\n",
            "TOTAL SAMPLES OF THE USER IN TEST SET: 27\n"
          ]
        }
      ],
      "source": [
        "test_set_user = test_set[test_set['user_id'] == u]\n",
        "frame_test = test_set_user.sample(n_test_samples)\n",
        "print(\"TOTAL SAMPLES OF THE USER: \" + str(len(test_set_user)))\n",
        "print(\"TOTAL SAMPLES OF THE USER IN TEST SET: \" + str(len(frame_test)))"
      ]
    },
    {
      "cell_type": "code",
      "execution_count": 137,
      "metadata": {
        "colab": {
          "base_uri": "https://localhost:8080/"
        },
        "id": "8qmGt-X4P7Zi",
        "outputId": "7696a269-950d-442c-d96b-93467b0b745e"
      },
      "outputs": [
        {
          "data": {
            "text/plain": [
              "137"
            ]
          },
          "execution_count": 137,
          "metadata": {},
          "output_type": "execute_result"
        }
      ],
      "source": [
        "len(test_set_user.index)"
      ]
    },
    {
      "cell_type": "code",
      "execution_count": 63,
      "metadata": {
        "colab": {
          "base_uri": "https://localhost:8080/"
        },
        "id": "pz_TV3HbP7Zi",
        "outputId": "7f962af1-f668-493b-80f3-ca06ca4c3789"
      },
      "outputs": [
        {
          "name": "stdout",
          "output_type": "stream",
          "text": [
            "TOTAL SAMPLES OF THE USER IN TRAIN SET: 110\n"
          ]
        }
      ],
      "source": [
        "frame_train = test_set_user[~test_set_user.index.isin(frame_test.index)]\n",
        "print(\"TOTAL SAMPLES OF THE USER IN TRAIN SET: \" + str(len(frame_train)))"
      ]
    },
    {
      "cell_type": "code",
      "execution_count": 64,
      "metadata": {
        "id": "9dKCAp6WP7Zi"
      },
      "outputs": [],
      "source": [
        "assert len(frame_train) + len(frame_test) == len(test_set_user)"
      ]
    },
    {
      "cell_type": "code",
      "execution_count": 171,
      "metadata": {
        "id": "djsGYlMDP7Zi"
      },
      "outputs": [],
      "source": [
        "def add_testdata(traindf, test_set):\n",
        "    \"\"\"\n",
        "    Retorna els N usuaris més similars basat en la correlació de Pearson (no)\n",
        "\n",
        "    :param traindf: dataframe que conté les dades de train\n",
        "    :param test_set: dataframe que conté les dades de test\n",
        "\n",
        "    :return :\n",
        "        - :param 1st: dataframe que conté les dades de train juntament amb el 80% de test seleccionat\n",
        "        - :param 2nd: dataframe que conté les dades de test que queden (20% restant)\n",
        "    \"\"\"\n",
        "\n",
        "    # Agafem el 20% de les pelis que ha valorat cada usuari\n",
        "    groupby_count = test_set.groupby('user_id')['movie_id'].count() * 0.2\n",
        "    users_views = groupby_count.reset_index()\n",
        "\n",
        "    rest_dict = {key: [] for key in traindf.columns}\n",
        "    train_dict = {key: [] for key in traindf.columns}\n",
        "\n",
        "    for user, views in tqdm(users_views.itertuples(index=False), total=len(users_views)):\n",
        "\n",
        "        \n",
        "        test_set_user = test_set[test_set['user_id'] == user]\n",
        "        frame_test = test_set_user.sample(int(views))\n",
        "        frame_train = test_set_user[~test_set_user.index.isin(frame_test.index)]\n",
        "\n",
        "        for key in traindf.columns.values:\n",
        "            rest_dict[key].extend(frame_test[key])\n",
        "            train_dict[key].extend(frame_train[key])\n",
        "\n",
        "    rest = pd.DataFrame(rest_dict)\n",
        "    traindf = pd.concat([traindf, pd.DataFrame(train_dict)], ignore_index=True)\n",
        "\n",
        "    return traindf, rest\n"
      ]
    },
    {
      "cell_type": "code",
      "execution_count": 101,
      "metadata": {
        "colab": {
          "base_uri": "https://localhost:8080/"
        },
        "id": "SoJpazXWP7Zi",
        "outputId": "790a8a4a-2c9b-4412-c829-a7a0c4da2bfa"
      },
      "outputs": [
        {
          "name": "stderr",
          "output_type": "stream",
          "text": [
            "100%|██████████| 604/604 [00:00<00:00, 2407.35it/s]\n"
          ]
        }
      ],
      "source": [
        "train, test = add_testdata(train_set, test_set)"
      ]
    },
    {
      "cell_type": "code",
      "execution_count": 141,
      "metadata": {},
      "outputs": [
        {
          "data": {
            "text/plain": [
              "True"
            ]
          },
          "execution_count": 141,
          "metadata": {},
          "output_type": "execute_result"
        }
      ],
      "source": [
        "test['user_id'].isin(train['user_id']).all()"
      ]
    },
    {
      "cell_type": "code",
      "execution_count": 67,
      "metadata": {
        "colab": {
          "base_uri": "https://localhost:8080/",
          "height": 423
        },
        "id": "uEncKgQIP7Zi",
        "outputId": "8eb6f7ad-5933-4140-998d-315e2f75cbd2"
      },
      "outputs": [
        {
          "data": {
            "text/html": [
              "<div>\n",
              "<style scoped>\n",
              "    .dataframe tbody tr th:only-of-type {\n",
              "        vertical-align: middle;\n",
              "    }\n",
              "\n",
              "    .dataframe tbody tr th {\n",
              "        vertical-align: top;\n",
              "    }\n",
              "\n",
              "    .dataframe thead th {\n",
              "        text-align: right;\n",
              "    }\n",
              "</style>\n",
              "<table border=\"1\" class=\"dataframe\">\n",
              "  <thead>\n",
              "    <tr style=\"text-align: right;\">\n",
              "      <th></th>\n",
              "      <th>user_id</th>\n",
              "      <th>movie_id</th>\n",
              "      <th>rating</th>\n",
              "      <th>timestamp</th>\n",
              "      <th>gender</th>\n",
              "      <th>age</th>\n",
              "      <th>occupation</th>\n",
              "      <th>zip</th>\n",
              "      <th>title</th>\n",
              "      <th>genres</th>\n",
              "    </tr>\n",
              "  </thead>\n",
              "  <tbody>\n",
              "    <tr>\n",
              "      <th>0</th>\n",
              "      <td>0</td>\n",
              "      <td>1104</td>\n",
              "      <td>5</td>\n",
              "      <td>978300760</td>\n",
              "      <td>F</td>\n",
              "      <td>1</td>\n",
              "      <td>10</td>\n",
              "      <td>48067</td>\n",
              "      <td>One Flew Over the Cuckoo's Nest (1975)</td>\n",
              "      <td>Drama</td>\n",
              "    </tr>\n",
              "    <tr>\n",
              "      <th>1</th>\n",
              "      <td>1</td>\n",
              "      <td>1104</td>\n",
              "      <td>5</td>\n",
              "      <td>978298413</td>\n",
              "      <td>M</td>\n",
              "      <td>56</td>\n",
              "      <td>16</td>\n",
              "      <td>70072</td>\n",
              "      <td>One Flew Over the Cuckoo's Nest (1975)</td>\n",
              "      <td>Drama</td>\n",
              "    </tr>\n",
              "    <tr>\n",
              "      <th>2</th>\n",
              "      <td>11</td>\n",
              "      <td>1104</td>\n",
              "      <td>4</td>\n",
              "      <td>978220179</td>\n",
              "      <td>M</td>\n",
              "      <td>25</td>\n",
              "      <td>12</td>\n",
              "      <td>32793</td>\n",
              "      <td>One Flew Over the Cuckoo's Nest (1975)</td>\n",
              "      <td>Drama</td>\n",
              "    </tr>\n",
              "    <tr>\n",
              "      <th>3</th>\n",
              "      <td>14</td>\n",
              "      <td>1104</td>\n",
              "      <td>4</td>\n",
              "      <td>978199279</td>\n",
              "      <td>M</td>\n",
              "      <td>25</td>\n",
              "      <td>7</td>\n",
              "      <td>22903</td>\n",
              "      <td>One Flew Over the Cuckoo's Nest (1975)</td>\n",
              "      <td>Drama</td>\n",
              "    </tr>\n",
              "    <tr>\n",
              "      <th>4</th>\n",
              "      <td>16</td>\n",
              "      <td>1104</td>\n",
              "      <td>5</td>\n",
              "      <td>978158471</td>\n",
              "      <td>M</td>\n",
              "      <td>50</td>\n",
              "      <td>1</td>\n",
              "      <td>95350</td>\n",
              "      <td>One Flew Over the Cuckoo's Nest (1975)</td>\n",
              "      <td>Drama</td>\n",
              "    </tr>\n",
              "    <tr>\n",
              "      <th>...</th>\n",
              "      <td>...</td>\n",
              "      <td>...</td>\n",
              "      <td>...</td>\n",
              "      <td>...</td>\n",
              "      <td>...</td>\n",
              "      <td>...</td>\n",
              "      <td>...</td>\n",
              "      <td>...</td>\n",
              "      <td>...</td>\n",
              "      <td>...</td>\n",
              "    </tr>\n",
              "    <tr>\n",
              "      <th>979700</th>\n",
              "      <td>6000</td>\n",
              "      <td>2295</td>\n",
              "      <td>4</td>\n",
              "      <td>956810425</td>\n",
              "      <td>F</td>\n",
              "      <td>25</td>\n",
              "      <td>7</td>\n",
              "      <td>94117</td>\n",
              "      <td>Peeping Tom (1960)</td>\n",
              "      <td>Drama|Horror|Thriller</td>\n",
              "    </tr>\n",
              "    <tr>\n",
              "      <th>979701</th>\n",
              "      <td>6000</td>\n",
              "      <td>3313</td>\n",
              "      <td>4</td>\n",
              "      <td>956807744</td>\n",
              "      <td>F</td>\n",
              "      <td>25</td>\n",
              "      <td>7</td>\n",
              "      <td>94117</td>\n",
              "      <td>Prick Up Your Ears (1987)</td>\n",
              "      <td>Drama</td>\n",
              "    </tr>\n",
              "    <tr>\n",
              "      <th>979702</th>\n",
              "      <td>6000</td>\n",
              "      <td>3700</td>\n",
              "      <td>4</td>\n",
              "      <td>1004811080</td>\n",
              "      <td>F</td>\n",
              "      <td>25</td>\n",
              "      <td>7</td>\n",
              "      <td>94117</td>\n",
              "      <td>Get Carter (1971)</td>\n",
              "      <td>Thriller</td>\n",
              "    </tr>\n",
              "    <tr>\n",
              "      <th>979703</th>\n",
              "      <td>6000</td>\n",
              "      <td>640</td>\n",
              "      <td>3</td>\n",
              "      <td>956810840</td>\n",
              "      <td>F</td>\n",
              "      <td>25</td>\n",
              "      <td>7</td>\n",
              "      <td>94117</td>\n",
              "      <td>Fear (1996)</td>\n",
              "      <td>Thriller</td>\n",
              "    </tr>\n",
              "    <tr>\n",
              "      <th>979704</th>\n",
              "      <td>6000</td>\n",
              "      <td>789</td>\n",
              "      <td>4</td>\n",
              "      <td>960441227</td>\n",
              "      <td>F</td>\n",
              "      <td>25</td>\n",
              "      <td>7</td>\n",
              "      <td>94117</td>\n",
              "      <td>Eyes Without a Face (1959)</td>\n",
              "      <td>Horror</td>\n",
              "    </tr>\n",
              "  </tbody>\n",
              "</table>\n",
              "<p>979705 rows × 10 columns</p>\n",
              "</div>"
            ],
            "text/plain": [
              "        user_id  movie_id  rating   timestamp gender  age  occupation    zip  \\\n",
              "0             0      1104       5   978300760      F    1          10  48067   \n",
              "1             1      1104       5   978298413      M   56          16  70072   \n",
              "2            11      1104       4   978220179      M   25          12  32793   \n",
              "3            14      1104       4   978199279      M   25           7  22903   \n",
              "4            16      1104       5   978158471      M   50           1  95350   \n",
              "...         ...       ...     ...         ...    ...  ...         ...    ...   \n",
              "979700     6000      2295       4   956810425      F   25           7  94117   \n",
              "979701     6000      3313       4   956807744      F   25           7  94117   \n",
              "979702     6000      3700       4  1004811080      F   25           7  94117   \n",
              "979703     6000       640       3   956810840      F   25           7  94117   \n",
              "979704     6000       789       4   960441227      F   25           7  94117   \n",
              "\n",
              "                                         title                 genres  \n",
              "0       One Flew Over the Cuckoo's Nest (1975)                  Drama  \n",
              "1       One Flew Over the Cuckoo's Nest (1975)                  Drama  \n",
              "2       One Flew Over the Cuckoo's Nest (1975)                  Drama  \n",
              "3       One Flew Over the Cuckoo's Nest (1975)                  Drama  \n",
              "4       One Flew Over the Cuckoo's Nest (1975)                  Drama  \n",
              "...                                        ...                    ...  \n",
              "979700                      Peeping Tom (1960)  Drama|Horror|Thriller  \n",
              "979701               Prick Up Your Ears (1987)                  Drama  \n",
              "979702                       Get Carter (1971)               Thriller  \n",
              "979703                             Fear (1996)               Thriller  \n",
              "979704              Eyes Without a Face (1959)                 Horror  \n",
              "\n",
              "[979705 rows x 10 columns]"
            ]
          },
          "execution_count": 67,
          "metadata": {},
          "output_type": "execute_result"
        }
      ],
      "source": [
        "train"
      ]
    },
    {
      "cell_type": "code",
      "execution_count": 68,
      "metadata": {
        "colab": {
          "base_uri": "https://localhost:8080/",
          "height": 423
        },
        "id": "KILpnzHVP7Zi",
        "outputId": "9402bd07-372c-488a-a709-730997cc3cec"
      },
      "outputs": [
        {
          "data": {
            "text/html": [
              "<div>\n",
              "<style scoped>\n",
              "    .dataframe tbody tr th:only-of-type {\n",
              "        vertical-align: middle;\n",
              "    }\n",
              "\n",
              "    .dataframe tbody tr th {\n",
              "        vertical-align: top;\n",
              "    }\n",
              "\n",
              "    .dataframe thead th {\n",
              "        text-align: right;\n",
              "    }\n",
              "</style>\n",
              "<table border=\"1\" class=\"dataframe\">\n",
              "  <thead>\n",
              "    <tr style=\"text-align: right;\">\n",
              "      <th></th>\n",
              "      <th>user_id</th>\n",
              "      <th>movie_id</th>\n",
              "      <th>rating</th>\n",
              "      <th>timestamp</th>\n",
              "      <th>gender</th>\n",
              "      <th>age</th>\n",
              "      <th>occupation</th>\n",
              "      <th>zip</th>\n",
              "      <th>title</th>\n",
              "      <th>genres</th>\n",
              "    </tr>\n",
              "  </thead>\n",
              "  <tbody>\n",
              "    <tr>\n",
              "      <th>0</th>\n",
              "      <td>4</td>\n",
              "      <td>258</td>\n",
              "      <td>3</td>\n",
              "      <td>978245037</td>\n",
              "      <td>M</td>\n",
              "      <td>25</td>\n",
              "      <td>20</td>\n",
              "      <td>55455</td>\n",
              "      <td>Like Water for Chocolate (Como agua para choco...</td>\n",
              "      <td>Drama|Romance</td>\n",
              "    </tr>\n",
              "    <tr>\n",
              "      <th>1</th>\n",
              "      <td>4</td>\n",
              "      <td>1413</td>\n",
              "      <td>4</td>\n",
              "      <td>978245513</td>\n",
              "      <td>M</td>\n",
              "      <td>25</td>\n",
              "      <td>20</td>\n",
              "      <td>55455</td>\n",
              "      <td>Love! Valour! Compassion! (1997)</td>\n",
              "      <td>Drama|Romance</td>\n",
              "    </tr>\n",
              "    <tr>\n",
              "      <th>2</th>\n",
              "      <td>4</td>\n",
              "      <td>1356</td>\n",
              "      <td>3</td>\n",
              "      <td>978245695</td>\n",
              "      <td>M</td>\n",
              "      <td>25</td>\n",
              "      <td>20</td>\n",
              "      <td>55455</td>\n",
              "      <td>Donnie Brasco (1997)</td>\n",
              "      <td>Crime|Drama</td>\n",
              "    </tr>\n",
              "    <tr>\n",
              "      <th>3</th>\n",
              "      <td>4</td>\n",
              "      <td>2144</td>\n",
              "      <td>5</td>\n",
              "      <td>978243121</td>\n",
              "      <td>M</td>\n",
              "      <td>25</td>\n",
              "      <td>20</td>\n",
              "      <td>55455</td>\n",
              "      <td>Velvet Goldmine (1998)</td>\n",
              "      <td>Drama</td>\n",
              "    </tr>\n",
              "    <tr>\n",
              "      <th>4</th>\n",
              "      <td>4</td>\n",
              "      <td>2078</td>\n",
              "      <td>2</td>\n",
              "      <td>978246033</td>\n",
              "      <td>M</td>\n",
              "      <td>25</td>\n",
              "      <td>20</td>\n",
              "      <td>55455</td>\n",
              "      <td>Few Good Men, A (1992)</td>\n",
              "      <td>Crime|Drama</td>\n",
              "    </tr>\n",
              "    <tr>\n",
              "      <th>...</th>\n",
              "      <td>...</td>\n",
              "      <td>...</td>\n",
              "      <td>...</td>\n",
              "      <td>...</td>\n",
              "      <td>...</td>\n",
              "      <td>...</td>\n",
              "      <td>...</td>\n",
              "      <td>...</td>\n",
              "      <td>...</td>\n",
              "      <td>...</td>\n",
              "    </tr>\n",
              "    <tr>\n",
              "      <th>20499</th>\n",
              "      <td>6000</td>\n",
              "      <td>2401</td>\n",
              "      <td>4</td>\n",
              "      <td>1004811365</td>\n",
              "      <td>F</td>\n",
              "      <td>25</td>\n",
              "      <td>7</td>\n",
              "      <td>94117</td>\n",
              "      <td>eXistenZ (1999)</td>\n",
              "      <td>Action|Sci-Fi|Thriller</td>\n",
              "    </tr>\n",
              "    <tr>\n",
              "      <th>20500</th>\n",
              "      <td>6000</td>\n",
              "      <td>2651</td>\n",
              "      <td>5</td>\n",
              "      <td>956801861</td>\n",
              "      <td>F</td>\n",
              "      <td>25</td>\n",
              "      <td>7</td>\n",
              "      <td>94117</td>\n",
              "      <td>American Beauty (1999)</td>\n",
              "      <td>Comedy|Drama</td>\n",
              "    </tr>\n",
              "    <tr>\n",
              "      <th>20501</th>\n",
              "      <td>6000</td>\n",
              "      <td>2999</td>\n",
              "      <td>3</td>\n",
              "      <td>956811341</td>\n",
              "      <td>F</td>\n",
              "      <td>25</td>\n",
              "      <td>7</td>\n",
              "      <td>94117</td>\n",
              "      <td>Pacific Heights (1990)</td>\n",
              "      <td>Thriller</td>\n",
              "    </tr>\n",
              "    <tr>\n",
              "      <th>20502</th>\n",
              "      <td>6000</td>\n",
              "      <td>1126</td>\n",
              "      <td>3</td>\n",
              "      <td>956802336</td>\n",
              "      <td>F</td>\n",
              "      <td>25</td>\n",
              "      <td>7</td>\n",
              "      <td>94117</td>\n",
              "      <td>Big Blue, The (Le Grand Bleu) (1988)</td>\n",
              "      <td>Adventure|Romance</td>\n",
              "    </tr>\n",
              "    <tr>\n",
              "      <th>20503</th>\n",
              "      <td>6000</td>\n",
              "      <td>3434</td>\n",
              "      <td>4</td>\n",
              "      <td>960441074</td>\n",
              "      <td>F</td>\n",
              "      <td>25</td>\n",
              "      <td>7</td>\n",
              "      <td>94117</td>\n",
              "      <td>Eraserhead (1977)</td>\n",
              "      <td>Drama|Horror</td>\n",
              "    </tr>\n",
              "  </tbody>\n",
              "</table>\n",
              "<p>20504 rows × 10 columns</p>\n",
              "</div>"
            ],
            "text/plain": [
              "       user_id  movie_id  rating   timestamp gender  age  occupation    zip  \\\n",
              "0            4       258       3   978245037      M   25          20  55455   \n",
              "1            4      1413       4   978245513      M   25          20  55455   \n",
              "2            4      1356       3   978245695      M   25          20  55455   \n",
              "3            4      2144       5   978243121      M   25          20  55455   \n",
              "4            4      2078       2   978246033      M   25          20  55455   \n",
              "...        ...       ...     ...         ...    ...  ...         ...    ...   \n",
              "20499     6000      2401       4  1004811365      F   25           7  94117   \n",
              "20500     6000      2651       5   956801861      F   25           7  94117   \n",
              "20501     6000      2999       3   956811341      F   25           7  94117   \n",
              "20502     6000      1126       3   956802336      F   25           7  94117   \n",
              "20503     6000      3434       4   960441074      F   25           7  94117   \n",
              "\n",
              "                                                   title  \\\n",
              "0      Like Water for Chocolate (Como agua para choco...   \n",
              "1                       Love! Valour! Compassion! (1997)   \n",
              "2                                   Donnie Brasco (1997)   \n",
              "3                                 Velvet Goldmine (1998)   \n",
              "4                                 Few Good Men, A (1992)   \n",
              "...                                                  ...   \n",
              "20499                                    eXistenZ (1999)   \n",
              "20500                             American Beauty (1999)   \n",
              "20501                             Pacific Heights (1990)   \n",
              "20502               Big Blue, The (Le Grand Bleu) (1988)   \n",
              "20503                                  Eraserhead (1977)   \n",
              "\n",
              "                       genres  \n",
              "0               Drama|Romance  \n",
              "1               Drama|Romance  \n",
              "2                 Crime|Drama  \n",
              "3                       Drama  \n",
              "4                 Crime|Drama  \n",
              "...                       ...  \n",
              "20499  Action|Sci-Fi|Thriller  \n",
              "20500            Comedy|Drama  \n",
              "20501                Thriller  \n",
              "20502       Adventure|Romance  \n",
              "20503            Drama|Horror  \n",
              "\n",
              "[20504 rows x 10 columns]"
            ]
          },
          "execution_count": 68,
          "metadata": {},
          "output_type": "execute_result"
        }
      ],
      "source": [
        "test"
      ]
    },
    {
      "cell_type": "code",
      "execution_count": 69,
      "metadata": {
        "colab": {
          "base_uri": "https://localhost:8080/"
        },
        "id": "67uBOwVtP7Zi",
        "outputId": "9c7687f2-4d69-4f95-f805-8f9cca448e31"
      },
      "outputs": [
        {
          "data": {
            "text/plain": [
              "(979705, 10)"
            ]
          },
          "execution_count": 69,
          "metadata": {},
          "output_type": "execute_result"
        }
      ],
      "source": [
        "train.shape"
      ]
    },
    {
      "cell_type": "code",
      "execution_count": 70,
      "metadata": {
        "colab": {
          "base_uri": "https://localhost:8080/"
        },
        "id": "HCf9wYtSP7Zj",
        "outputId": "f0ebaf6c-a1ec-472f-acd6-4f4b0f509c8f"
      },
      "outputs": [
        {
          "data": {
            "text/plain": [
              "(20504, 10)"
            ]
          },
          "execution_count": 70,
          "metadata": {},
          "output_type": "execute_result"
        }
      ],
      "source": [
        "test.shape"
      ]
    },
    {
      "cell_type": "code",
      "execution_count": 71,
      "metadata": {
        "colab": {
          "base_uri": "https://localhost:8080/"
        },
        "id": "ZHGa6VfUP7Zj",
        "outputId": "c563f126-1251-4fbc-c617-59dfeda3371f"
      },
      "outputs": [
        {
          "data": {
            "text/plain": [
              "(1000209, 10)"
            ]
          },
          "execution_count": 71,
          "metadata": {},
          "output_type": "execute_result"
        }
      ],
      "source": [
        "data.shape"
      ]
    },
    {
      "cell_type": "code",
      "execution_count": 72,
      "metadata": {
        "colab": {
          "base_uri": "https://localhost:8080/"
        },
        "id": "pmlTyGbyu021",
        "outputId": "d05c3aeb-1cb5-411c-92fd-2426febc6150"
      },
      "outputs": [
        {
          "data": {
            "text/plain": [
              "1000209"
            ]
          },
          "execution_count": 72,
          "metadata": {},
          "output_type": "execute_result"
        }
      ],
      "source": [
        "train.shape[0] + test.shape[0]"
      ]
    },
    {
      "cell_type": "code",
      "execution_count": 73,
      "metadata": {
        "colab": {
          "base_uri": "https://localhost:8080/",
          "height": 175
        },
        "id": "swHP61klP7Zj",
        "outputId": "4e54f9ed-bffd-4209-91c0-2af208975169"
      },
      "outputs": [],
      "source": [
        "assert train.shape[0] + test.shape[0] == data.shape[0]"
      ]
    },
    {
      "cell_type": "markdown",
      "metadata": {
        "id": "wPYTwzNUP7Zj"
      },
      "source": [
        "#### EXERCICI G.3"
      ]
    },
    {
      "cell_type": "markdown",
      "metadata": {
        "id": "GhgBD7wfP7Zj"
      },
      "source": [
        "+ Fes una funció que serveixi per evaluar el nostre sistema usant la mètrica MAE."
      ]
    },
    {
      "cell_type": "code",
      "execution_count": 168,
      "metadata": {
        "id": "eeBEH2OgP7Zj"
      },
      "outputs": [],
      "source": [
        "def evaluateRecommendations(train, test, m,n, sim):\n",
        "    \"\"\"\n",
        "    Retorna l'error generat pel model\n",
        "\n",
        "    :param DataFrame: dataframe que conté totes les dades\n",
        "    :param userID: usuari respecte al qual fem la recomanació\n",
        "    :param m: nombre d'usuaris que volem per fer la recomanació\n",
        "    :param n: nombre de pelis a retornar (no)\n",
        "    :param sim: matriu de similitud\n",
        "    :return : Escalar (float) corresponent al MAE\n",
        "    \"\"\"\n",
        "\n",
        "    # Agafem un usuari del conjunt de test\n",
        "    user = test['user_id'][0]\n",
        "\n",
        "    # Agafem les recomanacions generadas a partir de la matriz de similitudes y el conjunt de dades de entrenament\n",
        "    recomendations = getRecommendationsUser(train, user, sim, n, m)\n",
        "    movies = recomendations['movie_id']\n",
        "\n",
        "    # Cogemos del conjunto de prueba las puntuaciones de las valoraciones del usuario de las peliculas que han sido recomendadas\n",
        "    test_ratings = test[(test['user_id'] == user) & (test['movie_id'].isin(movies))]['rating']\n",
        "\n",
        "    # Cogemos las puntuaciones generadas por la recomendación\n",
        "    train_ratings = recomendations['score']\n",
        "\n",
        "    return (train_ratings - test_ratings).sum() / n\n",
        "\n",
        "    \n",
        "    \n",
        "\n"
      ]
    },
    {
      "cell_type": "code",
      "execution_count": 169,
      "metadata": {
        "id": "2TgUt_jcP7Zj"
      },
      "outputs": [
        {
          "name": "stdout",
          "output_type": "stream",
          "text": [
            "0:00:00.270517\n"
          ]
        }
      ],
      "source": [
        "t = datetime.datetime.now()\n",
        "mae = evaluateRecommendations(train, test, 50, 10, sim)\n",
        "t = datetime.datetime.now()-t\n",
        "print(str(t))"
      ]
    },
    {
      "cell_type": "code",
      "execution_count": 170,
      "metadata": {
        "id": "nK0lxsDbP7Zj"
      },
      "outputs": [
        {
          "data": {
            "text/plain": [
              "0.0"
            ]
          },
          "execution_count": 170,
          "metadata": {},
          "output_type": "execute_result"
        }
      ],
      "source": [
        "mae"
      ]
    },
    {
      "cell_type": "markdown",
      "metadata": {
        "id": "96I5_H12P7Zj"
      },
      "source": [
        "### 3.8. EXERCICI H (exercici opcional, no obligatori)\n",
        "\n",
        "\n",
        "+ **Que surt més a compte, fer un recomanador unic pels dos sexes o un per cada sexe?** Justifica la resposta per escrit i amb el codi necessari."
      ]
    }
  ],
  "metadata": {
    "colab": {
      "provenance": []
    },
    "kernelspec": {
      "display_name": "Python 3 (ipykernel)",
      "language": "python",
      "name": "python3"
    },
    "language_info": {
      "codemirror_mode": {
        "name": "ipython",
        "version": 3
      },
      "file_extension": ".py",
      "mimetype": "text/x-python",
      "name": "python",
      "nbconvert_exporter": "python",
      "pygments_lexer": "ipython3",
      "version": "3.11.6"
    }
  },
  "nbformat": 4,
  "nbformat_minor": 0
}
